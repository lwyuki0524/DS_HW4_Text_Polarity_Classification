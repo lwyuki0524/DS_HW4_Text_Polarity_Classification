{
  "nbformat": 4,
  "nbformat_minor": 0,
  "metadata": {
    "colab": {
      "name": "[A4] Text Polarity Classification_110423027_李宛毓.ipynb",
      "provenance": [],
      "collapsed_sections": [
        "JC2aT_lxnDYX"
      ],
      "include_colab_link": true
    },
    "kernelspec": {
      "name": "python3",
      "display_name": "Python 3"
    },
    "language_info": {
      "name": "python"
    },
    "accelerator": "GPU",
    "widgets": {
      "application/vnd.jupyter.widget-state+json": {
        "7f88235bdcc340edbabbcbfbd0d37f12": {
          "model_module": "@jupyter-widgets/controls",
          "model_name": "HBoxModel",
          "model_module_version": "1.5.0",
          "state": {
            "_dom_classes": [],
            "_model_module": "@jupyter-widgets/controls",
            "_model_module_version": "1.5.0",
            "_model_name": "HBoxModel",
            "_view_count": null,
            "_view_module": "@jupyter-widgets/controls",
            "_view_module_version": "1.5.0",
            "_view_name": "HBoxView",
            "box_style": "",
            "children": [
              "IPY_MODEL_9cd45240e15e4c1fa3418bab36ed8ef8",
              "IPY_MODEL_f8b1c6272d8147028052188eae801d5e",
              "IPY_MODEL_df54a62ab8ff4bab9bc66285f11bfd50"
            ],
            "layout": "IPY_MODEL_50dec7b041d74e52a8b348769b7176f1"
          }
        },
        "9cd45240e15e4c1fa3418bab36ed8ef8": {
          "model_module": "@jupyter-widgets/controls",
          "model_name": "HTMLModel",
          "model_module_version": "1.5.0",
          "state": {
            "_dom_classes": [],
            "_model_module": "@jupyter-widgets/controls",
            "_model_module_version": "1.5.0",
            "_model_name": "HTMLModel",
            "_view_count": null,
            "_view_module": "@jupyter-widgets/controls",
            "_view_module_version": "1.5.0",
            "_view_name": "HTMLView",
            "description": "",
            "description_tooltip": null,
            "layout": "IPY_MODEL_56b58a2c0a0449a48d89ac9a770b6e72",
            "placeholder": "​",
            "style": "IPY_MODEL_9b722a06c1bd4581b28f781f17cde2f2",
            "value": "Downloading: 100%"
          }
        },
        "f8b1c6272d8147028052188eae801d5e": {
          "model_module": "@jupyter-widgets/controls",
          "model_name": "FloatProgressModel",
          "model_module_version": "1.5.0",
          "state": {
            "_dom_classes": [],
            "_model_module": "@jupyter-widgets/controls",
            "_model_module_version": "1.5.0",
            "_model_name": "FloatProgressModel",
            "_view_count": null,
            "_view_module": "@jupyter-widgets/controls",
            "_view_module_version": "1.5.0",
            "_view_name": "ProgressView",
            "bar_style": "success",
            "description": "",
            "description_tooltip": null,
            "layout": "IPY_MODEL_ea742cfd7fb24798bf4d7feef4096be1",
            "max": 231508,
            "min": 0,
            "orientation": "horizontal",
            "style": "IPY_MODEL_3dc8c914855941c8ae9df946656b0340",
            "value": 231508
          }
        },
        "df54a62ab8ff4bab9bc66285f11bfd50": {
          "model_module": "@jupyter-widgets/controls",
          "model_name": "HTMLModel",
          "model_module_version": "1.5.0",
          "state": {
            "_dom_classes": [],
            "_model_module": "@jupyter-widgets/controls",
            "_model_module_version": "1.5.0",
            "_model_name": "HTMLModel",
            "_view_count": null,
            "_view_module": "@jupyter-widgets/controls",
            "_view_module_version": "1.5.0",
            "_view_name": "HTMLView",
            "description": "",
            "description_tooltip": null,
            "layout": "IPY_MODEL_c14cfafe8bc9409a96d8797756323511",
            "placeholder": "​",
            "style": "IPY_MODEL_c2cda1e6dd9e47b3ad7e9f35d162e68e",
            "value": " 226k/226k [00:00&lt;00:00, 1.43MB/s]"
          }
        },
        "50dec7b041d74e52a8b348769b7176f1": {
          "model_module": "@jupyter-widgets/base",
          "model_name": "LayoutModel",
          "model_module_version": "1.2.0",
          "state": {
            "_model_module": "@jupyter-widgets/base",
            "_model_module_version": "1.2.0",
            "_model_name": "LayoutModel",
            "_view_count": null,
            "_view_module": "@jupyter-widgets/base",
            "_view_module_version": "1.2.0",
            "_view_name": "LayoutView",
            "align_content": null,
            "align_items": null,
            "align_self": null,
            "border": null,
            "bottom": null,
            "display": null,
            "flex": null,
            "flex_flow": null,
            "grid_area": null,
            "grid_auto_columns": null,
            "grid_auto_flow": null,
            "grid_auto_rows": null,
            "grid_column": null,
            "grid_gap": null,
            "grid_row": null,
            "grid_template_areas": null,
            "grid_template_columns": null,
            "grid_template_rows": null,
            "height": null,
            "justify_content": null,
            "justify_items": null,
            "left": null,
            "margin": null,
            "max_height": null,
            "max_width": null,
            "min_height": null,
            "min_width": null,
            "object_fit": null,
            "object_position": null,
            "order": null,
            "overflow": null,
            "overflow_x": null,
            "overflow_y": null,
            "padding": null,
            "right": null,
            "top": null,
            "visibility": null,
            "width": null
          }
        },
        "56b58a2c0a0449a48d89ac9a770b6e72": {
          "model_module": "@jupyter-widgets/base",
          "model_name": "LayoutModel",
          "model_module_version": "1.2.0",
          "state": {
            "_model_module": "@jupyter-widgets/base",
            "_model_module_version": "1.2.0",
            "_model_name": "LayoutModel",
            "_view_count": null,
            "_view_module": "@jupyter-widgets/base",
            "_view_module_version": "1.2.0",
            "_view_name": "LayoutView",
            "align_content": null,
            "align_items": null,
            "align_self": null,
            "border": null,
            "bottom": null,
            "display": null,
            "flex": null,
            "flex_flow": null,
            "grid_area": null,
            "grid_auto_columns": null,
            "grid_auto_flow": null,
            "grid_auto_rows": null,
            "grid_column": null,
            "grid_gap": null,
            "grid_row": null,
            "grid_template_areas": null,
            "grid_template_columns": null,
            "grid_template_rows": null,
            "height": null,
            "justify_content": null,
            "justify_items": null,
            "left": null,
            "margin": null,
            "max_height": null,
            "max_width": null,
            "min_height": null,
            "min_width": null,
            "object_fit": null,
            "object_position": null,
            "order": null,
            "overflow": null,
            "overflow_x": null,
            "overflow_y": null,
            "padding": null,
            "right": null,
            "top": null,
            "visibility": null,
            "width": null
          }
        },
        "9b722a06c1bd4581b28f781f17cde2f2": {
          "model_module": "@jupyter-widgets/controls",
          "model_name": "DescriptionStyleModel",
          "model_module_version": "1.5.0",
          "state": {
            "_model_module": "@jupyter-widgets/controls",
            "_model_module_version": "1.5.0",
            "_model_name": "DescriptionStyleModel",
            "_view_count": null,
            "_view_module": "@jupyter-widgets/base",
            "_view_module_version": "1.2.0",
            "_view_name": "StyleView",
            "description_width": ""
          }
        },
        "ea742cfd7fb24798bf4d7feef4096be1": {
          "model_module": "@jupyter-widgets/base",
          "model_name": "LayoutModel",
          "model_module_version": "1.2.0",
          "state": {
            "_model_module": "@jupyter-widgets/base",
            "_model_module_version": "1.2.0",
            "_model_name": "LayoutModel",
            "_view_count": null,
            "_view_module": "@jupyter-widgets/base",
            "_view_module_version": "1.2.0",
            "_view_name": "LayoutView",
            "align_content": null,
            "align_items": null,
            "align_self": null,
            "border": null,
            "bottom": null,
            "display": null,
            "flex": null,
            "flex_flow": null,
            "grid_area": null,
            "grid_auto_columns": null,
            "grid_auto_flow": null,
            "grid_auto_rows": null,
            "grid_column": null,
            "grid_gap": null,
            "grid_row": null,
            "grid_template_areas": null,
            "grid_template_columns": null,
            "grid_template_rows": null,
            "height": null,
            "justify_content": null,
            "justify_items": null,
            "left": null,
            "margin": null,
            "max_height": null,
            "max_width": null,
            "min_height": null,
            "min_width": null,
            "object_fit": null,
            "object_position": null,
            "order": null,
            "overflow": null,
            "overflow_x": null,
            "overflow_y": null,
            "padding": null,
            "right": null,
            "top": null,
            "visibility": null,
            "width": null
          }
        },
        "3dc8c914855941c8ae9df946656b0340": {
          "model_module": "@jupyter-widgets/controls",
          "model_name": "ProgressStyleModel",
          "model_module_version": "1.5.0",
          "state": {
            "_model_module": "@jupyter-widgets/controls",
            "_model_module_version": "1.5.0",
            "_model_name": "ProgressStyleModel",
            "_view_count": null,
            "_view_module": "@jupyter-widgets/base",
            "_view_module_version": "1.2.0",
            "_view_name": "StyleView",
            "bar_color": null,
            "description_width": ""
          }
        },
        "c14cfafe8bc9409a96d8797756323511": {
          "model_module": "@jupyter-widgets/base",
          "model_name": "LayoutModel",
          "model_module_version": "1.2.0",
          "state": {
            "_model_module": "@jupyter-widgets/base",
            "_model_module_version": "1.2.0",
            "_model_name": "LayoutModel",
            "_view_count": null,
            "_view_module": "@jupyter-widgets/base",
            "_view_module_version": "1.2.0",
            "_view_name": "LayoutView",
            "align_content": null,
            "align_items": null,
            "align_self": null,
            "border": null,
            "bottom": null,
            "display": null,
            "flex": null,
            "flex_flow": null,
            "grid_area": null,
            "grid_auto_columns": null,
            "grid_auto_flow": null,
            "grid_auto_rows": null,
            "grid_column": null,
            "grid_gap": null,
            "grid_row": null,
            "grid_template_areas": null,
            "grid_template_columns": null,
            "grid_template_rows": null,
            "height": null,
            "justify_content": null,
            "justify_items": null,
            "left": null,
            "margin": null,
            "max_height": null,
            "max_width": null,
            "min_height": null,
            "min_width": null,
            "object_fit": null,
            "object_position": null,
            "order": null,
            "overflow": null,
            "overflow_x": null,
            "overflow_y": null,
            "padding": null,
            "right": null,
            "top": null,
            "visibility": null,
            "width": null
          }
        },
        "c2cda1e6dd9e47b3ad7e9f35d162e68e": {
          "model_module": "@jupyter-widgets/controls",
          "model_name": "DescriptionStyleModel",
          "model_module_version": "1.5.0",
          "state": {
            "_model_module": "@jupyter-widgets/controls",
            "_model_module_version": "1.5.0",
            "_model_name": "DescriptionStyleModel",
            "_view_count": null,
            "_view_module": "@jupyter-widgets/base",
            "_view_module_version": "1.2.0",
            "_view_name": "StyleView",
            "description_width": ""
          }
        },
        "e161d97636b84933a5c5d785d253952b": {
          "model_module": "@jupyter-widgets/controls",
          "model_name": "HBoxModel",
          "model_module_version": "1.5.0",
          "state": {
            "_dom_classes": [],
            "_model_module": "@jupyter-widgets/controls",
            "_model_module_version": "1.5.0",
            "_model_name": "HBoxModel",
            "_view_count": null,
            "_view_module": "@jupyter-widgets/controls",
            "_view_module_version": "1.5.0",
            "_view_name": "HBoxView",
            "box_style": "",
            "children": [
              "IPY_MODEL_d640534a68bc4cb486287bbba4438a10",
              "IPY_MODEL_a4ceeb3039a14355bde8e5fd8ffbc845",
              "IPY_MODEL_0893ce85be084cf29298546f818c76ed"
            ],
            "layout": "IPY_MODEL_39c4f7a3462c4fc1ad01a4d608424c20"
          }
        },
        "d640534a68bc4cb486287bbba4438a10": {
          "model_module": "@jupyter-widgets/controls",
          "model_name": "HTMLModel",
          "model_module_version": "1.5.0",
          "state": {
            "_dom_classes": [],
            "_model_module": "@jupyter-widgets/controls",
            "_model_module_version": "1.5.0",
            "_model_name": "HTMLModel",
            "_view_count": null,
            "_view_module": "@jupyter-widgets/controls",
            "_view_module_version": "1.5.0",
            "_view_name": "HTMLView",
            "description": "",
            "description_tooltip": null,
            "layout": "IPY_MODEL_47a38cbef8484bfc928e98d387e04c21",
            "placeholder": "​",
            "style": "IPY_MODEL_743b2f89ef664ff79fabb4977844525b",
            "value": "Downloading: 100%"
          }
        },
        "a4ceeb3039a14355bde8e5fd8ffbc845": {
          "model_module": "@jupyter-widgets/controls",
          "model_name": "FloatProgressModel",
          "model_module_version": "1.5.0",
          "state": {
            "_dom_classes": [],
            "_model_module": "@jupyter-widgets/controls",
            "_model_module_version": "1.5.0",
            "_model_name": "FloatProgressModel",
            "_view_count": null,
            "_view_module": "@jupyter-widgets/controls",
            "_view_module_version": "1.5.0",
            "_view_name": "ProgressView",
            "bar_style": "success",
            "description": "",
            "description_tooltip": null,
            "layout": "IPY_MODEL_fea379b79d514047b95cb93f2f439552",
            "max": 28,
            "min": 0,
            "orientation": "horizontal",
            "style": "IPY_MODEL_948e20dd447d490eab10d5e3af256278",
            "value": 28
          }
        },
        "0893ce85be084cf29298546f818c76ed": {
          "model_module": "@jupyter-widgets/controls",
          "model_name": "HTMLModel",
          "model_module_version": "1.5.0",
          "state": {
            "_dom_classes": [],
            "_model_module": "@jupyter-widgets/controls",
            "_model_module_version": "1.5.0",
            "_model_name": "HTMLModel",
            "_view_count": null,
            "_view_module": "@jupyter-widgets/controls",
            "_view_module_version": "1.5.0",
            "_view_name": "HTMLView",
            "description": "",
            "description_tooltip": null,
            "layout": "IPY_MODEL_c830b7e9a1db4f1b88a216361f6d0a36",
            "placeholder": "​",
            "style": "IPY_MODEL_a3c4a1642a7f45e18d1e28c15ea0e66c",
            "value": " 28.0/28.0 [00:00&lt;00:00, 586B/s]"
          }
        },
        "39c4f7a3462c4fc1ad01a4d608424c20": {
          "model_module": "@jupyter-widgets/base",
          "model_name": "LayoutModel",
          "model_module_version": "1.2.0",
          "state": {
            "_model_module": "@jupyter-widgets/base",
            "_model_module_version": "1.2.0",
            "_model_name": "LayoutModel",
            "_view_count": null,
            "_view_module": "@jupyter-widgets/base",
            "_view_module_version": "1.2.0",
            "_view_name": "LayoutView",
            "align_content": null,
            "align_items": null,
            "align_self": null,
            "border": null,
            "bottom": null,
            "display": null,
            "flex": null,
            "flex_flow": null,
            "grid_area": null,
            "grid_auto_columns": null,
            "grid_auto_flow": null,
            "grid_auto_rows": null,
            "grid_column": null,
            "grid_gap": null,
            "grid_row": null,
            "grid_template_areas": null,
            "grid_template_columns": null,
            "grid_template_rows": null,
            "height": null,
            "justify_content": null,
            "justify_items": null,
            "left": null,
            "margin": null,
            "max_height": null,
            "max_width": null,
            "min_height": null,
            "min_width": null,
            "object_fit": null,
            "object_position": null,
            "order": null,
            "overflow": null,
            "overflow_x": null,
            "overflow_y": null,
            "padding": null,
            "right": null,
            "top": null,
            "visibility": null,
            "width": null
          }
        },
        "47a38cbef8484bfc928e98d387e04c21": {
          "model_module": "@jupyter-widgets/base",
          "model_name": "LayoutModel",
          "model_module_version": "1.2.0",
          "state": {
            "_model_module": "@jupyter-widgets/base",
            "_model_module_version": "1.2.0",
            "_model_name": "LayoutModel",
            "_view_count": null,
            "_view_module": "@jupyter-widgets/base",
            "_view_module_version": "1.2.0",
            "_view_name": "LayoutView",
            "align_content": null,
            "align_items": null,
            "align_self": null,
            "border": null,
            "bottom": null,
            "display": null,
            "flex": null,
            "flex_flow": null,
            "grid_area": null,
            "grid_auto_columns": null,
            "grid_auto_flow": null,
            "grid_auto_rows": null,
            "grid_column": null,
            "grid_gap": null,
            "grid_row": null,
            "grid_template_areas": null,
            "grid_template_columns": null,
            "grid_template_rows": null,
            "height": null,
            "justify_content": null,
            "justify_items": null,
            "left": null,
            "margin": null,
            "max_height": null,
            "max_width": null,
            "min_height": null,
            "min_width": null,
            "object_fit": null,
            "object_position": null,
            "order": null,
            "overflow": null,
            "overflow_x": null,
            "overflow_y": null,
            "padding": null,
            "right": null,
            "top": null,
            "visibility": null,
            "width": null
          }
        },
        "743b2f89ef664ff79fabb4977844525b": {
          "model_module": "@jupyter-widgets/controls",
          "model_name": "DescriptionStyleModel",
          "model_module_version": "1.5.0",
          "state": {
            "_model_module": "@jupyter-widgets/controls",
            "_model_module_version": "1.5.0",
            "_model_name": "DescriptionStyleModel",
            "_view_count": null,
            "_view_module": "@jupyter-widgets/base",
            "_view_module_version": "1.2.0",
            "_view_name": "StyleView",
            "description_width": ""
          }
        },
        "fea379b79d514047b95cb93f2f439552": {
          "model_module": "@jupyter-widgets/base",
          "model_name": "LayoutModel",
          "model_module_version": "1.2.0",
          "state": {
            "_model_module": "@jupyter-widgets/base",
            "_model_module_version": "1.2.0",
            "_model_name": "LayoutModel",
            "_view_count": null,
            "_view_module": "@jupyter-widgets/base",
            "_view_module_version": "1.2.0",
            "_view_name": "LayoutView",
            "align_content": null,
            "align_items": null,
            "align_self": null,
            "border": null,
            "bottom": null,
            "display": null,
            "flex": null,
            "flex_flow": null,
            "grid_area": null,
            "grid_auto_columns": null,
            "grid_auto_flow": null,
            "grid_auto_rows": null,
            "grid_column": null,
            "grid_gap": null,
            "grid_row": null,
            "grid_template_areas": null,
            "grid_template_columns": null,
            "grid_template_rows": null,
            "height": null,
            "justify_content": null,
            "justify_items": null,
            "left": null,
            "margin": null,
            "max_height": null,
            "max_width": null,
            "min_height": null,
            "min_width": null,
            "object_fit": null,
            "object_position": null,
            "order": null,
            "overflow": null,
            "overflow_x": null,
            "overflow_y": null,
            "padding": null,
            "right": null,
            "top": null,
            "visibility": null,
            "width": null
          }
        },
        "948e20dd447d490eab10d5e3af256278": {
          "model_module": "@jupyter-widgets/controls",
          "model_name": "ProgressStyleModel",
          "model_module_version": "1.5.0",
          "state": {
            "_model_module": "@jupyter-widgets/controls",
            "_model_module_version": "1.5.0",
            "_model_name": "ProgressStyleModel",
            "_view_count": null,
            "_view_module": "@jupyter-widgets/base",
            "_view_module_version": "1.2.0",
            "_view_name": "StyleView",
            "bar_color": null,
            "description_width": ""
          }
        },
        "c830b7e9a1db4f1b88a216361f6d0a36": {
          "model_module": "@jupyter-widgets/base",
          "model_name": "LayoutModel",
          "model_module_version": "1.2.0",
          "state": {
            "_model_module": "@jupyter-widgets/base",
            "_model_module_version": "1.2.0",
            "_model_name": "LayoutModel",
            "_view_count": null,
            "_view_module": "@jupyter-widgets/base",
            "_view_module_version": "1.2.0",
            "_view_name": "LayoutView",
            "align_content": null,
            "align_items": null,
            "align_self": null,
            "border": null,
            "bottom": null,
            "display": null,
            "flex": null,
            "flex_flow": null,
            "grid_area": null,
            "grid_auto_columns": null,
            "grid_auto_flow": null,
            "grid_auto_rows": null,
            "grid_column": null,
            "grid_gap": null,
            "grid_row": null,
            "grid_template_areas": null,
            "grid_template_columns": null,
            "grid_template_rows": null,
            "height": null,
            "justify_content": null,
            "justify_items": null,
            "left": null,
            "margin": null,
            "max_height": null,
            "max_width": null,
            "min_height": null,
            "min_width": null,
            "object_fit": null,
            "object_position": null,
            "order": null,
            "overflow": null,
            "overflow_x": null,
            "overflow_y": null,
            "padding": null,
            "right": null,
            "top": null,
            "visibility": null,
            "width": null
          }
        },
        "a3c4a1642a7f45e18d1e28c15ea0e66c": {
          "model_module": "@jupyter-widgets/controls",
          "model_name": "DescriptionStyleModel",
          "model_module_version": "1.5.0",
          "state": {
            "_model_module": "@jupyter-widgets/controls",
            "_model_module_version": "1.5.0",
            "_model_name": "DescriptionStyleModel",
            "_view_count": null,
            "_view_module": "@jupyter-widgets/base",
            "_view_module_version": "1.2.0",
            "_view_name": "StyleView",
            "description_width": ""
          }
        },
        "d9aba2d597fc4f88acb8f486b1eab6c1": {
          "model_module": "@jupyter-widgets/controls",
          "model_name": "HBoxModel",
          "model_module_version": "1.5.0",
          "state": {
            "_dom_classes": [],
            "_model_module": "@jupyter-widgets/controls",
            "_model_module_version": "1.5.0",
            "_model_name": "HBoxModel",
            "_view_count": null,
            "_view_module": "@jupyter-widgets/controls",
            "_view_module_version": "1.5.0",
            "_view_name": "HBoxView",
            "box_style": "",
            "children": [
              "IPY_MODEL_7277a21c79a74d429676528c10ea97b2",
              "IPY_MODEL_c4554c8c3ebe4df5b7b0734b68678574",
              "IPY_MODEL_deb0b871fc6d4d7b9ffa3e212cc27197"
            ],
            "layout": "IPY_MODEL_6a6e53f7da9d41618bc5396e323c0dac"
          }
        },
        "7277a21c79a74d429676528c10ea97b2": {
          "model_module": "@jupyter-widgets/controls",
          "model_name": "HTMLModel",
          "model_module_version": "1.5.0",
          "state": {
            "_dom_classes": [],
            "_model_module": "@jupyter-widgets/controls",
            "_model_module_version": "1.5.0",
            "_model_name": "HTMLModel",
            "_view_count": null,
            "_view_module": "@jupyter-widgets/controls",
            "_view_module_version": "1.5.0",
            "_view_name": "HTMLView",
            "description": "",
            "description_tooltip": null,
            "layout": "IPY_MODEL_f4d36cd4e89849258ada2a35d7a05c37",
            "placeholder": "​",
            "style": "IPY_MODEL_7a4c04f15e0e478e897aab8d2ea99869",
            "value": "Downloading: 100%"
          }
        },
        "c4554c8c3ebe4df5b7b0734b68678574": {
          "model_module": "@jupyter-widgets/controls",
          "model_name": "FloatProgressModel",
          "model_module_version": "1.5.0",
          "state": {
            "_dom_classes": [],
            "_model_module": "@jupyter-widgets/controls",
            "_model_module_version": "1.5.0",
            "_model_name": "FloatProgressModel",
            "_view_count": null,
            "_view_module": "@jupyter-widgets/controls",
            "_view_module_version": "1.5.0",
            "_view_name": "ProgressView",
            "bar_style": "success",
            "description": "",
            "description_tooltip": null,
            "layout": "IPY_MODEL_0142727bf3334638bf5fa3761335e6c1",
            "max": 570,
            "min": 0,
            "orientation": "horizontal",
            "style": "IPY_MODEL_a84b36a58c2c4164bfba4ec3b321e4ec",
            "value": 570
          }
        },
        "deb0b871fc6d4d7b9ffa3e212cc27197": {
          "model_module": "@jupyter-widgets/controls",
          "model_name": "HTMLModel",
          "model_module_version": "1.5.0",
          "state": {
            "_dom_classes": [],
            "_model_module": "@jupyter-widgets/controls",
            "_model_module_version": "1.5.0",
            "_model_name": "HTMLModel",
            "_view_count": null,
            "_view_module": "@jupyter-widgets/controls",
            "_view_module_version": "1.5.0",
            "_view_name": "HTMLView",
            "description": "",
            "description_tooltip": null,
            "layout": "IPY_MODEL_71594daf7f1248c4bca387ef7178fcc3",
            "placeholder": "​",
            "style": "IPY_MODEL_758bdc8b60a04b71904d31bf7c934266",
            "value": " 570/570 [00:00&lt;00:00, 15.1kB/s]"
          }
        },
        "6a6e53f7da9d41618bc5396e323c0dac": {
          "model_module": "@jupyter-widgets/base",
          "model_name": "LayoutModel",
          "model_module_version": "1.2.0",
          "state": {
            "_model_module": "@jupyter-widgets/base",
            "_model_module_version": "1.2.0",
            "_model_name": "LayoutModel",
            "_view_count": null,
            "_view_module": "@jupyter-widgets/base",
            "_view_module_version": "1.2.0",
            "_view_name": "LayoutView",
            "align_content": null,
            "align_items": null,
            "align_self": null,
            "border": null,
            "bottom": null,
            "display": null,
            "flex": null,
            "flex_flow": null,
            "grid_area": null,
            "grid_auto_columns": null,
            "grid_auto_flow": null,
            "grid_auto_rows": null,
            "grid_column": null,
            "grid_gap": null,
            "grid_row": null,
            "grid_template_areas": null,
            "grid_template_columns": null,
            "grid_template_rows": null,
            "height": null,
            "justify_content": null,
            "justify_items": null,
            "left": null,
            "margin": null,
            "max_height": null,
            "max_width": null,
            "min_height": null,
            "min_width": null,
            "object_fit": null,
            "object_position": null,
            "order": null,
            "overflow": null,
            "overflow_x": null,
            "overflow_y": null,
            "padding": null,
            "right": null,
            "top": null,
            "visibility": null,
            "width": null
          }
        },
        "f4d36cd4e89849258ada2a35d7a05c37": {
          "model_module": "@jupyter-widgets/base",
          "model_name": "LayoutModel",
          "model_module_version": "1.2.0",
          "state": {
            "_model_module": "@jupyter-widgets/base",
            "_model_module_version": "1.2.0",
            "_model_name": "LayoutModel",
            "_view_count": null,
            "_view_module": "@jupyter-widgets/base",
            "_view_module_version": "1.2.0",
            "_view_name": "LayoutView",
            "align_content": null,
            "align_items": null,
            "align_self": null,
            "border": null,
            "bottom": null,
            "display": null,
            "flex": null,
            "flex_flow": null,
            "grid_area": null,
            "grid_auto_columns": null,
            "grid_auto_flow": null,
            "grid_auto_rows": null,
            "grid_column": null,
            "grid_gap": null,
            "grid_row": null,
            "grid_template_areas": null,
            "grid_template_columns": null,
            "grid_template_rows": null,
            "height": null,
            "justify_content": null,
            "justify_items": null,
            "left": null,
            "margin": null,
            "max_height": null,
            "max_width": null,
            "min_height": null,
            "min_width": null,
            "object_fit": null,
            "object_position": null,
            "order": null,
            "overflow": null,
            "overflow_x": null,
            "overflow_y": null,
            "padding": null,
            "right": null,
            "top": null,
            "visibility": null,
            "width": null
          }
        },
        "7a4c04f15e0e478e897aab8d2ea99869": {
          "model_module": "@jupyter-widgets/controls",
          "model_name": "DescriptionStyleModel",
          "model_module_version": "1.5.0",
          "state": {
            "_model_module": "@jupyter-widgets/controls",
            "_model_module_version": "1.5.0",
            "_model_name": "DescriptionStyleModel",
            "_view_count": null,
            "_view_module": "@jupyter-widgets/base",
            "_view_module_version": "1.2.0",
            "_view_name": "StyleView",
            "description_width": ""
          }
        },
        "0142727bf3334638bf5fa3761335e6c1": {
          "model_module": "@jupyter-widgets/base",
          "model_name": "LayoutModel",
          "model_module_version": "1.2.0",
          "state": {
            "_model_module": "@jupyter-widgets/base",
            "_model_module_version": "1.2.0",
            "_model_name": "LayoutModel",
            "_view_count": null,
            "_view_module": "@jupyter-widgets/base",
            "_view_module_version": "1.2.0",
            "_view_name": "LayoutView",
            "align_content": null,
            "align_items": null,
            "align_self": null,
            "border": null,
            "bottom": null,
            "display": null,
            "flex": null,
            "flex_flow": null,
            "grid_area": null,
            "grid_auto_columns": null,
            "grid_auto_flow": null,
            "grid_auto_rows": null,
            "grid_column": null,
            "grid_gap": null,
            "grid_row": null,
            "grid_template_areas": null,
            "grid_template_columns": null,
            "grid_template_rows": null,
            "height": null,
            "justify_content": null,
            "justify_items": null,
            "left": null,
            "margin": null,
            "max_height": null,
            "max_width": null,
            "min_height": null,
            "min_width": null,
            "object_fit": null,
            "object_position": null,
            "order": null,
            "overflow": null,
            "overflow_x": null,
            "overflow_y": null,
            "padding": null,
            "right": null,
            "top": null,
            "visibility": null,
            "width": null
          }
        },
        "a84b36a58c2c4164bfba4ec3b321e4ec": {
          "model_module": "@jupyter-widgets/controls",
          "model_name": "ProgressStyleModel",
          "model_module_version": "1.5.0",
          "state": {
            "_model_module": "@jupyter-widgets/controls",
            "_model_module_version": "1.5.0",
            "_model_name": "ProgressStyleModel",
            "_view_count": null,
            "_view_module": "@jupyter-widgets/base",
            "_view_module_version": "1.2.0",
            "_view_name": "StyleView",
            "bar_color": null,
            "description_width": ""
          }
        },
        "71594daf7f1248c4bca387ef7178fcc3": {
          "model_module": "@jupyter-widgets/base",
          "model_name": "LayoutModel",
          "model_module_version": "1.2.0",
          "state": {
            "_model_module": "@jupyter-widgets/base",
            "_model_module_version": "1.2.0",
            "_model_name": "LayoutModel",
            "_view_count": null,
            "_view_module": "@jupyter-widgets/base",
            "_view_module_version": "1.2.0",
            "_view_name": "LayoutView",
            "align_content": null,
            "align_items": null,
            "align_self": null,
            "border": null,
            "bottom": null,
            "display": null,
            "flex": null,
            "flex_flow": null,
            "grid_area": null,
            "grid_auto_columns": null,
            "grid_auto_flow": null,
            "grid_auto_rows": null,
            "grid_column": null,
            "grid_gap": null,
            "grid_row": null,
            "grid_template_areas": null,
            "grid_template_columns": null,
            "grid_template_rows": null,
            "height": null,
            "justify_content": null,
            "justify_items": null,
            "left": null,
            "margin": null,
            "max_height": null,
            "max_width": null,
            "min_height": null,
            "min_width": null,
            "object_fit": null,
            "object_position": null,
            "order": null,
            "overflow": null,
            "overflow_x": null,
            "overflow_y": null,
            "padding": null,
            "right": null,
            "top": null,
            "visibility": null,
            "width": null
          }
        },
        "758bdc8b60a04b71904d31bf7c934266": {
          "model_module": "@jupyter-widgets/controls",
          "model_name": "DescriptionStyleModel",
          "model_module_version": "1.5.0",
          "state": {
            "_model_module": "@jupyter-widgets/controls",
            "_model_module_version": "1.5.0",
            "_model_name": "DescriptionStyleModel",
            "_view_count": null,
            "_view_module": "@jupyter-widgets/base",
            "_view_module_version": "1.2.0",
            "_view_name": "StyleView",
            "description_width": ""
          }
        }
      }
    }
  },
  "cells": [
    {
      "cell_type": "markdown",
      "metadata": {
        "id": "view-in-github",
        "colab_type": "text"
      },
      "source": [
        "<a href=\"https://colab.research.google.com/github/lwyuki0524/DS_HW4_Text_Polarity_Classification/blob/main/%5BA4%5D_Text_Polarity_Classification_110423027_%E6%9D%8E%E5%AE%9B%E6%AF%93.ipynb\" target=\"_parent\"><img src=\"https://colab.research.google.com/assets/colab-badge.svg\" alt=\"Open In Colab\"/></a>"
      ]
    },
    {
      "cell_type": "markdown",
      "source": [
        "李宛毓 110423027"
      ],
      "metadata": {
        "id": "d61FXnJ0lwaO"
      }
    },
    {
      "cell_type": "markdown",
      "source": [
        "## 載入套件和資料集"
      ],
      "metadata": {
        "id": "-rYwLt56k9K6"
      }
    },
    {
      "cell_type": "code",
      "execution_count": null,
      "metadata": {
        "colab": {
          "base_uri": "https://localhost:8080/"
        },
        "id": "nBGw4TWFk3vC",
        "outputId": "377f77a4-09c2-4746-a974-9671b12995a7"
      },
      "outputs": [
        {
          "output_type": "stream",
          "name": "stdout",
          "text": [
            "Requirement already satisfied: nltk in /usr/local/lib/python3.7/dist-packages (3.2.5)\n",
            "Requirement already satisfied: six in /usr/local/lib/python3.7/dist-packages (from nltk) (1.15.0)\n",
            "\u001b[K     |████████████████████████████████| 4.2 MB 4.2 MB/s \n",
            "\u001b[K     |████████████████████████████████| 84 kB 2.9 MB/s \n",
            "\u001b[K     |████████████████████████████████| 596 kB 42.9 MB/s \n",
            "\u001b[K     |████████████████████████████████| 6.6 MB 40.1 MB/s \n",
            "\u001b[?25h"
          ]
        }
      ],
      "source": [
        "!pip install nltk\n",
        "!pip install -q transformers"
      ]
    },
    {
      "cell_type": "code",
      "source": [
        "# 前處理\n",
        "import pandas as pd\n",
        "import re, string\n",
        "import nltk\n",
        "nltk.download('punkt')\n",
        "nltk.download('wordnet')\n",
        "nltk.download('averaged_perceptron_tagger')\n",
        "from nltk.tokenize import word_tokenize\n",
        "from nltk.stem import WordNetLemmatizer\n",
        "from nltk.corpus import wordnet\n",
        "from nltk import pos_tag\n",
        "\n",
        "# BERT\n",
        "from transformers import BertTokenizer, TFBertForSequenceClassification\n",
        "import tensorflow as tf\n",
        "\n",
        "# Glove\n",
        "from keras.preprocessing.text import Tokenizer\n",
        "from keras.preprocessing.sequence import pad_sequences\n",
        "\n",
        "from gensim.models import KeyedVectors\n",
        "from gensim.scripts.glove2word2vec import glove2word2vec\n",
        "\n",
        "# Word2Vec\n",
        "from gensim.models import Word2Vec\n",
        "import gensim.downloader\n",
        "\n",
        "import numpy as np\n",
        "from sklearn.model_selection import train_test_split"
      ],
      "metadata": {
        "colab": {
          "base_uri": "https://localhost:8080/"
        },
        "id": "4oRI4ChtlBhh",
        "outputId": "3f4cee00-4f48-4a65-9379-2df48322fed5"
      },
      "execution_count": null,
      "outputs": [
        {
          "output_type": "stream",
          "name": "stdout",
          "text": [
            "[nltk_data] Downloading package punkt to /root/nltk_data...\n",
            "[nltk_data]   Unzipping tokenizers/punkt.zip.\n",
            "[nltk_data] Downloading package wordnet to /root/nltk_data...\n",
            "[nltk_data]   Unzipping corpora/wordnet.zip.\n",
            "[nltk_data] Downloading package averaged_perceptron_tagger to\n",
            "[nltk_data]     /root/nltk_data...\n",
            "[nltk_data]   Unzipping taggers/averaged_perceptron_tagger.zip.\n"
          ]
        }
      ]
    },
    {
      "cell_type": "code",
      "source": [
        "train_df = pd.read_csv('train_2022.csv')\n",
        "test_df = pd.read_csv('test_no_answer_2022.csv')\n",
        "train_df"
      ],
      "metadata": {
        "colab": {
          "base_uri": "https://localhost:8080/",
          "height": 424
        },
        "id": "bj5JCGJ8lC7n",
        "outputId": "5634bdcf-afa8-4299-aaca-d0a7f87901f6"
      },
      "execution_count": null,
      "outputs": [
        {
          "output_type": "execute_result",
          "data": {
            "text/plain": [
              "      row_id                                               TEXT  LABEL\n",
              "0          0  director dirk shafer and co-writer greg hinton...      0\n",
              "1          1  a charming , quirky and leisurely paced scotti...      1\n",
              "2          2  the price was good ,  and came quickly though ...      1\n",
              "3          3  i was looking forward to this game for a coupl...      0\n",
              "4          4  arguably the year 's silliest and most incoher...      0\n",
              "...      ...                                                ...    ...\n",
              "1995    1995                  an imaginative comedy\\/thriller .      1\n",
              "1996    1996  a savvy exploration of paranoia and insecurity...      1\n",
              "1997    1997  on the other hand for power grating you ve got...      1\n",
              "1998    1998  like dickens with his passages , mcgrath craft...      1\n",
              "1999    1999  those who would follow haneke on his creepy ex...      1\n",
              "\n",
              "[2000 rows x 3 columns]"
            ],
            "text/html": [
              "\n",
              "  <div id=\"df-36df43ed-2853-45bf-be49-a185cf43e0e0\">\n",
              "    <div class=\"colab-df-container\">\n",
              "      <div>\n",
              "<style scoped>\n",
              "    .dataframe tbody tr th:only-of-type {\n",
              "        vertical-align: middle;\n",
              "    }\n",
              "\n",
              "    .dataframe tbody tr th {\n",
              "        vertical-align: top;\n",
              "    }\n",
              "\n",
              "    .dataframe thead th {\n",
              "        text-align: right;\n",
              "    }\n",
              "</style>\n",
              "<table border=\"1\" class=\"dataframe\">\n",
              "  <thead>\n",
              "    <tr style=\"text-align: right;\">\n",
              "      <th></th>\n",
              "      <th>row_id</th>\n",
              "      <th>TEXT</th>\n",
              "      <th>LABEL</th>\n",
              "    </tr>\n",
              "  </thead>\n",
              "  <tbody>\n",
              "    <tr>\n",
              "      <th>0</th>\n",
              "      <td>0</td>\n",
              "      <td>director dirk shafer and co-writer greg hinton...</td>\n",
              "      <td>0</td>\n",
              "    </tr>\n",
              "    <tr>\n",
              "      <th>1</th>\n",
              "      <td>1</td>\n",
              "      <td>a charming , quirky and leisurely paced scotti...</td>\n",
              "      <td>1</td>\n",
              "    </tr>\n",
              "    <tr>\n",
              "      <th>2</th>\n",
              "      <td>2</td>\n",
              "      <td>the price was good ,  and came quickly though ...</td>\n",
              "      <td>1</td>\n",
              "    </tr>\n",
              "    <tr>\n",
              "      <th>3</th>\n",
              "      <td>3</td>\n",
              "      <td>i was looking forward to this game for a coupl...</td>\n",
              "      <td>0</td>\n",
              "    </tr>\n",
              "    <tr>\n",
              "      <th>4</th>\n",
              "      <td>4</td>\n",
              "      <td>arguably the year 's silliest and most incoher...</td>\n",
              "      <td>0</td>\n",
              "    </tr>\n",
              "    <tr>\n",
              "      <th>...</th>\n",
              "      <td>...</td>\n",
              "      <td>...</td>\n",
              "      <td>...</td>\n",
              "    </tr>\n",
              "    <tr>\n",
              "      <th>1995</th>\n",
              "      <td>1995</td>\n",
              "      <td>an imaginative comedy\\/thriller .</td>\n",
              "      <td>1</td>\n",
              "    </tr>\n",
              "    <tr>\n",
              "      <th>1996</th>\n",
              "      <td>1996</td>\n",
              "      <td>a savvy exploration of paranoia and insecurity...</td>\n",
              "      <td>1</td>\n",
              "    </tr>\n",
              "    <tr>\n",
              "      <th>1997</th>\n",
              "      <td>1997</td>\n",
              "      <td>on the other hand for power grating you ve got...</td>\n",
              "      <td>1</td>\n",
              "    </tr>\n",
              "    <tr>\n",
              "      <th>1998</th>\n",
              "      <td>1998</td>\n",
              "      <td>like dickens with his passages , mcgrath craft...</td>\n",
              "      <td>1</td>\n",
              "    </tr>\n",
              "    <tr>\n",
              "      <th>1999</th>\n",
              "      <td>1999</td>\n",
              "      <td>those who would follow haneke on his creepy ex...</td>\n",
              "      <td>1</td>\n",
              "    </tr>\n",
              "  </tbody>\n",
              "</table>\n",
              "<p>2000 rows × 3 columns</p>\n",
              "</div>\n",
              "      <button class=\"colab-df-convert\" onclick=\"convertToInteractive('df-36df43ed-2853-45bf-be49-a185cf43e0e0')\"\n",
              "              title=\"Convert this dataframe to an interactive table.\"\n",
              "              style=\"display:none;\">\n",
              "        \n",
              "  <svg xmlns=\"http://www.w3.org/2000/svg\" height=\"24px\"viewBox=\"0 0 24 24\"\n",
              "       width=\"24px\">\n",
              "    <path d=\"M0 0h24v24H0V0z\" fill=\"none\"/>\n",
              "    <path d=\"M18.56 5.44l.94 2.06.94-2.06 2.06-.94-2.06-.94-.94-2.06-.94 2.06-2.06.94zm-11 1L8.5 8.5l.94-2.06 2.06-.94-2.06-.94L8.5 2.5l-.94 2.06-2.06.94zm10 10l.94 2.06.94-2.06 2.06-.94-2.06-.94-.94-2.06-.94 2.06-2.06.94z\"/><path d=\"M17.41 7.96l-1.37-1.37c-.4-.4-.92-.59-1.43-.59-.52 0-1.04.2-1.43.59L10.3 9.45l-7.72 7.72c-.78.78-.78 2.05 0 2.83L4 21.41c.39.39.9.59 1.41.59.51 0 1.02-.2 1.41-.59l7.78-7.78 2.81-2.81c.8-.78.8-2.07 0-2.86zM5.41 20L4 18.59l7.72-7.72 1.47 1.35L5.41 20z\"/>\n",
              "  </svg>\n",
              "      </button>\n",
              "      \n",
              "  <style>\n",
              "    .colab-df-container {\n",
              "      display:flex;\n",
              "      flex-wrap:wrap;\n",
              "      gap: 12px;\n",
              "    }\n",
              "\n",
              "    .colab-df-convert {\n",
              "      background-color: #E8F0FE;\n",
              "      border: none;\n",
              "      border-radius: 50%;\n",
              "      cursor: pointer;\n",
              "      display: none;\n",
              "      fill: #1967D2;\n",
              "      height: 32px;\n",
              "      padding: 0 0 0 0;\n",
              "      width: 32px;\n",
              "    }\n",
              "\n",
              "    .colab-df-convert:hover {\n",
              "      background-color: #E2EBFA;\n",
              "      box-shadow: 0px 1px 2px rgba(60, 64, 67, 0.3), 0px 1px 3px 1px rgba(60, 64, 67, 0.15);\n",
              "      fill: #174EA6;\n",
              "    }\n",
              "\n",
              "    [theme=dark] .colab-df-convert {\n",
              "      background-color: #3B4455;\n",
              "      fill: #D2E3FC;\n",
              "    }\n",
              "\n",
              "    [theme=dark] .colab-df-convert:hover {\n",
              "      background-color: #434B5C;\n",
              "      box-shadow: 0px 1px 3px 1px rgba(0, 0, 0, 0.15);\n",
              "      filter: drop-shadow(0px 1px 2px rgba(0, 0, 0, 0.3));\n",
              "      fill: #FFFFFF;\n",
              "    }\n",
              "  </style>\n",
              "\n",
              "      <script>\n",
              "        const buttonEl =\n",
              "          document.querySelector('#df-36df43ed-2853-45bf-be49-a185cf43e0e0 button.colab-df-convert');\n",
              "        buttonEl.style.display =\n",
              "          google.colab.kernel.accessAllowed ? 'block' : 'none';\n",
              "\n",
              "        async function convertToInteractive(key) {\n",
              "          const element = document.querySelector('#df-36df43ed-2853-45bf-be49-a185cf43e0e0');\n",
              "          const dataTable =\n",
              "            await google.colab.kernel.invokeFunction('convertToInteractive',\n",
              "                                                     [key], {});\n",
              "          if (!dataTable) return;\n",
              "\n",
              "          const docLinkHtml = 'Like what you see? Visit the ' +\n",
              "            '<a target=\"_blank\" href=https://colab.research.google.com/notebooks/data_table.ipynb>data table notebook</a>'\n",
              "            + ' to learn more about interactive tables.';\n",
              "          element.innerHTML = '';\n",
              "          dataTable['output_type'] = 'display_data';\n",
              "          await google.colab.output.renderOutput(dataTable, element);\n",
              "          const docLink = document.createElement('div');\n",
              "          docLink.innerHTML = docLinkHtml;\n",
              "          element.appendChild(docLink);\n",
              "        }\n",
              "      </script>\n",
              "    </div>\n",
              "  </div>\n",
              "  "
            ]
          },
          "metadata": {},
          "execution_count": 3
        }
      ]
    },
    {
      "cell_type": "code",
      "source": [
        "test_df"
      ],
      "metadata": {
        "colab": {
          "base_uri": "https://localhost:8080/",
          "height": 424
        },
        "id": "FF9xe5kOlEa5",
        "outputId": "fb8753f0-9fbe-4940-8688-dbbe8f96052e"
      },
      "execution_count": null,
      "outputs": [
        {
          "output_type": "execute_result",
          "data": {
            "text/plain": [
              "       row_id                                               TEXT\n",
              "0           0   good to know if you can t find these elsewhere .\n",
              "1           1  love it !  the grill plates come out and pop i...\n",
              "2           2  i m convinced this was a poorly executed refur...\n",
              "3           3  i would never have complained about that if it...\n",
              "4           4  the photo shows the same whole ,  large candie...\n",
              "...       ...                                                ...\n",
              "10995   10995             i didn t quite get it the first time .\n",
              "10996   10996  i ve tried installing with and without the oem...\n",
              "10997   10997  i was parked at a truck stop in the cincinnati...\n",
              "10998   10998  i recently bought this case after seeing some ...\n",
              "10999   10999  the keyboard types only % of the time and the ...\n",
              "\n",
              "[11000 rows x 2 columns]"
            ],
            "text/html": [
              "\n",
              "  <div id=\"df-08076292-59a5-427f-895d-d181ea33b9d5\">\n",
              "    <div class=\"colab-df-container\">\n",
              "      <div>\n",
              "<style scoped>\n",
              "    .dataframe tbody tr th:only-of-type {\n",
              "        vertical-align: middle;\n",
              "    }\n",
              "\n",
              "    .dataframe tbody tr th {\n",
              "        vertical-align: top;\n",
              "    }\n",
              "\n",
              "    .dataframe thead th {\n",
              "        text-align: right;\n",
              "    }\n",
              "</style>\n",
              "<table border=\"1\" class=\"dataframe\">\n",
              "  <thead>\n",
              "    <tr style=\"text-align: right;\">\n",
              "      <th></th>\n",
              "      <th>row_id</th>\n",
              "      <th>TEXT</th>\n",
              "    </tr>\n",
              "  </thead>\n",
              "  <tbody>\n",
              "    <tr>\n",
              "      <th>0</th>\n",
              "      <td>0</td>\n",
              "      <td>good to know if you can t find these elsewhere .</td>\n",
              "    </tr>\n",
              "    <tr>\n",
              "      <th>1</th>\n",
              "      <td>1</td>\n",
              "      <td>love it !  the grill plates come out and pop i...</td>\n",
              "    </tr>\n",
              "    <tr>\n",
              "      <th>2</th>\n",
              "      <td>2</td>\n",
              "      <td>i m convinced this was a poorly executed refur...</td>\n",
              "    </tr>\n",
              "    <tr>\n",
              "      <th>3</th>\n",
              "      <td>3</td>\n",
              "      <td>i would never have complained about that if it...</td>\n",
              "    </tr>\n",
              "    <tr>\n",
              "      <th>4</th>\n",
              "      <td>4</td>\n",
              "      <td>the photo shows the same whole ,  large candie...</td>\n",
              "    </tr>\n",
              "    <tr>\n",
              "      <th>...</th>\n",
              "      <td>...</td>\n",
              "      <td>...</td>\n",
              "    </tr>\n",
              "    <tr>\n",
              "      <th>10995</th>\n",
              "      <td>10995</td>\n",
              "      <td>i didn t quite get it the first time .</td>\n",
              "    </tr>\n",
              "    <tr>\n",
              "      <th>10996</th>\n",
              "      <td>10996</td>\n",
              "      <td>i ve tried installing with and without the oem...</td>\n",
              "    </tr>\n",
              "    <tr>\n",
              "      <th>10997</th>\n",
              "      <td>10997</td>\n",
              "      <td>i was parked at a truck stop in the cincinnati...</td>\n",
              "    </tr>\n",
              "    <tr>\n",
              "      <th>10998</th>\n",
              "      <td>10998</td>\n",
              "      <td>i recently bought this case after seeing some ...</td>\n",
              "    </tr>\n",
              "    <tr>\n",
              "      <th>10999</th>\n",
              "      <td>10999</td>\n",
              "      <td>the keyboard types only % of the time and the ...</td>\n",
              "    </tr>\n",
              "  </tbody>\n",
              "</table>\n",
              "<p>11000 rows × 2 columns</p>\n",
              "</div>\n",
              "      <button class=\"colab-df-convert\" onclick=\"convertToInteractive('df-08076292-59a5-427f-895d-d181ea33b9d5')\"\n",
              "              title=\"Convert this dataframe to an interactive table.\"\n",
              "              style=\"display:none;\">\n",
              "        \n",
              "  <svg xmlns=\"http://www.w3.org/2000/svg\" height=\"24px\"viewBox=\"0 0 24 24\"\n",
              "       width=\"24px\">\n",
              "    <path d=\"M0 0h24v24H0V0z\" fill=\"none\"/>\n",
              "    <path d=\"M18.56 5.44l.94 2.06.94-2.06 2.06-.94-2.06-.94-.94-2.06-.94 2.06-2.06.94zm-11 1L8.5 8.5l.94-2.06 2.06-.94-2.06-.94L8.5 2.5l-.94 2.06-2.06.94zm10 10l.94 2.06.94-2.06 2.06-.94-2.06-.94-.94-2.06-.94 2.06-2.06.94z\"/><path d=\"M17.41 7.96l-1.37-1.37c-.4-.4-.92-.59-1.43-.59-.52 0-1.04.2-1.43.59L10.3 9.45l-7.72 7.72c-.78.78-.78 2.05 0 2.83L4 21.41c.39.39.9.59 1.41.59.51 0 1.02-.2 1.41-.59l7.78-7.78 2.81-2.81c.8-.78.8-2.07 0-2.86zM5.41 20L4 18.59l7.72-7.72 1.47 1.35L5.41 20z\"/>\n",
              "  </svg>\n",
              "      </button>\n",
              "      \n",
              "  <style>\n",
              "    .colab-df-container {\n",
              "      display:flex;\n",
              "      flex-wrap:wrap;\n",
              "      gap: 12px;\n",
              "    }\n",
              "\n",
              "    .colab-df-convert {\n",
              "      background-color: #E8F0FE;\n",
              "      border: none;\n",
              "      border-radius: 50%;\n",
              "      cursor: pointer;\n",
              "      display: none;\n",
              "      fill: #1967D2;\n",
              "      height: 32px;\n",
              "      padding: 0 0 0 0;\n",
              "      width: 32px;\n",
              "    }\n",
              "\n",
              "    .colab-df-convert:hover {\n",
              "      background-color: #E2EBFA;\n",
              "      box-shadow: 0px 1px 2px rgba(60, 64, 67, 0.3), 0px 1px 3px 1px rgba(60, 64, 67, 0.15);\n",
              "      fill: #174EA6;\n",
              "    }\n",
              "\n",
              "    [theme=dark] .colab-df-convert {\n",
              "      background-color: #3B4455;\n",
              "      fill: #D2E3FC;\n",
              "    }\n",
              "\n",
              "    [theme=dark] .colab-df-convert:hover {\n",
              "      background-color: #434B5C;\n",
              "      box-shadow: 0px 1px 3px 1px rgba(0, 0, 0, 0.15);\n",
              "      filter: drop-shadow(0px 1px 2px rgba(0, 0, 0, 0.3));\n",
              "      fill: #FFFFFF;\n",
              "    }\n",
              "  </style>\n",
              "\n",
              "      <script>\n",
              "        const buttonEl =\n",
              "          document.querySelector('#df-08076292-59a5-427f-895d-d181ea33b9d5 button.colab-df-convert');\n",
              "        buttonEl.style.display =\n",
              "          google.colab.kernel.accessAllowed ? 'block' : 'none';\n",
              "\n",
              "        async function convertToInteractive(key) {\n",
              "          const element = document.querySelector('#df-08076292-59a5-427f-895d-d181ea33b9d5');\n",
              "          const dataTable =\n",
              "            await google.colab.kernel.invokeFunction('convertToInteractive',\n",
              "                                                     [key], {});\n",
              "          if (!dataTable) return;\n",
              "\n",
              "          const docLinkHtml = 'Like what you see? Visit the ' +\n",
              "            '<a target=\"_blank\" href=https://colab.research.google.com/notebooks/data_table.ipynb>data table notebook</a>'\n",
              "            + ' to learn more about interactive tables.';\n",
              "          element.innerHTML = '';\n",
              "          dataTable['output_type'] = 'display_data';\n",
              "          await google.colab.output.renderOutput(dataTable, element);\n",
              "          const docLink = document.createElement('div');\n",
              "          docLink.innerHTML = docLinkHtml;\n",
              "          element.appendChild(docLink);\n",
              "        }\n",
              "      </script>\n",
              "    </div>\n",
              "  </div>\n",
              "  "
            ]
          },
          "metadata": {},
          "execution_count": 4
        }
      ]
    },
    {
      "cell_type": "markdown",
      "source": [
        "## 文字前處理"
      ],
      "metadata": {
        "id": "ruQ0yVNolHME"
      }
    },
    {
      "cell_type": "code",
      "source": [
        "# lowercase\n",
        "train_df[\"TEXT\"] = train_df[\"TEXT\"].str.lower()\n",
        "test_df[\"TEXT\"] = test_df[\"TEXT\"].str.lower()"
      ],
      "metadata": {
        "id": "RSV7TZOOlF82"
      },
      "execution_count": null,
      "outputs": []
    },
    {
      "cell_type": "markdown",
      "source": [
        "##### decontracted + 去除標點符號跟數字\n",
        "* train_sentence\n",
        "* test_sentence\n",
        "\n"
      ],
      "metadata": {
        "id": "gpFId-YwlKiE"
      }
    },
    {
      "cell_type": "code",
      "source": [
        "def decontracted(sent):\n",
        "  # 否定\n",
        "  sent = re.sub( r\"ca n't \",\" can not \",sent)\n",
        "  sent = re.sub( r\"can t \",\" can not \",sent)\n",
        "  sent = re.sub( r\"couldn t \",\" could not \",sent)\n",
        "  sent = re.sub( r\"wo n't \",\" will not \",sent)\n",
        "  sent = re.sub( r\"won t \",\" will not \",sent)\n",
        "  sent = re.sub( r\"would n't \",\" would not \",sent)\n",
        "  sent = re.sub( r\"wouldn t \",\" would not \",sent)\n",
        "  sent = re.sub( r\"n t \",\" not \",sent)\n",
        "  sent = re.sub( r\"n\\'t \",\" not \",sent)\n",
        "\n",
        "  # 肯定\n",
        "  sent = re.sub( r\"'ll \",\" will \",sent)\n",
        "  sent = re.sub( r\" ll \",\" will \",sent)\n",
        "  sent = re.sub( r\"\\'d \",\" would \",sent)\n",
        "  sent = re.sub( r\" d \",\" would \",sent)\n",
        "  sent = re.sub( r\"\\'ve \",\" have \",sent)\n",
        "  sent = re.sub( r\" ve \",\" have \",sent)\n",
        "  sent = re.sub( r\"\\'s \",\" is \",sent)\n",
        "  sent = re.sub( r\" s \",\" is \",sent)\n",
        "  sent = re.sub( r\"\\'m \",\" am \",sent)\n",
        "  sent = re.sub( r\" m \",\" am \",sent)\n",
        "  sent = re.sub( r\"\\'re \",\" are \",sent)\n",
        "  sent = re.sub( r\" re \",\" are \",sent)\n",
        "  return sent\n",
        "\n",
        "# 移除數字 & 標點符號\n",
        "def removed_s(sent):\n",
        "  sent = re.sub( r'[0-9]+', '', sent )\n",
        "  sent = sent.translate(str.maketrans( '', '' , string.punctuation))\n",
        "  return sent"
      ],
      "metadata": {
        "id": "URSHw8FylSc4"
      },
      "execution_count": null,
      "outputs": []
    },
    {
      "cell_type": "code",
      "source": [
        "# decontracted\n",
        "# 去除標點符號跟數字\n",
        "\n",
        "def decontr(df_text):\n",
        "  sentence = []\n",
        "  for row in df_text.TEXT:\n",
        "    sent = decontracted( row ) # decontracted\n",
        "    sent = removed_s( sent ) # 去除標點符號跟數字\n",
        "    sentence.append( sent )\n",
        "  sentence\n",
        "  return sentence\n",
        "\n",
        "train_sentence = decontr( train_df )\n",
        "test_sentence = decontr( test_df )\n",
        "# train_sentence"
      ],
      "metadata": {
        "id": "HJ7R_Xc3lU3m"
      },
      "execution_count": null,
      "outputs": []
    },
    {
      "cell_type": "markdown",
      "source": [
        "##### 切token\n",
        "* train_tokened_sent\n",
        "* test_tokened_sent"
      ],
      "metadata": {
        "id": "1yEB9vHFlYBh"
      }
    },
    {
      "cell_type": "code",
      "source": [
        "# tokenization\n",
        "\n",
        "def tokened(sent):\n",
        "  tokened_sent = []\n",
        "  for row in sent:\n",
        "    tokened_sent.append( word_tokenize( row ) )\n",
        "  return tokened_sent\n",
        "\n",
        "test_tokened_sent = tokened(test_sentence)\n",
        "train_tokened_sent = tokened(train_sentence)\n",
        "\n",
        "# print(train_tokened_sent)\n"
      ],
      "metadata": {
        "id": "WSOlq4GqlYpO"
      },
      "execution_count": null,
      "outputs": []
    },
    {
      "cell_type": "markdown",
      "source": [
        "##### 詞型還原\n",
        "* train_lemmas_sent\n",
        "* test_lemmas_sent"
      ],
      "metadata": {
        "id": "AcC7T765ldSZ"
      }
    },
    {
      "cell_type": "code",
      "source": [
        "# lemmatization\n",
        "\n",
        "# 取得詞性\n",
        "def get_wordnet_pos(tag):\n",
        "  if tag.startswith('J'):\n",
        "    return wordnet.ADJ\n",
        "  elif tag.startswith('V'):\n",
        "    return wordnet.VERB\n",
        "  elif tag.startswith('N'):\n",
        "    return wordnet.NOUN\n",
        "  elif tag.startswith('R'):\n",
        "    return wordnet.ADV\n",
        "  else:\n",
        "    return None\n",
        "\n",
        "#詞型還原\n",
        "def lemmas(tagged_sent):\n",
        "  lemmas_sent = []\n",
        "  for row in tagged_sent:\n",
        "    lemm_word_list = []\n",
        "    for tag in row:\n",
        "      wordnet_pos = get_wordnet_pos(tag[1]) or wordnet.NOUN\n",
        "      lemm_word_list.append(lemmatizer.lemmatize(tag[0], pos=wordnet_pos))\n",
        "    lemmas_sent.append(lemm_word_list)\n",
        "  return lemmas_sent\n",
        "\n",
        "# 標註詞性\n",
        "train_tagged_sent = [pos_tag(tags) for tags in train_tokened_sent]\n",
        "test_tagged_sent = [pos_tag(tags) for tags in test_tokened_sent]\n",
        "\n",
        "#進行詞型還原\n",
        "lemmatizer = WordNetLemmatizer()\n",
        "train_lemmas_sent = lemmas(train_tagged_sent)\n",
        "test_lemmas_sent = lemmas(test_tagged_sent)\n",
        "\n",
        "# print(train_lemmas_sent)"
      ],
      "metadata": {
        "id": "rOqAP7jkld5D"
      },
      "execution_count": null,
      "outputs": []
    },
    {
      "cell_type": "markdown",
      "source": [
        "##### 刪除停用詞\n",
        "* train_stopw_sent\n",
        "* test_stopw_sent"
      ],
      "metadata": {
        "id": "uJBX2A3Hmg8w"
      }
    },
    {
      "cell_type": "code",
      "source": [
        "# 刪除部分停用詞\n",
        "stopwords = [ \"a\", \"about\", \"above\", \"after\", \"again\", \"against\", \"all\", \"am\", \"an\", \"and\", \"any\", \"are\", \"as\", \"at\",\"be\", \"because\", \n",
        "             \"been\", \"before\", \"being\",  \"between\", \"both\", \"by\", \"could\", \"did\", \"do\", \"does\", \"doing\", \"down\", \"during\",\n",
        "             \"each\", \"for\", \"from\",  \"had\", \"has\", \"have\", \"having\", \"he\", \"he'd\", \"he'll\", \"he's\", \"her\", \"here\", \n",
        "             \"here's\", \"hers\", \"herself\", \"him\", \"himself\", \"his\", \"how\", \"how's\", \"i\", \"i'd\", \"i'll\", \"i'm\", \"i've\", \"in\", \"into\",\n",
        "             \"is\", \"it\", \"it's\", \"its\", \"itself\", \"let's\", \"me\", \"more\", \"most\", \"my\", \"myself\", \"of\", \"on\", \"once\", \n",
        "             \"other\", \"ought\", \"our\", \"ours\", \"ourselves\",  \"own\",  \"she\", \"she'd\", \"she'll\", \"she's\", \n",
        "             \"so\", \"some\", \"such\",  \"that\", \"that's\", \"the\", \"their\", \"theirs\", \"them\", \"themselves\", \"then\", \"there\", \"there's\",\n",
        "             \"these\", \"they\", \"they'd\", \"they'll\", \"they're\", \"they've\", \"this\", \"those\", \"through\", \"to\", \"too\",  \n",
        "             \"very\", \"was\", \"we\", \"we'd\", \"we'll\", \"we're\", \"we've\", \"were\", \"what\", \"what's\", \"when\", \"when's\", \"where\", \"where's\",\n",
        "             \"which\", \"while\", \"who\", \"who's\", \"whom\", \"why's\", \"with\", \"would\", \"you\", \"you'd\", \"you'll\", \"you're\", \"you've\",\n",
        "             \"your\", \"yours\", \"yourself\", \"yourselves\" ]\n",
        "\n",
        "def remove_stopwords(lemmas_sent):\n",
        "  removed_stopw = []\n",
        "  for row in lemmas_sent:\n",
        "    removed_stopw_list = []\n",
        "    for tokened in row:\n",
        "      if tokened not in  stopwords:\n",
        "        removed_stopw_list.append(tokened)\n",
        "    removed_stopw.append(removed_stopw_list)\n",
        "  return removed_stopw\n",
        "\n",
        "train_stopw_sent = remove_stopwords( train_lemmas_sent )\n",
        "test_stopw_sent = remove_stopwords( test_lemmas_sent )\n",
        "# print(train_stopw_sent)"
      ],
      "metadata": {
        "id": "CIoEOeV9mekP"
      },
      "execution_count": null,
      "outputs": []
    },
    {
      "cell_type": "markdown",
      "source": [
        "## Word embedding"
      ],
      "metadata": {
        "id": "UgoqC48nm9To"
      }
    },
    {
      "cell_type": "markdown",
      "source": [
        "### BERT\n",
        "* 訓練集：data_train\n",
        "* 驗證集：data_valid"
      ],
      "metadata": {
        "id": "0HR-bhTanBeB"
      }
    },
    {
      "cell_type": "code",
      "source": [
        "# 載入 BERT 預訓練的 Tokenizer\n",
        "bert_tokenizer = BertTokenizer.from_pretrained('bert-base-uncased', do_lower_case=True)"
      ],
      "metadata": {
        "colab": {
          "base_uri": "https://localhost:8080/",
          "height": 113,
          "referenced_widgets": [
            "7f88235bdcc340edbabbcbfbd0d37f12",
            "9cd45240e15e4c1fa3418bab36ed8ef8",
            "f8b1c6272d8147028052188eae801d5e",
            "df54a62ab8ff4bab9bc66285f11bfd50",
            "50dec7b041d74e52a8b348769b7176f1",
            "56b58a2c0a0449a48d89ac9a770b6e72",
            "9b722a06c1bd4581b28f781f17cde2f2",
            "ea742cfd7fb24798bf4d7feef4096be1",
            "3dc8c914855941c8ae9df946656b0340",
            "c14cfafe8bc9409a96d8797756323511",
            "c2cda1e6dd9e47b3ad7e9f35d162e68e",
            "e161d97636b84933a5c5d785d253952b",
            "d640534a68bc4cb486287bbba4438a10",
            "a4ceeb3039a14355bde8e5fd8ffbc845",
            "0893ce85be084cf29298546f818c76ed",
            "39c4f7a3462c4fc1ad01a4d608424c20",
            "47a38cbef8484bfc928e98d387e04c21",
            "743b2f89ef664ff79fabb4977844525b",
            "fea379b79d514047b95cb93f2f439552",
            "948e20dd447d490eab10d5e3af256278",
            "c830b7e9a1db4f1b88a216361f6d0a36",
            "a3c4a1642a7f45e18d1e28c15ea0e66c",
            "d9aba2d597fc4f88acb8f486b1eab6c1",
            "7277a21c79a74d429676528c10ea97b2",
            "c4554c8c3ebe4df5b7b0734b68678574",
            "deb0b871fc6d4d7b9ffa3e212cc27197",
            "6a6e53f7da9d41618bc5396e323c0dac",
            "f4d36cd4e89849258ada2a35d7a05c37",
            "7a4c04f15e0e478e897aab8d2ea99869",
            "0142727bf3334638bf5fa3761335e6c1",
            "a84b36a58c2c4164bfba4ec3b321e4ec",
            "71594daf7f1248c4bca387ef7178fcc3",
            "758bdc8b60a04b71904d31bf7c934266"
          ]
        },
        "id": "X9cvQd-2nBDJ",
        "outputId": "61650175-2cf4-45d5-edd6-a6c28318f486"
      },
      "execution_count": null,
      "outputs": [
        {
          "output_type": "display_data",
          "data": {
            "text/plain": [
              "Downloading:   0%|          | 0.00/226k [00:00<?, ?B/s]"
            ],
            "application/vnd.jupyter.widget-view+json": {
              "version_major": 2,
              "version_minor": 0,
              "model_id": "7f88235bdcc340edbabbcbfbd0d37f12"
            }
          },
          "metadata": {}
        },
        {
          "output_type": "display_data",
          "data": {
            "text/plain": [
              "Downloading:   0%|          | 0.00/28.0 [00:00<?, ?B/s]"
            ],
            "application/vnd.jupyter.widget-view+json": {
              "version_major": 2,
              "version_minor": 0,
              "model_id": "e161d97636b84933a5c5d785d253952b"
            }
          },
          "metadata": {}
        },
        {
          "output_type": "display_data",
          "data": {
            "text/plain": [
              "Downloading:   0%|          | 0.00/570 [00:00<?, ?B/s]"
            ],
            "application/vnd.jupyter.widget-view+json": {
              "version_major": 2,
              "version_minor": 0,
              "model_id": "d9aba2d597fc4f88acb8f486b1eab6c1"
            }
          },
          "metadata": {}
        }
      ]
    },
    {
      "cell_type": "code",
      "source": [
        "# 使用 BERT 對句子進行編碼、補零\n",
        "\n",
        "max_length = 130 # 句子編碼後的長度\n",
        "\n",
        "# 儲存 bert 要輸入的三個格式的串列\n",
        "input_ids_list = [] \n",
        "token_type_ids_list = [] \n",
        "attention_mask_list = [] \n",
        "label_list = []\n",
        "\n",
        "dict_train = {}\n",
        "def train_dict_label(input_ids, attention_masks, token_type_ids, label):\n",
        "  return { \"input_ids\": input_ids, \"token_type_ids\": token_type_ids, \"attention_mask\": attention_masks,}, label\n",
        "\n",
        "for index, row in enumerate(train_tokened_sent): # train_sentence:不切Token ； train_tokened_sent:切了token ； train_lemmas_sent ：詞型還原 ； train_stopw_sent ：刪除停用詞\n",
        "  # 將要輸入的句子編碼、補零\n",
        "  encoded = bert_tokenizer(row, padding='max_length', truncation=True, max_length = max_length, is_split_into_words=True) # , is_split_into_words=True # 切了token要加上這個\n",
        "\n",
        "  # bert 要輸入的三個格式: input_ids、token_type_ids、attention_mask\n",
        "  input_ids_list.append( encoded['input_ids'] ) \n",
        "  token_type_ids_list.append( encoded['token_type_ids'] ) \n",
        "  attention_mask_list.append( encoded['attention_mask'] )\n",
        "  # label\n",
        "  label_list.append( [train_df[\"LABEL\"][index]] )\n",
        "\n",
        "# 創建{input_ids、token_type_ids、attention_mask}對應 label 的資料集\n",
        "train_df_encoded = tf.data.Dataset.from_tensor_slices((input_ids_list, attention_mask_list, token_type_ids_list, label_list)).map(train_dict_label)\n",
        "print( train_df_encoded )"
      ],
      "metadata": {
        "colab": {
          "base_uri": "https://localhost:8080/"
        },
        "id": "tgflaozlnj1G",
        "outputId": "950f2a9c-94e3-435a-e29c-4936d210f9ab"
      },
      "execution_count": null,
      "outputs": [
        {
          "output_type": "stream",
          "name": "stdout",
          "text": [
            "<MapDataset element_spec=({'input_ids': TensorSpec(shape=(130,), dtype=tf.int32, name=None), 'token_type_ids': TensorSpec(shape=(130,), dtype=tf.int32, name=None), 'attention_mask': TensorSpec(shape=(130,), dtype=tf.int32, name=None)}, TensorSpec(shape=(1,), dtype=tf.int32, name=None))>\n"
          ]
        }
      ]
    },
    {
      "cell_type": "code",
      "source": [
        "# 切分訓練集 & 驗證集\n",
        "\n",
        "# 打亂、分批\n",
        "batch_size = 8\n",
        "batch_train = train_df_encoded.shuffle(10000).batch(batch_size)\n",
        "\n",
        "# 分割訓練集和驗證集\n",
        "train_size = int(len(list(batch_train))*0.8)\n",
        "data_train = batch_train.take(train_size)\n",
        "data_valid = batch_train.skip(train_size)\n",
        "data_train"
      ],
      "metadata": {
        "colab": {
          "base_uri": "https://localhost:8080/"
        },
        "id": "XkmiDHHroQSX",
        "outputId": "07ac9d30-f831-493a-a292-addb224fde15"
      },
      "execution_count": null,
      "outputs": [
        {
          "output_type": "execute_result",
          "data": {
            "text/plain": [
              "<TakeDataset element_spec=({'input_ids': TensorSpec(shape=(None, 130), dtype=tf.int32, name=None), 'token_type_ids': TensorSpec(shape=(None, 130), dtype=tf.int32, name=None), 'attention_mask': TensorSpec(shape=(None, 130), dtype=tf.int32, name=None)}, TensorSpec(shape=(None, 1), dtype=tf.int32, name=None))>"
            ]
          },
          "metadata": {},
          "execution_count": 80
        }
      ]
    },
    {
      "cell_type": "markdown",
      "source": [
        "### Glove"
      ],
      "metadata": {
        "id": "JC2aT_lxnDYX"
      }
    },
    {
      "cell_type": "code",
      "source": [
        "# 下載 預訓練的 Glove 詞向量\n",
        "!wget http://nlp.stanford.edu/data/glove.6B.zip\n",
        "!unzip glove.6B.zip\n",
        "!rm glove.6B.zip"
      ],
      "metadata": {
        "id": "V5D9r837nFUu",
        "colab": {
          "base_uri": "https://localhost:8080/"
        },
        "outputId": "35a500bf-c9b0-4cf3-911d-c9e64b077981"
      },
      "execution_count": null,
      "outputs": [
        {
          "output_type": "stream",
          "name": "stdout",
          "text": [
            "--2022-05-17 15:01:42--  http://nlp.stanford.edu/data/glove.6B.zip\n",
            "Resolving nlp.stanford.edu (nlp.stanford.edu)... 171.64.67.140\n",
            "Connecting to nlp.stanford.edu (nlp.stanford.edu)|171.64.67.140|:80... connected.\n",
            "HTTP request sent, awaiting response... 302 Found\n",
            "Location: https://nlp.stanford.edu/data/glove.6B.zip [following]\n",
            "--2022-05-17 15:01:42--  https://nlp.stanford.edu/data/glove.6B.zip\n",
            "Connecting to nlp.stanford.edu (nlp.stanford.edu)|171.64.67.140|:443... connected.\n",
            "HTTP request sent, awaiting response... 301 Moved Permanently\n",
            "Location: http://downloads.cs.stanford.edu/nlp/data/glove.6B.zip [following]\n",
            "--2022-05-17 15:01:43--  http://downloads.cs.stanford.edu/nlp/data/glove.6B.zip\n",
            "Resolving downloads.cs.stanford.edu (downloads.cs.stanford.edu)... 171.64.64.22\n",
            "Connecting to downloads.cs.stanford.edu (downloads.cs.stanford.edu)|171.64.64.22|:80... connected.\n",
            "HTTP request sent, awaiting response... 200 OK\n",
            "Length: 862182613 (822M) [application/zip]\n",
            "Saving to: ‘glove.6B.zip’\n",
            "\n",
            "glove.6B.zip        100%[===================>] 822.24M  5.00MB/s    in 2m 42s  \n",
            "\n",
            "2022-05-17 15:04:25 (5.08 MB/s) - ‘glove.6B.zip’ saved [862182613/862182613]\n",
            "\n",
            "Archive:  glove.6B.zip\n",
            "  inflating: glove.6B.50d.txt        \n",
            "  inflating: glove.6B.100d.txt       \n",
            "  inflating: glove.6B.200d.txt       \n",
            "  inflating: glove.6B.300d.txt       \n"
          ]
        }
      ]
    },
    {
      "cell_type": "code",
      "source": [
        "# 使用 預訓練的 Glove 詞向量\n",
        "embeddings_index = {}\n",
        "f = open('glove.6B.50d.txt',encoding='utf-8')\n",
        "for line in f:\n",
        "    values = line.split()\n",
        "    word = values[0]  # 第一個是詞彙，把他取出來\n",
        "    coefs = np.asarray(values[1:], dtype='float32') # 第一個之後是這個字的向量\n",
        "    embeddings_index[word] = coefs  # 每個字對應到它的向量，存在embeddings_index裡\n",
        "f.close()\n",
        "\n",
        "print('Total %s word vectors in Glove 6B 50d.' % len(embeddings_index))"
      ],
      "metadata": {
        "id": "VvgqQnG2pYiV",
        "colab": {
          "base_uri": "https://localhost:8080/"
        },
        "outputId": "35a8b186-a34c-40aa-88e4-63ecc2f99a87"
      },
      "execution_count": null,
      "outputs": [
        {
          "output_type": "stream",
          "name": "stdout",
          "text": [
            "Total 400000 word vectors in Glove 6B 50d.\n"
          ]
        }
      ]
    },
    {
      "cell_type": "code",
      "source": [
        "# 將句子編碼\n",
        "tokenizer = Tokenizer()\n",
        "tokenizer.fit_on_texts(train_sentence) # train_sentence :不切Token ； train_tokened_sent :切了token ； train_lemmas_sent ：詞型還原 ； train_stopw_sent ：刪除停用詞\n",
        "train_sequences = tokenizer.texts_to_sequences(train_sentence)\n",
        "test_sentences = tokenizer.texts_to_sequences(test_sentence)\n",
        "word_index = tokenizer.word_index\n",
        "\n",
        "print('Number of Unique Tokens',len(word_index))"
      ],
      "metadata": {
        "id": "IiOuwusQo_ME",
        "colab": {
          "base_uri": "https://localhost:8080/"
        },
        "outputId": "cd175b81-f818-41b9-9248-f2ef2e05e53e"
      },
      "execution_count": null,
      "outputs": [
        {
          "output_type": "stream",
          "name": "stdout",
          "text": [
            "Number of Unique Tokens 6121\n"
          ]
        }
      ]
    },
    {
      "cell_type": "code",
      "source": [
        "# 建立嵌入矩陣 ( 要丟給LSTM嵌入層的權重 )\n",
        "EMBEDDING_DIM = 50\n",
        "embedding_matrix = np.random.random((len(word_index) + 1, EMBEDDING_DIM))\n",
        "for word, i in word_index.items():\n",
        "    embedding_vector = embeddings_index.get(word)\n",
        "    if embedding_vector is not None:\n",
        "        embedding_matrix[i] = embedding_vector"
      ],
      "metadata": {
        "id": "En1QtMMWpsHf"
      },
      "execution_count": null,
      "outputs": []
    },
    {
      "cell_type": "markdown",
      "source": [
        "### Word2Vec"
      ],
      "metadata": {
        "id": "znp1dXiYnFts"
      }
    },
    {
      "cell_type": "code",
      "source": [
        "# 建立 Word2Vec 模型\n",
        "# 使用google news的預訓練詞向量\n",
        "w2v_model = gensim.downloader.load('word2vec-google-news-300')\n",
        "w2v_model"
      ],
      "metadata": {
        "colab": {
          "base_uri": "https://localhost:8080/"
        },
        "id": "mpK6IdP_Q5yy",
        "outputId": "42833ffb-b8d7-43c9-8fc2-e1c8e5304484"
      },
      "execution_count": null,
      "outputs": [
        {
          "output_type": "stream",
          "name": "stdout",
          "text": [
            "[==================================================] 100.0% 1662.8/1662.8MB downloaded\n"
          ]
        },
        {
          "output_type": "execute_result",
          "data": {
            "text/plain": [
              "<gensim.models.keyedvectors.Word2VecKeyedVectors at 0x7efebfbbcd90>"
            ]
          },
          "metadata": {},
          "execution_count": 11
        }
      ]
    },
    {
      "cell_type": "code",
      "source": [
        "vocab_list = list(w2v_model.wv.vocab.keys())\n",
        "print(w2v_model['in'].shape)\n",
        "print('length:', len(vocab_list))\n",
        "print('vocab_list：',vocab_list[:10])"
      ],
      "metadata": {
        "colab": {
          "base_uri": "https://localhost:8080/"
        },
        "id": "InTPim5oRI3T",
        "outputId": "6e26fe9f-36cc-4e6a-e3b7-692995d659f7"
      },
      "execution_count": null,
      "outputs": [
        {
          "output_type": "stream",
          "name": "stdout",
          "text": [
            "(300,)\n",
            "length: 3000000\n",
            "vocab_list： ['</s>', 'in', 'for', 'that', 'is', 'on', '##', 'The', 'with', 'said']\n"
          ]
        },
        {
          "output_type": "stream",
          "name": "stderr",
          "text": [
            "/usr/local/lib/python3.7/dist-packages/ipykernel_launcher.py:1: DeprecationWarning: Call to deprecated `wv` (Attribute will be removed in 4.0.0, use self instead).\n",
            "  \"\"\"Entry point for launching an IPython kernel.\n"
          ]
        }
      ]
    },
    {
      "cell_type": "code",
      "source": [
        "# 將句子編碼\n",
        "tokenizer = Tokenizer()\n",
        "tokenizer.fit_on_texts(train_sentence) # train_sentence :不切Token ； train_tokened_sent :切了token ； train_lemmas_sent ：詞型還原 ； train_stopw_sent ：刪除停用詞\n",
        "train_sequences = tokenizer.texts_to_sequences(train_sentence)\n",
        "test_sentences = tokenizer.texts_to_sequences(test_sentence)\n",
        "word_index = tokenizer.word_index\n",
        "print(word_index)\n",
        "\n",
        "print('Number of Unique Tokens',len(word_index))"
      ],
      "metadata": {
        "colab": {
          "base_uri": "https://localhost:8080/"
        },
        "id": "5zPfz9kARR-Y",
        "outputId": "a5cd28be-8001-4a96-ae03-fe9dd8cdd309"
      },
      "execution_count": null,
      "outputs": [
        {
          "output_type": "stream",
          "name": "stdout",
          "text": [
            "{'the': 1, 'a': 2, 'is': 3, 'and': 4, 'it': 5, 'of': 6, 'to': 7, 'i': 8, 'this': 9, 'not': 10, 'that': 11, 'in': 12, 'for': 13, 'with': 14, 'as': 15, 'have': 16, 'but': 17, 'you': 18, 'on': 19, 'its': 20, 'be': 21, 'are': 22, 'an': 23, 'film': 24, 'my': 25, 'all': 26, 'like': 27, 'one': 28, 'movie': 29, 'so': 30, 'will': 31, 'at': 32, 'more': 33, 'by': 34, 'from': 35, 'about': 36, 'was': 37, 'just': 38, 'than': 39, 'very': 40, 'has': 41, 'would': 42, 'what': 43, 'good': 44, 'does': 45, 'they': 46, 'do': 47, 'can': 48, 'if': 49, 'or': 50, 'his': 51, 'too': 52, 'no': 53, 'out': 54, 'there': 55, 'even': 56, 'much': 57, 'time': 58, 'most': 59, 'them': 60, 'little': 61, 'numnum': 62, 'up': 63, 'great': 64, 'these': 65, 'when': 66, 'been': 67, 'had': 68, 'well': 69, 'we': 70, 'into': 71, 'use': 72, 'get': 73, 'your': 74, 'some': 75, 'who': 76, 'way': 77, 'story': 78, 'only': 79, 'first': 80, 'better': 81, 'comedy': 82, 'over': 83, 'product': 84, 'did': 85, 'rrb': 86, 'make': 87, 'really': 88, 'best': 89, 'because': 90, 'still': 91, 'lrb': 92, 'makes': 93, 'also': 94, 'am': 95, 'me': 96, 'enough': 97, 'work': 98, 'he': 99, 'should': 100, 'many': 101, 'could': 102, 'though': 103, 'numextend': 104, 'long': 105, 'never': 106, 'through': 107, 'made': 108, 'love': 109, 'any': 110, 'after': 111, 'then': 112, 'which': 113, 'two': 114, 'works': 115, 'other': 116, 'bad': 117, 'their': 118, 'phone': 119, 'might': 120, 'thing': 121, 'something': 122, 'price': 123, 'funny': 124, 'her': 125, 'off': 126, 'our': 127, 'easy': 128, 'how': 129, 'nothing': 130, 'may': 131, 'few': 132, 'fun': 133, 'years': 134, 'life': 135, 'feel': 136, 'go': 137, 'while': 138, 'worth': 139, 'quality': 140, 'screen': 141, 'films': 142, 'people': 143, 'were': 144, 'new': 145, 'far': 146, 'both': 147, 'case': 148, 'see': 149, 'less': 150, 'same': 151, 'us': 152, 'own': 153, 'down': 154, 'buy': 155, 'bought': 156, 'need': 157, 'director': 158, 'where': 159, 'used': 160, 'think': 161, 'before': 162, 'those': 163, 'another': 164, 'got': 165, 'characters': 166, 'ever': 167, 'action': 168, 'romantic': 169, 'purchased': 170, 'performances': 171, 'again': 172, 'put': 173, 'almost': 174, 'documentary': 175, 'old': 176, 'year': 177, 'nice': 178, 'fine': 179, 'picture': 180, 'come': 181, 'big': 182, 'full': 183, 'now': 184, 'say': 185, 'anyone': 186, 'last': 187, 'sense': 188, 'part': 189, 'once': 190, 'give': 191, 'clean': 192, 'feels': 193, 'quite': 194, 'hard': 195, 'yet': 196, 'script': 197, 'lot': 198, 'pretty': 199, 'take': 200, 'back': 201, 'anything': 202, 'every': 203, 'kids': 204, 'performance': 205, 'times': 206, 'easily': 207, 'set': 208, 'seen': 209, 'here': 210, 'movies': 211, 'between': 212, 'around': 213, 'look': 214, 'she': 215, 'using': 216, 'looking': 217, 'keep': 218, 'days': 219, 'small': 220, 'reviews': 221, 'second': 222, 'audience': 223, 'always': 224, 'everything': 225, 'takes': 226, 'hours': 227, 'american': 228, 'without': 229, 'gets': 230, 'despite': 231, 'world': 232, 'since': 233, 'cinematic': 234, 'bit': 235, 'piece': 236, 'sure': 237, 'water': 238, 'minutes': 239, 'game': 240, 'seems': 241, 'size': 242, 'perfect': 243, 'exactly': 244, 'often': 245, 'why': 246, 'different': 247, 'making': 248, 'home': 249, 'humor': 250, 'real': 251, 'right': 252, 'plot': 253, 'job': 254, 'tale': 255, 'find': 256, 'comes': 257, 'kind': 258, 'rather': 259, 'point': 260, 'cast': 261, 'away': 262, 'being': 263, 'thought': 264, 'want': 265, 'worked': 266, 'along': 267, 'item': 268, 'things': 269, 'extremely': 270, 'original': 271, 'amazon': 272, 'acting': 273, 'nearly': 274, 'character': 275, 'definitely': 276, 'simply': 277, 'happy': 278, 'else': 279, 'tried': 280, 'human': 281, 'maybe': 282, 'silly': 283, 'mr': 284, 'know': 285, 'place': 286, 'products': 287, 'drama': 288, 'couple': 289, 'recommend': 290, 'next': 291, 'itself': 292, 'knife': 293, 'high': 294, 'under': 295, 'thriller': 296, 'style': 297, 'cheaper': 298, 'expected': 299, 'end': 300, 'true': 301, 'until': 302, 'light': 303, 'problem': 304, 'interesting': 305, 'whole': 306, 'several': 307, 'instead': 308, 'unit': 309, 'money': 310, 'x': 311, 'came': 312, 'quickly': 313, 'getting': 314, 'experience': 315, 'ultimately': 316, 'free': 317, 'heart': 318, 'family': 319, 'journey': 320, 'least': 321, 'others': 322, 'going': 323, 'star': 324, 'direction': 325, 'video': 326, 'try': 327, 'probably': 328, 'such': 329, 'brand': 330, 'three': 331, 'boring': 332, 'day': 333, 'classic': 334, 'man': 335, 'lack': 336, 'however': 337, 'hot': 338, 'five': 339, 'coffee': 340, 'stuff': 341, 'fascinating': 342, 'must': 343, 'entertaining': 344, 'ride': 345, 'perhaps': 346, 'taste': 347, 'completely': 348, 'together': 349, 'trying': 350, 'fit': 351, 'perfectly': 352, 'gives': 353, 'emotional': 354, 'stars': 355, 'fresh': 356, 'mind': 357, 'cinema': 358, 's': 359, 'material': 360, 'slightly': 361, 'half': 362, 'future': 363, 'obviously': 364, 'overall': 365, 'durable': 366, 'level': 367, 'offers': 368, 'entertainment': 369, 'months': 370, 'play': 371, 'unfortunately': 372, 'heavy': 373, 'watching': 374, 'horror': 375, 'cute': 376, 'minute': 377, 'feature': 378, 'bond': 379, 'ones': 380, 'believe': 381, 'alone': 382, 'idea': 383, 'simple': 384, 'problems': 385, 'care': 386, 'ends': 387, 'worse': 388, 'plastic': 389, 'toy': 390, 'within': 391, 'longer': 392, 'purchase': 393, 'pan': 394, 'waste': 395, 'ingredients': 396, 'done': 397, 'music': 398, 'charm': 399, 'reason': 400, 'rare': 401, 'car': 402, 'games': 403, 'company': 404, 'ago': 405, 'special': 406, 'effects': 407, 'went': 408, 'jokes': 409, 'looks': 410, 'sort': 411, 'arrived': 412, 'liked': 413, 'predictable': 414, 'gift': 415, 'narrative': 416, 'sound': 417, 'line': 418, 'received': 419, 'dialogue': 420, 'strong': 421, 'history': 422, 'hollywood': 423, 'behind': 424, 'shipping': 425, 'run': 426, 'viewers': 427, 'solid': 428, 'oven': 429, 'show': 430, 'face': 431, 'enjoy': 432, 'clever': 433, 'short': 434, 'felt': 435, 'course': 436, 'ending': 437, 'whose': 438, 'novel': 439, 'working': 440, 'smart': 441, 'seemed': 442, 'production': 443, 'especially': 444, 'version': 445, 'type': 446, 'head': 447, 'sometimes': 448, 'michael': 449, 'each': 450, 'leave': 451, 'intelligent': 452, 'goes': 453, 'possible': 454, 'fact': 455, 'formulaic': 456, 'house': 457, 'cheap': 458, 'laughs': 459, 'played': 460, 'title': 461, 'smell': 462, 'everyone': 463, 'live': 464, 'art': 465, 'issue': 466, 'honest': 467, 'moments': 468, 'delivers': 469, 'review': 470, 'grinder': 471, 'glad': 472, 'keeps': 473, 'air': 474, 'mess': 475, 'food': 476, 'cord': 477, 'said': 478, 'him': 479, 'comfortable': 480, 'truly': 481, 'wonderful': 482, 'return': 483, 'night': 484, 'becomes': 485, 'role': 486, 'add': 487, 'among': 488, 'subject': 489, 'charge': 490, 'name': 491, 'fans': 492, 'whether': 493, 'wrong': 494, 'called': 495, 'taking': 496, 'pay': 497, 'finally': 498, 'enjoyable': 499, 'amusing': 500, 'open': 501, 'ordered': 502, 'theater': 503, 'wear': 504, 'tv': 505, 'sweet': 506, 'moving': 507, 'hit': 508, 'visually': 509, 'provocative': 510, 'gem': 511, 'hold': 512, 'dog': 513, 'follow': 514, 'shot': 515, 'close': 516, 'seeing': 517, 'gave': 518, 'box': 519, 'offer': 520, 'battery': 521, 'decent': 522, 'brings': 523, 'dull': 524, 'stupid': 525, 'attention': 526, 'sharp': 527, 'mine': 528, 'replace': 529, 'ideas': 530, 'store': 531, 'terrific': 532, 'buying': 533, 'series': 534, 'spy': 535, 'glass': 536, 'deal': 537, 'hilarious': 538, 'charming': 539, 'quirky': 540, 'except': 541, 'honesty': 542, 'debut': 543, 'similar': 544, 'wants': 545, 'giving': 546, 'george': 547, 'either': 548, 'nor': 549, 'previous': 550, 'creates': 551, 'romance': 552, 'uses': 553, 'pretentious': 554, 'eye': 555, 'mix': 556, 'girl': 557, 'slow': 558, 'stays': 559, 'surprisingly': 560, 'design': 561, 'read': 562, 'stick': 563, 'imagine': 564, 'black': 565, 'christmas': 566, 'soft': 567, 'creepy': 568, 'bread': 569, 'moral': 570, 'actors': 571, 'charger': 572, 'manages': 573, 'audiences': 574, 'theme': 575, 'war': 576, 'turned': 577, 'touch': 578, 'monster': 579, 'comingofage': 580, 'blue': 581, 'finish': 582, 'past': 583, 'visual': 584, 'stop': 585, 'written': 586, 'loved': 587, 'graphics': 588, 'found': 589, 'basically': 590, 'front': 591, 'age': 592, 'cheese': 593, 'loud': 594, 'flavor': 595, 'significant': 596, 'filmmaker': 597, 'french': 598, 'across': 599, 'iron': 600, 'cho': 601, 'left': 602, 'truth': 603, 'feeling': 604, 'took': 605, 'filled': 606, 'interest': 607, 'large': 608, 'handle': 609, 'school': 610, 'due': 611, 'touching': 612, 'attempt': 613, 'yarn': 614, 'slick': 615, 'nonsense': 616, 'warm': 617, 'threw': 618, 'against': 619, 'impossible': 620, 'fairly': 621, 'thin': 622, 'pieces': 623, 'natural': 624, 'impressive': 625, 'reading': 626, 'barely': 627, 'running': 628, 'recent': 629, 'charged': 630, 'combination': 631, 'actually': 632, 'person': 633, 'surprise': 634, 'surprising': 635, 'careful': 636, 'dramatic': 637, 'seem': 638, 'power': 639, 'means': 640, 'constantly': 641, 'cleaning': 642, 'hands': 643, 'machine': 644, 'based': 645, 'smaller': 646, 'dry': 647, 'book': 648, 'top': 649, 'fast': 650, 'de': 651, 'plays': 652, 'rice': 653, 'lost': 654, 'insight': 655, 'child': 656, 'fair': 657, 'cooking': 658, 'break': 659, 'guess': 660, 'cream': 661, 'cut': 662, 'needs': 663, 'serious': 664, 'build': 665, 'deeply': 666, 'lacks': 667, 'wait': 668, 'u': 669, 'fails': 670, 'weeks': 671, 'stopped': 672, 'neither': 673, 'thrilling': 674, 'update': 675, 'wheel': 676, 'buttons': 677, 'triumph': 678, 'relentless': 679, 'beautiful': 680, 'side': 681, 'above': 682, 'likely': 683, 'involved': 684, 'instructions': 685, 'becoming': 686, 'friendship': 687, 'effective': 688, 'hey': 689, 'tough': 690, 'nicely': 691, 'bottom': 692, 'headset': 693, 'awesome': 694, 'turns': 695, 'stunning': 696, 'skin': 697, 'fear': 698, 'suspense': 699, 'setting': 700, 'control': 701, 'amount': 702, 'ring': 703, 'formula': 704, 'urban': 705, 'welcome': 706, 'available': 707, 'kitchen': 708, 'pleasures': 709, 'fare': 710, 'living': 711, 'older': 712, 'spectacular': 713, 'lots': 714, 'given': 715, 'matter': 716, 'usb': 717, 'poor': 718, 'proves': 719, 'hope': 720, 'broke': 721, 'plenty': 722, 'writerdirector': 723, 'inch': 724, 'television': 725, 'local': 726, 'educational': 727, 'complex': 728, 'invest': 729, 'bright': 730, 'depth': 731, 'already': 732, 'shelf': 733, 'message': 734, 'crush': 735, 'flick': 736, 'says': 737, 'spent': 738, 'easier': 739, 'plate': 740, 'breaking': 741, 'puts': 742, 'frontal': 743, 'largely': 744, 'parts': 745, 'lame': 746, 'cartoon': 747, 'runs': 748, 'suggest': 749, 'slice': 750, 'suggests': 751, 'creative': 752, 'women': 753, 'absolutely': 754, 'low': 755, 'owned': 756, 'sensitive': 757, 'view': 758, 'call': 759, 'directed': 760, 'major': 761, 'melodrama': 762, 'mark': 763, 'tell': 764, 'thoughtful': 765, 'difficult': 766, 'beauty': 767, 'tone': 768, 'starts': 769, 'filmmaking': 770, 'sequel': 771, 'striking': 772, 'result': 773, 'comedies': 774, 'challenges': 775, 'sexual': 776, 'plus': 777, 'scale': 778, 'sustain': 779, 'hand': 780, 'psychological': 781, 'spend': 782, 'ridiculous': 783, 'filter': 784, 'extra': 785, 'bucks': 786, 'apple': 787, 'wore': 788, 'today': 789, 'none': 790, 'friends': 791, 'pot': 792, 'lazy': 793, 'david': 794, 'bulky': 795, 'cans': 796, 'personal': 797, 'four': 798, 'guy': 799, 'terrible': 800, 'installed': 801, 'intimate': 802, 'blood': 803, 'yourself': 804, 'acted': 805, 'heat': 806, 'stories': 807, 'unintentional': 808, 'scifi': 809, 'mystery': 810, 'stunts': 811, 'skip': 812, 'someone': 813, 'contacted': 814, 'help': 815, 'obvious': 816, 'expect': 817, 'incredibly': 818, 'compelling': 819, 'paid': 820, 'otherwise': 821, 'absorbing': 822, 'happen': 823, 'inside': 824, 'makers': 825, 'talent': 826, 'blade': 827, 'determined': 828, 'genuine': 829, 'pathetic': 830, 'knives': 831, 'fiction': 832, 'cultural': 833, 'brother': 834, 'exciting': 835, 'average': 836, 'dumb': 837, 'young': 838, 'spirit': 839, 'accomplished': 840, 'having': 841, 'slapstick': 842, 'stand': 843, 'failed': 844, 'divine': 845, 'match': 846, 'predecessors': 847, 'oil': 848, 'send': 849, 'worst': 850, 'china': 851, 'trash': 852, 'actor': 853, 'crime': 854, 'moore': 855, 'important': 856, 'dancing': 857, 'particularly': 858, 'cynical': 859, 'knows': 860, 'become': 861, 'consider': 862, 'annoying': 863, 'tired': 864, 'count': 865, 'mediocre': 866, 'profound': 867, 'spiritual': 868, 'scenes': 869, 'approach': 870, 'entire': 871, 'apart': 872, 'potatoes': 873, 'eccentric': 874, 'kaufman': 875, 'effort': 876, 'cover': 877, 'fits': 878, 'presents': 879, 'treasure': 880, 'cliches': 881, 'rubber': 882, 'paced': 883, 'gimmick': 884, 'forward': 885, 'described': 886, 'john': 887, 'chase': 888, 'watch': 889, 'leaves': 890, 'technology': 891, 'tight': 892, 'folks': 893, 'decided': 894, 'static': 895, 'road': 896, 'matthew': 897, 'change': 898, 'points': 899, 'turn': 900, 'bulk': 901, 'thank': 902, 'miss': 903, 'darn': 904, 'lovely': 905, 'occasionally': 906, 'ok': 907, 'remake': 908, 'collateral': 909, 'damage': 910, 'wanted': 911, 'birthday': 912, 'repetitive': 913, 'arnold': 914, 'reach': 915, 'beyond': 916, 'core': 917, 'com': 918, 'sit': 919, 'heavyhanded': 920, 'horse': 921, 'bigger': 922, 'flimsy': 923, 'usually': 924, 'amazing': 925, 'portrait': 926, 'volume': 927, 'rating': 928, 'crimes': 929, 'leading': 930, 'replaced': 931, 'press': 932, 'wine': 933, 'genre': 934, 'believable': 935, 'figure': 936, 'showing': 937, 'bird': 938, 'following': 939, 'feelgood': 940, 'offering': 941, 'target': 942, 'mount': 943, 'island': 944, 'super': 945, 'joke': 946, 'men': 947, 'typical': 948, 'jawbone': 949, 'replacement': 950, 'choose': 951, 'grace': 952, 'notion': 953, 'weak': 954, 'batteries': 955, 'option': 956, 'deliver': 957, 'created': 958, 'sole': 959, 'purpose': 960, 'relationship': 961, 'actual': 962, 'tension': 963, 'grief': 964, 'footage': 965, 'lines': 966, 'order': 967, 'roll': 968, 'tender': 969, 'comic': 970, 'flour': 971, 'patience': 972, 'pokemon': 973, 'wit': 974, 'pictures': 975, 'ultimate': 976, 'saw': 977, 'hair': 978, 'goodness': 979, 'straight': 980, 'animation': 981, 'husband': 982, 'wet': 983, 'start': 984, 'harsh': 985, 'anywhere': 986, 'menace': 987, 'nature': 988, 'holds': 989, 'lives': 990, 'mildly': 991, 'laugh': 992, 'model': 993, 'test': 994, 'nowhere': 995, 'shame': 996, 'son': 997, 'sum': 998, 'drive': 999, 'bold': 1000, 'rousing': 1001, 'alot': 1002, 'ages': 1003, 'voice': 1004, 'slight': 1005, 'adolescent': 1006, 'expectations': 1007, 'device': 1008, 'indulgent': 1009, 'nasty': 1010, 'project': 1011, 'blackberry': 1012, 'asian': 1013, 'overthetop': 1014, 'moved': 1015, 'ripoff': 1016, 'serves': 1017, 'reality': 1018, 'sappy': 1019, 'inner': 1020, 'woman': 1021, 'children': 1022, 'imagination': 1023, 'faces': 1024, 'moment': 1025, 'greatly': 1026, 'predecessor': 1027, 'appears': 1028, 'walk': 1029, 'worthy': 1030, 'talents': 1031, 'artists': 1032, 'medium': 1033, 'example': 1034, 'polished': 1035, 'enjoyably': 1036, 'appear': 1037, 'steven': 1038, 'greatest': 1039, 'crap': 1040, 'community': 1041, 'giant': 1042, 'jackson': 1043, 'draws': 1044, 'subtle': 1045, 'poetic': 1046, 'brilliance': 1047, 'designed': 1048, 'richer': 1049, 'substance': 1050, 'unless': 1051, 'complicated': 1052, 'caused': 1053, 'brain': 1054, 'flat': 1055, 'pop': 1056, 'gentle': 1057, 'supposed': 1058, 'th': 1059, 'looked': 1060, 'subjects': 1061, 'pray': 1062, 'invigorating': 1063, 'lacking': 1064, 'wife': 1065, 'window': 1066, 'loves': 1067, 'adults': 1068, 'door': 1069, 'capacity': 1070, 'farce': 1071, 'outside': 1072, 'political': 1073, 'glimpse': 1074, 'attempts': 1075, 'murder': 1076, 'focus': 1077, 'seconds': 1078, 'wheels': 1079, 'shape': 1080, 'queen': 1081, 'aggressively': 1082, 'terribly': 1083, 'impressed': 1084, 'authentic': 1085, 'mean': 1086, 'bluetooth': 1087, 'fully': 1088, 'celebratory': 1089, 'effectively': 1090, 'create': 1091, 'lasts': 1092, 'moviemaking': 1093, 'worry': 1094, 'exquisitely': 1095, 'manner': 1096, 'race': 1097, 'politics': 1098, 'hardly': 1099, 'values': 1100, 'gripping': 1101, 'universal': 1102, 'digital': 1103, 'words': 1104, 'context': 1105, 'repeated': 1106, 'premise': 1107, 'cook': 1108, 'perfection': 1109, 'named': 1110, 'shipped': 1111, 'weight': 1112, 'harder': 1113, 'mixed': 1114, 'america': 1115, 'red': 1116, 'color': 1117, 'questions': 1118, 'surprises': 1119, 'ordering': 1120, 'caper': 1121, 'thinking': 1122, 'tries': 1123, 'ugly': 1124, 'powerful': 1125, 'scams': 1126, 'england': 1127, 'confusing': 1128, 'utter': 1129, 'garbage': 1130, 'tragic': 1131, 'event': 1132, 'types': 1133, 'soundtrack': 1134, 'songs': 1135, 'refreshing': 1136, 'quiet': 1137, 'zhang': 1138, 'disturbing': 1139, 'allen': 1140, 'denying': 1141, 'neck': 1142, 'screenplay': 1143, 'friday': 1144, 'throwaway': 1145, 'playful': 1146, 'derrida': 1147, 'furious': 1148, 'heartwarming': 1149, 'writing': 1150, 'hundred': 1151, 'handy': 1152, 'grows': 1153, 'hated': 1154, 'whatever': 1155, 'captures': 1156, 'bowl': 1157, 'started': 1158, 'coming': 1159, 'cleaner': 1160, 'sports': 1161, 'science': 1162, 'treats': 1163, 'higher': 1164, 'otterbox': 1165, 'provide': 1166, 'street': 1167, 'compact': 1168, 'ambitious': 1169, 'heard': 1170, 'scene': 1171, 'advertised': 1172, 'rich': 1173, 'secrets': 1174, 'yaya': 1175, 'sisterhood': 1176, 'lid': 1177, 'horribly': 1178, 'hopefully': 1179, 'lasted': 1180, 'wrapped': 1181, 'lower': 1182, 'led': 1183, 'remember': 1184, 'concept': 1185, 'surface': 1186, 'thankfully': 1187, 'excellent': 1188, 'trips': 1189, 'crazy': 1190, 'modern': 1191, 'cost': 1192, 'complete': 1193, 'soggy': 1194, 'realistic': 1195, 'incredible': 1196, 'bring': 1197, 'doing': 1198, 'playing': 1199, 'maker': 1200, 'plugged': 1201, 'grill': 1202, 'please': 1203, 'animated': 1204, 'connect': 1205, 'missing': 1206, 'blender': 1207, 'charisma': 1208, 'hate': 1209, 'empty': 1210, 'constructed': 1211, 'during': 1212, 'country': 1213, 'month': 1214, 'spoof': 1215, 'genuinely': 1216, 'green': 1217, 'certainly': 1218, 'safe': 1219, 'yearold': 1220, 'adds': 1221, 'steak': 1222, 'cat': 1223, 'single': 1224, 'grinding': 1225, 'attitude': 1226, 'prevent': 1227, 'ice': 1228, 'group': 1229, 'apartment': 1230, 'building': 1231, 'locations': 1232, 'usual': 1233, 'blend': 1234, 'able': 1235, 'williams': 1236, 'chance': 1237, 'fall': 1238, 'saves': 1239, 'hugh': 1240, 'mesmerizing': 1241, 'shake': 1242, 'grant': 1243, 'whimsy': 1244, 'familiar': 1245, 'broad': 1246, 'throughout': 1247, 'towel': 1248, 'vincent': 1249, 'madonna': 1250, 'cuts': 1251, 'thoroughly': 1252, 'delivered': 1253, 'twice': 1254, 'spoon': 1255, 'niro': 1256, 'avoid': 1257, 'market': 1258, 'disappointed': 1259, 'energy': 1260, 'indie': 1261, 'thinks': 1262, 'torpor': 1263, 'elements': 1264, 'maudlin': 1265, 'refreshingly': 1266, 'equivalent': 1267, 'memory': 1268, 'false': 1269, 'recently': 1270, 'companies': 1271, 'afraid': 1272, 'colorful': 1273, 'daughter': 1274, 'standard': 1275, 'quarter': 1276, 'disney': 1277, 'counter': 1278, 'let': 1279, 'popcorn': 1280, 'search': 1281, 'dream': 1282, 'managed': 1283, 'cowriter': 1284, 'scottish': 1285, 'outrageous': 1286, 'prime': 1287, 'incoherent': 1288, 'keenly': 1289, 'heartbreaking': 1290, 'glued': 1291, 'extends': 1292, 'jean': 1293, 'bigbudget': 1294, 'faith': 1295, 'explored': 1296, 'epic': 1297, 'scope': 1298, 'dogtown': 1299, 'zboys': 1300, 'alive': 1301, 'timing': 1302, 'tug': 1303, 'support': 1304, 'decade': 1305, 'huge': 1306, 'humanity': 1307, 'lucas': 1308, 'forgotten': 1309, 'cannot': 1310, 'fix': 1311, 'leaky': 1312, 'pleasant': 1313, 'land': 1314, 'crash': 1315, 'witty': 1316, 'acceptance': 1317, 'clue': 1318, 'dreary': 1319, 'selfindulgent': 1320, 'meaningless': 1321, 'comfort': 1322, 'packaging': 1323, 'j': 1324, 'avoids': 1325, 'emotions': 1326, 'eating': 1327, 'gluten': 1328, 'instant': 1329, 'melodramatic': 1330, 'rough': 1331, 'edges': 1332, 'junk': 1333, 'september': 1334, 'documentaries': 1335, 'religious': 1336, 'unflinching': 1337, 'howard': 1338, 'southern': 1339, 'sadly': 1340, 'undeveloped': 1341, 'metaphors': 1342, 'stable': 1343, 'dirt': 1344, 'magnet': 1345, 'meeting': 1346, 'bag': 1347, 'charging': 1348, 'step': 1349, 'iphone': 1350, 'concerned': 1351, 'measuring': 1352, 'container': 1353, 'syrup': 1354, 'pancakes': 1355, 'remembered': 1356, 'oscar': 1357, 'steve': 1358, 'irwin': 1359, 'method': 1360, 'minor': 1361, 'scored': 1362, 'florid': 1363, 'variety': 1364, 'captivating': 1365, 'benefit': 1366, 'q': 1367, 'cause': 1368, 'crock': 1369, 'literary': 1370, 'chef': 1371, 'richly': 1372, 'imagined': 1373, 'admirably': 1374, 'superior': 1375, 'storytelling': 1376, 'rambling': 1377, 'wool': 1378, 'moves': 1379, 'contrivances': 1380, 'direct': 1381, 'ana': 1382, 'james': 1383, 'rose': 1384, 'kid': 1385, 'wont': 1386, 'winning': 1387, 'models': 1388, 'present': 1389, 'strongly': 1390, 'flap': 1391, 'sly': 1392, 'logic': 1393, 'protagonist': 1394, 'sizzle': 1395, 'toasts': 1396, 'options': 1397, 'overblown': 1398, 'hackneyed': 1399, 'herzog': 1400, 'germany': 1401, 'cheesy': 1402, 'tradition': 1403, 'embarrassing': 1404, 'cerebral': 1405, 'rate': 1406, 'racy': 1407, 'port': 1408, 'spray': 1409, 'snow': 1410, 'helps': 1411, 'exhilarating': 1412, 'chemistry': 1413, 'ponder': 1414, 'chew': 1415, 'unusual': 1416, 'slowly': 1417, 'enemy': 1418, 'credits': 1419, 'shainberg': 1420, 'carefully': 1421, 'scenario': 1422, 'darkly': 1423, 'antics': 1424, 'singular': 1425, 'study': 1426, 'affecting': 1427, 'almodvar': 1428, 'evokes': 1429, 'pushes': 1430, 'question': 1431, 'dinner': 1432, 'vendor': 1433, 'emotionally': 1434, 'cheated': 1435, 'creamy': 1436, 'guys': 1437, 'notes': 1438, 'invisible': 1439, 'dish': 1440, 'cable': 1441, 'watchful': 1442, 'gamesmanship': 1443, 'treating': 1444, 'toaster': 1445, 'song': 1446, 'boys': 1447, 'yvan': 1448, 'charlotte': 1449, 'jewish': 1450, 'highly': 1451, 'learning': 1452, 'aspects': 1453, 'isle': 1454, 'tourdeforce': 1455, 'odor': 1456, 'butter': 1457, 'filmmakers': 1458, 'gifts': 1459, 'holiday': 1460, 'hardy': 1461, 'broken': 1462, 'wellshot': 1463, 'badly': 1464, 'dragons': 1465, 'priced': 1466, 'faster': 1467, 'bike': 1468, 'cats': 1469, 'showtime': 1470, 'forget': 1471, 'luck': 1472, 'mentioned': 1473, 'party': 1474, 'proceedings': 1475, 'directly': 1476, 'coherence': 1477, 'confused': 1478, 'meat': 1479, 'pile': 1480, 'closet': 1481, 'dishwasher': 1482, 'correct': 1483, 'screaming': 1484, 'equal': 1485, 'innocence': 1486, 'wisdom': 1487, 'stuck': 1488, 'per': 1489, 'rule': 1490, 'earlier': 1491, 'frantic': 1492, 'die': 1493, 'wall': 1494, 'pat': 1495, 'middleaged': 1496, 'sensual': 1497, 'body': 1498, 'selection': 1499, 'hip': 1500, 'lively': 1501, 'adventure': 1502, 'kept': 1503, 'main': 1504, 'selfabsorption': 1505, 'access': 1506, 'degree': 1507, 'camp': 1508, 'reveals': 1509, 'state': 1510, 'dynamic': 1511, 'sour': 1512, 'detached': 1513, 'possibly': 1514, 'members': 1515, 'wonder': 1516, 'cell': 1517, 'engineering': 1518, 'codes': 1519, 'required': 1520, 'highlights': 1521, 'bored': 1522, 'offensive': 1523, 'abuse': 1524, 'society': 1525, 'domestic': 1526, 'plan': 1527, 'hits': 1528, 'critics': 1529, 'credit': 1530, 'marvel': 1531, 'abbass': 1532, 'depths': 1533, 'million': 1534, 'bt': 1535, 'ball': 1536, 'pass': 1537, 'issues': 1538, 'manic': 1539, 'simon': 1540, 'death': 1541, 'napoleon': 1542, 'rebirth': 1543, 'regard': 1544, 'earnhart': 1545, 'allows': 1546, 'polyester': 1547, 'sophisticated': 1548, 'challenging': 1549, 'stands': 1550, 'noticeable': 1551, 'heft': 1552, 'wwii': 1553, 'enjoying': 1554, 'haneke': 1555, 'sentimental': 1556, 'thanks': 1557, 'placement': 1558, 'dropped': 1559, 'onto': 1560, 'strikes': 1561, 'balance': 1562, 'emotion': 1563, 'website': 1564, 'slicing': 1565, 'hawke': 1566, 'beautifully': 1567, 'portrayals': 1568, 'recipe': 1569, 'tasty': 1570, 'delivery': 1571, 'extended': 1572, 'senses': 1573, 'ticket': 1574, 'electric': 1575, 'events': 1576, 'intertwined': 1577, 'trouble': 1578, 'bubbles': 1579, 'computer': 1580, 'connection': 1581, 'pitcher': 1582, 'insider': 1583, 'mindset': 1584, 'satisfies': 1585, 'longwinded': 1586, 'session': 1587, 'fill': 1588, 'charms': 1589, 'puffery': 1590, 'sink': 1591, 'form': 1592, 'redneck': 1593, 'drags': 1594, 'realism': 1595, 'sharpener': 1596, 'pleasure': 1597, 'buddies': 1598, 'chris': 1599, 'rock': 1600, 'freezer': 1601, 'frightening': 1602, 'projects': 1603, 'liveaction': 1604, 'agitprop': 1605, 'mounts': 1606, 'cultures': 1607, 'strange': 1608, 'lovingly': 1609, 'filmed': 1610, 'photography': 1611, 'improvement': 1612, 'signal': 1613, 'strength': 1614, 'tiny': 1615, 'football': 1616, 'visuals': 1617, 'metropolis': 1618, 'culture': 1619, 'ethics': 1620, 'vice': 1621, 'revenge': 1622, 'assemble': 1623, 'plain': 1624, 'turning': 1625, 'friendly': 1626, 'falling': 1627, 'excitement': 1628, 'shop': 1629, 'sticky': 1630, 'root': 1631, 'oh': 1632, 'observations': 1633, 'n': 1634, 'public': 1635, 'graphically': 1636, 'obsession': 1637, 'seller': 1638, 'happens': 1639, 'painfully': 1640, 'leaden': 1641, 'curve': 1642, 'unfamiliar': 1643, 'illuminates': 1644, 'larger': 1645, 'closer': 1646, 'typically': 1647, 'somebody': 1648, 'early': 1649, 'literally': 1650, 'stops': 1651, 'flow': 1652, 'fire': 1653, 'warranty': 1654, 'sounds': 1655, 'sea': 1656, 'museum': 1657, 'held': 1658, 'crew': 1659, 'object': 1660, 'description': 1661, 'boy': 1662, 'mile': 1663, 'heavier': 1664, 'rent': 1665, 'constant': 1666, 'source': 1667, 'practically': 1668, 'tap': 1669, 'headphones': 1670, 'individuals': 1671, 'genres': 1672, 'entertained': 1673, 'indicate': 1674, 'manufactured': 1675, 'feeding': 1676, 'successfully': 1677, 'creating': 1678, 'historical': 1679, 'soap': 1680, 'levels': 1681, 'invites': 1682, 'demands': 1683, 'opportunity': 1684, 'outshine': 1685, 'fat': 1686, 'dogs': 1687, 'desire': 1688, 'afloat': 1689, 'rust': 1690, 'laughing': 1691, 'terms': 1692, 'ethnicity': 1693, 'supposedly': 1694, 'begins': 1695, 'promising': 1696, 'schaeffer': 1697, 'christopher': 1698, 'screenwriter': 1699, 'thrown': 1700, 'landmark': 1701, 'difference': 1702, 'acne': 1703, 'modest': 1704, 'metaphysical': 1705, 'saying': 1706, 'impresses': 1707, 'haunted': 1708, 'vessel': 1709, 'lit': 1710, 'machismo': 1711, 'aluminum': 1712, 'range': 1713, 'ready': 1714, 'wish': 1715, 'filters': 1716, 'fantastic': 1717, 'impact': 1718, 'mainly': 1719, 'told': 1720, 'cookbook': 1721, 'composed': 1722, 'disarming': 1723, 'daily': 1724, 'legends': 1725, 'yimou': 1726, 'camera': 1727, 'inconsequential': 1728, 'hospital': 1729, 'territory': 1730, 'im': 1731, 'produce': 1732, 'intended': 1733, 'gone': 1734, 'cables': 1735, 'near': 1736, 'cooktop': 1737, 'smooth': 1738, 'himself': 1739, 'tarantino': 1740, 'represents': 1741, 'forces': 1742, 'shoulders': 1743, 'pee': 1744, 'week': 1745, 'program': 1746, 'spit': 1747, 'toward': 1748, 'attachment': 1749, 'oneliners': 1750, 'treated': 1751, 'success': 1752, 'format': 1753, 'biography': 1754, 'fuzzy': 1755, 'sentimentality': 1756, 'tenderness': 1757, 'reviewers': 1758, 'complained': 1759, 'naturally': 1760, 'complexity': 1761, 'xxx': 1762, 'mindless': 1763, 'b': 1764, 'stove': 1765, 'birds': 1766, 'brilliant': 1767, 'comprehensive': 1768, 'boundaries': 1769, 'ranks': 1770, 'refund': 1771, 'undercover': 1772, 'satire': 1773, 'intrigue': 1774, 'st': 1775, 'louis': 1776, 'caine': 1777, 'lovers': 1778, 'cookie': 1779, 'rave': 1780, 'background': 1781, 'lights': 1782, 'followed': 1783, 'guidance': 1784, 'appealing': 1785, 'torn': 1786, 'steam': 1787, 'vacuum': 1788, 'pulls': 1789, 'frying': 1790, 'e': 1791, 'defender': 1792, 'thinner': 1793, 'paper': 1794, 'ecks': 1795, 'pleased': 1796, 'male': 1797, 'ease': 1798, 'rise': 1799, 'obscure': 1800, 'expressions': 1801, 'bellini': 1802, 'excuse': 1803, 'critical': 1804, 'realized': 1805, 'observation': 1806, 'mood': 1807, 'suspenseful': 1808, 'stellar': 1809, 'drinking': 1810, 'generic': 1811, 'stevenson': 1812, 'misleading': 1813, 'eyes': 1814, 'excited': 1815, 'writers': 1816, 'preferred': 1817, 'charges': 1818, 'plausibility': 1819, 'entertain': 1820, 'particular': 1821, 'department': 1822, 'poem': 1823, 'la': 1824, 'bottle': 1825, 'tops': 1826, 'rules': 1827, 'shoes': 1828, 'atmosphere': 1829, 'hills': 1830, 'tuck': 1831, 'runner': 1832, 'tedious': 1833, 'notch': 1834, 'pace': 1835, 'challenge': 1836, 'disease': 1837, 'happened': 1838, 'pizza': 1839, 'artful': 1840, 'happily': 1841, 'thick': 1842, 'elling': 1843, 'camping': 1844, 'respects': 1845, 'considerable': 1846, 'space': 1847, 'foil': 1848, 'requirements': 1849, 'forte': 1850, 'wearing': 1851, 'snappy': 1852, 'learn': 1853, 'center': 1854, 'android': 1855, 'snapshot': 1856, 'bullock': 1857, 'ability': 1858, 'display': 1859, 'protectors': 1860, 'garden': 1861, 'securely': 1862, 'traditional': 1863, 'period': 1864, 'yes': 1865, 'originality': 1866, 'invincible': 1867, 'sooner': 1868, 'earnest': 1869, 'resolutely': 1870, 'uncompromising': 1871, 'existence': 1872, 'technical': 1873, 'pure': 1874, 'facial': 1875, 'hearts': 1876, 'edge': 1877, 'wastes': 1878, 'd': 1879, 'thrills': 1880, 'repeatedly': 1881, 'cruelly': 1882, 'shallow': 1883, 'morning': 1884, 'warming': 1885, 'concealer': 1886, 'polanski': 1887, 'crafted': 1888, 'flowers': 1889, 'replete': 1890, 'flattering': 1891, 'verve': 1892, 'preference': 1893, 'oxo': 1894, 'cutting': 1895, 'license': 1896, 'romanek': 1897, 'jacquot': 1898, 'tosca': 1899, 'conveys': 1900, 'passion': 1901, 'innovation': 1902, 'reduce': 1903, 'operate': 1904, 'abruptly': 1905, 'wrestling': 1906, 'treat': 1907, 'rarely': 1908, 'remarkably': 1909, 'wedge': 1910, 'furniture': 1911, 'media': 1912, 'heartache': 1913, 'positive': 1914, 'respected': 1915, 'stretching': 1916, 'bubble': 1917, 'wrap': 1918, 'spunky': 1919, 'necessarily': 1920, 'popular': 1921, 'serial': 1922, 'staged': 1923, 'digit': 1924, 'timer': 1925, 'system': 1926, 'plates': 1927, 'impeccable': 1928, 'besides': 1929, 'miracle': 1930, 'interested': 1931, 'loses': 1932, 'adaptation': 1933, 'six': 1934, 'hoping': 1935, 'acts': 1936, 'memorable': 1937, 'results': 1938, 'dont': 1939, 'soon': 1940, 'drawn': 1941, 'rolls': 1942, 'leigh': 1943, 'heads': 1944, 'honestly': 1945, 'characterization': 1946, 'doubt': 1947, 'solaris': 1948, 'episode': 1949, 'negative': 1950, 'mistake': 1951, 'opens': 1952, 'fashioned': 1953, 'vaguely': 1954, 'writer': 1955, 'standup': 1956, 'sandler': 1957, 'usa': 1958, 'ineffective': 1959, 'devices': 1960, 'alleged': 1961, 'guns': 1962, 'girls': 1963, 'hero': 1964, 'overpowering': 1965, 'tongue': 1966, 'class': 1967, 'robin': 1968, 'artist': 1969, 'mustsee': 1970, 'viewing': 1971, 'hightech': 1972, 'complaint': 1973, 'collecting': 1974, 'shards': 1975, 'warning': 1976, 'taken': 1977, 'tad': 1978, 'units': 1979, 'rewarded': 1980, 'riveting': 1981, 'brush': 1982, 'teeth': 1983, 'grains': 1984, 'yellow': 1985, 'fighting': 1986, 'ensemble': 1987, 'wonderfully': 1988, 'troubled': 1989, 'save': 1990, 'blind': 1991, 'bloody': 1992, 'funeral': 1993, 'appeal': 1994, 'poetry': 1995, 'sex': 1996, 'departure': 1997, 'kinds': 1998, 'showdown': 1999, 'videos': 2000, 'map': 2001, 'intentional': 2002, 'achieves': 2003, 'known': 2004, 'amazingly': 2005, 'manager': 2006, 'status': 2007, 'droll': 2008, 'shred': 2009, 'illconceived': 2010, 'okay': 2011, 'stock': 2012, 'carpet': 2013, 'sucking': 2014, 'escapism': 2015, 'hose': 2016, 'myers': 2017, 'spoofing': 2018, 'smacks': 2019, 'commercial': 2020, 'jason': 2021, 'eventually': 2022, 'wears': 2023, 'violence': 2024, 'tedium': 2025, 'pair': 2026, 'latest': 2027, 'although': 2028, 'halfway': 2029, 'appliances': 2030, 'doses': 2031, 'general': 2032, 'afternoon': 2033, 'athletes': 2034, 'weird': 2035, 'earns': 2036, 'recognize': 2037, 'necessary': 2038, 'credibility': 2039, 'tiresome': 2040, 'appreciate': 2041, 'committed': 2042, 'fan': 2043, 'quick': 2044, 'myself': 2045, 'chapter': 2046, 'motorola': 2047, 'transcends': 2048, 'zester': 2049, 'clear': 2050, 'santa': 2051, 'heavily': 2052, 'strangely': 2053, 'stupidity': 2054, 'chilled': 2055, 'disappointment': 2056, 'promise': 2057, 'surely': 2058, 'intriguing': 2059, 'sobering': 2060, 'white': 2061, 'qualities': 2062, 'fruit': 2063, 'returned': 2064, 'sets': 2065, 'installment': 2066, 'fleming': 2067, 'contacts': 2068, 'novak': 2069, 'capture': 2070, 'extension': 2071, 'tastes': 2072, 'demand': 2073, 'lead': 2074, 'philip': 2075, 'stomach': 2076, 'remembers': 2077, 'finest': 2078, 'somehow': 2079, 'scary': 2080, 'finger': 2081, 'features': 2082, 'safety': 2083, 'bits': 2084, 'share': 2085, 'cusinart': 2086, 'braun': 2087, 'iv': 2088, 'unforgettable': 2089, 'wireless': 2090, 'newton': 2091, 'city': 2092, 'directing': 2093, 'viewer': 2094, 'disbelief': 2095, 'daring': 2096, 'successful': 2097, 'career': 2098, 'elsewhere': 2099, 'belt': 2100, 'items': 2101, 'connected': 2102, 'disappointing': 2103, 'cooks': 2104, 'opener': 2105, 'headsets': 2106, 'shows': 2107, 'noise': 2108, 'master': 2109, 'disaster': 2110, 'moviegoing': 2111, 'consumers': 2112, 'werewolf': 2113, 'hell': 2114, 'satisfying': 2115, 'void': 2116, 'mechanics': 2117, 'falls': 2118, 'wise': 2119, 'deserve': 2120, 'worthwhile': 2121, 'stay': 2122, 'stains': 2123, 'cookware': 2124, 'author': 2125, 'wells': 2126, 'considering': 2127, 'wasted': 2128, 'truths': 2129, 'imagery': 2130, 'grinds': 2131, 'barbershop': 2132, 'factor': 2133, 'skill': 2134, 'varying': 2135, 'wilson': 2136, 'nasal': 2137, 'deep': 2138, 'degrees': 2139, 'total': 2140, 'passages': 2141, 'groove': 2142, 'noodle': 2143, 'meal': 2144, 'remains': 2145, 'refuses': 2146, 'engrossing': 2147, 'lean': 2148, 'halo': 2149, 'middle': 2150, 'feet': 2151, 'sliding': 2152, 'rod': 2153, 'elaborate': 2154, 'fashion': 2155, 'social': 2156, 'cool': 2157, 'charlie': 2158, 'english': 2159, 'subtitles': 2160, 'brutal': 2161, 'sturdy': 2162, 'non': 2163, 'cowrote': 2164, 'powder': 2165, 'korean': 2166, 'female': 2167, 'ya': 2168, 'spirited': 2169, 'neglected': 2170, 'thoughtprovoking': 2171, 'smith': 2172, 'homes': 2173, 'chances': 2174, 'irritating': 2175, 'nod': 2176, 'motown': 2177, 'wins': 2178, 'slip': 2179, 'remaining': 2180, 'environment': 2181, 'danish': 2182, 'celebrates': 2183, 'research': 2184, 'sincere': 2185, 'business': 2186, 'dots': 2187, 'filling': 2188, 'brothers': 2189, 'fried': 2190, 'exercise': 2191, 'exploration': 2192, 'conflict': 2193, 'imaginative': 2194, 'sits': 2195, 'confidence': 2196, 'reggio': 2197, 'huppert': 2198, 'dirk': 2199, 'shafer': 2200, 'greg': 2201, 'hinton': 2202, 'dubious': 2203, 'divide': 2204, 'gay': 2205, 'porn': 2206, 'reaches': 2207, 'leisurely': 2208, 'central': 2209, 'reject': 2210, 'monty': 2211, 'python': 2212, 'meaning': 2213, 'membership': 2214, 'arguably': 2215, 'silliest': 2216, 'emerges': 2217, 'observed': 2218, 'anyway': 2219, 'corners': 2220, 'flexible': 2221, 'firm': 2222, 'writings': 2223, 'genet': 2224, 'rechy': 2225, 'fassbinder': 2226, 'nocturnal': 2227, 'goya': 2228, 'liman': 2229, 'swingers': 2230, 'clunker': 2231, 'lowheat': 2232, 'interrupted': 2233, 'middling': 2234, 'sermonizing': 2235, 'lifeless': 2236, 'paean': 2237, 'teenage': 2238, 'dullards': 2239, 'armada': 2240, 'homeworld': 2241, 'starcraft': 2242, 'aggressive': 2243, 'badluck': 2244, 'staleness': 2245, 'scarlet': 2246, 'diva': 2247, 'voyeuristic': 2248, 'sensational': 2249, 'meter': 2250, 'leather': 2251, 'engage': 2252, 'lofi': 2253, 'cobbled': 2254, 'nemesis': 2255, 'indulge': 2256, 'force': 2257, 'hardware': 2258, 'developers': 2259, 'meet': 2260, 'fate': 2261, 'transmission': 2262, 'mold': 2263, 'gold': 2264, 'puppy': 2265, 'customer': 2266, 'cuisnart': 2267, 'ask': 2268, 'snug': 2269, 'holes': 2270, 'aligned': 2271, 'whiplash': 2272, 'perry': 2273, 'elizabeth': 2274, 'hurley': 2275, 'illicit': 2276, 'chuckle': 2277, 'serving': 2278, 'sara': 2279, 'distinguish': 2280, 'herd': 2281, 'downbeat': 2282, 'darkness': 2283, 'risk': 2284, 'humour': 2285, 'growth': 2286, 'preparing': 2287, 'dishes': 2288, 'smelling': 2289, 'sam': 2290, 'bunch': 2291, 'pompous': 2292, 'windbags': 2293, 'drone': 2294, 'inanely': 2295, 'cacophony': 2296, 'prattle': 2297, 'board': 2298, 'repellent': 2299, 'chaotic': 2300, 'panorama': 2301, 'busy': 2302, 'flying': 2303, 'metaphoric': 2304, 'flags': 2305, 'heaven': 2306, 'operation': 2307, 'intuitive': 2308, 'cracker': 2309, 'wellmade': 2310, 'depiction': 2311, 'mysteries': 2312, 'safely': 2313, 'sanded': 2314, 'insomnia': 2315, 'darned': 2316, 'greasiest': 2317, 'wendigo': 2318, 'fed': 2319, 'velocity': 2320, 'idiocy': 2321, 'ruinous': 2322, 'brawn': 2323, 'brains': 2324, 'trade': 2325, 'muddy': 2326, 'blurry': 2327, 'stereotypical': 2328, 'bmovie': 2329, 'presuppose': 2330, 'bigotry': 2331, 'zealous': 2332, 'nuttiness': 2333, 'antagonists': 2334, 'fundamentals': 2335, 'displays': 2336, 'impartiality': 2337, 'flaccid': 2338, 'exasperatingly': 2339, 'demographic': 2340, 'demonstrates': 2341, 'gothic': 2342, 'flashbacks': 2343, 'choke': 2344, 'canter': 2345, 'ear': 2346, 'afford': 2347, 'trust': 2348, 'cups': 2349, 'exists': 2350, 'soccer': 2351, 'ford': 2352, 'deserves': 2353, 'crafting': 2354, 'conflicted': 2355, 'soldier': 2356, 'slide': 2357, 'instantly': 2358, 'ernest': 2359, 'hemmingway': 2360, 'accelerated': 2361, 'speed': 2362, 'sufficiently': 2363, 'affect': 2364, 'perversely': 2365, 'cheerful': 2366, 'marcus': 2367, 'miller': 2368, 'accordionharmonicabanjo': 2369, 'abomination': 2370, 'monument': 2371, 'miscasts': 2372, 'crosscultural': 2373, 'manners': 2374, 'tonedeaf': 2375, 'singer': 2376, 'concert': 2377, 'appearing': 2378, 'behalf': 2379, 'seriousness': 2380, 'aspirations': 2381, 'applauded': 2382, 'pampered': 2383, 'garlic': 2384, 'floral': 2385, 'colors': 2386, 'experts': 2387, 'mature': 2388, 'gifted': 2389, 'crossing': 2390, 'nuclear': 2391, 'dot': 2392, 'disconnected': 2393, 'builds': 2394, 'gloves': 2395, 'leaving': 2396, 'places': 2397, 'triangle': 2398, 'difficulttoswallow': 2399, 'disappointingly': 2400, 'realm': 2401, 'improbable': 2402, 'tugofwar': 2403, 'beijing': 2404, 'bicycle': 2405, 'weighed': 2406, 'agonizing': 2407, 'overheated': 2408, 'pathos': 2409, 'wistful': 2410, 'gazes': 2411, 'frei': 2412, 'loosens': 2413, 'proportion': 2414, 'nachtwey': 2415, 'selfanalysis': 2416, 'underwritten': 2417, 'including': 2418, 'father': 2419, 'grandfather': 2420, 'woods': 2421, 'videodrome': 2422, 'audrey': 2423, 'sixth': 2424, 'pounds': 2425, 'succeed': 2426, 'optimism': 2427, 'burner': 2428, 'horizontally': 2429, 'shelves': 2430, 'troopers': 2431, 'fleeting': 2432, 'register': 2433, 'anybody': 2434, 'retains': 2435, 'spot': 2436, 'precollegiate': 2437, 'plugs': 2438, 'ipad': 2439, 'loose': 2440, 'wink': 2441, 'postmodern': 2442, 'sardine': 2443, 'warped': 2444, 'unsatisfying': 2445, 'hybrid': 2446, 'blair': 2447, 'witch': 2448, 'stalkandslash': 2449, 'conservative': 2450, 'hd': 2451, 'thinker': 2452, 'muffins': 2453, 'bagels': 2454, 'authenticity': 2455, 'trappings': 2456, 'plotting': 2457, 'anachronistic': 2458, 'imperfect': 2459, 'fable': 2460, 'unified': 2461, 'eastern': 2462, 'european': 2463, 'jews': 2464, 'changed': 2465, 'thcentury': 2466, 'undermined': 2467, 'ahola': 2468, 'inadequate': 2469, 'trek': 2470, 'honored': 2471, 'dialogueheavy': 2472, 'contrived': 2473, 'onlyin': 2474, 'productions': 2475, 'generating': 2476, 'talk': 2477, 'christmastree': 2478, 'flocking': 2479, 'imitation': 2480, 'testing': 2481, 'delights': 2482, 'hindsight': 2483, 'mull': 2484, 'nuance': 2485, 'westfeldt': 2486, 'juergensen': 2487, 'exude': 2488, 'saucy': 2489, 'endearing': 2490, 'unfolds': 2491, 'burger': 2492, 'imaginatively': 2493, 'embers': 2494, 'dormant': 2495, 'national': 2496, 'curiosity': 2497, 'calcified': 2498, 'chronic': 2499, 'cynicism': 2500, 'tony': 2501, 'hawk': 2502, 'skating': 2503, 'interspliced': 2504, 'jersey': 2505, 'shore': 2506, 'techno': 2507, 'element': 2508, 'titles': 2509, 'distributors': 2510, 'closing': 2511, 'weaves': 2512, 'balanced': 2513, 'controlled': 2514, 'weirdly': 2515, 'sympathetic': 2516, 'stretchy': 2517, 'multiplex': 2518, 'edgeofyourseat': 2519, 'priceless': 2520, 'uniquely': 2521, 'deepest': 2522, 'notions': 2523, 'smartest': 2524, 'bonehead': 2525, 'summer': 2526, 'makeup': 2527, 'brushes': 2528, 'tortillas': 2529, 'mexican': 2530, 'burrito': 2531, 'cinemabesotted': 2532, 'critic': 2533, 'salad': 2534, 'spinner': 2535, 'brandnew': 2536, 'celebi': 2537, 'conditioned': 2538, 'weepy': 2539, 'saucereyed': 2540, 'downycheeked': 2541, 'moppets': 2542, 'empathetic': 2543, 'caretakers': 2544, 'tart': 2545, 'sugarfree': 2546, 'mention': 2547, 'leds': 2548, 'flashlight': 2549, 'enjoyed': 2550, 'bumps': 2551, 'knockaround': 2552, 'yesterday': 2553, 'details': 2554, 'faded': 2555, 'photographs': 2556, 'spanishamerican': 2557, 'unmemorable': 2558, 'ballpoint': 2559, 'ink': 2560, 'beatrice': 2561, 'affection': 2562, 'pays': 2563, 'intricate': 2564, 'intellectual': 2565, 'hurry': 2566, 'move': 2567, 'sake': 2568, 'caliber': 2569, 'providing': 2570, 'solace': 2571, 'deception': 2572, 'mcfarlane': 2573, 'lifts': 2574, 'firmly': 2575, 'jarring': 2576, 'rambunctious': 2577, 'sister': 2578, 'nonjew': 2579, 'deviant': 2580, 'topical': 2581, 'fantastical': 2582, 'realities': 2583, 'sockyouintheeye': 2584, 'unlike': 2585, 'pets': 2586, 'eat': 2587, 'conditioning': 2588, 'shea': 2589, 'tip': 2590, 'windy': 2591, 'skillfully': 2592, 'evoke': 2593, 'dwellers': 2594, 'remove': 2595, 'applied': 2596, 'season': 2597, 'ravaged': 2598, 'paths': 2599, 'nazgul': 2600, 'beaten': 2601, 'handful': 2602, 'fiddling': 2603, 'lowest': 2604, 'kickstand': 2605, 'lock': 2606, 'buff': 2607, 'pinch': 2608, 'tartness': 2609, 'blocks': 2610, 'wind': 2611, 'below': 2612, 'rotisserrie': 2613, 'area': 2614, 'pairs': 2615, 'password': 2616, 'router': 2617, 'recoginize': 2618, 'neverending': 2619, 'confusion': 2620, 'hatred': 2621, 'promotes': 2622, 'understanding': 2623, 'conventional': 2624, 'picks': 2625, 'thematic': 2626, 'looseygoosey': 2627, 'experimental': 2628, 'equals': 2629, 'mediocrity': 2630, 'wan': 2631, 'pounder': 2632, 'commodity': 2633, 'flicks': 2634, 'wincingly': 2635, 'nauseatingly': 2636, 'politically': 2637, 'guaranteed': 2638, 'oftenly': 2639, 'rail': 2640, 'iphones': 2641, 'thumb': 2642, 'fluffy': 2643, 'wished': 2644, 'auto': 2645, 'shut': 2646, 'franchise': 2647, 'fly': 2648, 'tunnel': 2649, 'barrel': 2650, 'homework': 2651, 'satisfied': 2652, 'lyrical': 2653, 'raja': 2654, 'amari': 2655, 'expands': 2656, 'wanna': 2657, 'treatise': 2658, 'empowerment': 2659, 'sugar': 2660, 'addictive': 2661, 'chargers': 2662, 'menu': 2663, 'books': 2664, 'hypertime': 2665, 'clockstoppers': 2666, 'command': 2667, 'cinnamon': 2668, 'sweetness': 2669, 'stevia': 2670, 'rob': 2671, 'marshall': 2672, 'gunning': 2673, 'relatively': 2674, 'marvellous': 2675, 'childhood': 2676, 'idealism': 2677, 'uncomfortable': 2678, 'christians': 2679, 'reductionist': 2680, 'lord': 2681, 'luvspreading': 2682, 'dr': 2683, 'omnipotent': 2684, 'slacker': 2685, 'vastly': 2686, 'affronted': 2687, 'secularists': 2688, 'praise': 2689, 'god': 2690, 'delivering': 2691, 'unrealistic': 2692, 'shocking': 2693, 'bottomless': 2694, 'pit': 2695, 'gory': 2696, 'sunshine': 2697, 'limbo': 2698, 'ways': 2699, 'toast': 2700, 'clinical': 2701, 'uninvolving': 2702, 'prompting': 2703, 'admission': 2704, 'rivets': 2705, 'died': 2706, 'entranced': 2707, 'appalled': 2708, 'shinya': 2709, 'tsukamoto': 2710, 'turner': 2711, 'german': 2712, 'synching': 2713, 'passwords': 2714, 'notorious': 2715, 'oodles': 2716, 'vulgar': 2717, 'forced': 2718, 'overwritten': 2719, 'clayburgh': 2720, 'improve': 2721, 'frustrated': 2722, 'amazement': 2723, 'integral': 2724, 'sluggishly': 2725, 'episodic': 2726, 'veteran': 2727, 'joe': 2728, 'zwick': 2729, 'sitcom': 2730, 'snapcrackle': 2731, 'goodfellas': 2732, 'muddled': 2733, 'cautionary': 2734, 'hispanic': 2735, 'americans': 2736, 'spousal': 2737, 'contemporary': 2738, 'reduces': 2739, 'tragedy': 2740, 'alabama': 2741, 'escaped': 2742, 'town': 2743, 'unselfconscious': 2744, 'munch': 2745, 'versus': 2746, 'sentiment': 2747, 'buoys': 2748, 'unexplored': 2749, 'wondering': 2750, 'exoticlooking': 2751, 'hinted': 2752, 'halfadozen': 2753, 'headdest': 2754, 'grab': 2755, 'amaze': 2756, 'amuse': 2757, 'racket': 2758, 'villains': 2759, 'benefits': 2760, 'settled': 2761, 'comfortably': 2762, 'pandered': 2763, 'infuriating': 2764, 'adapted': 2765, 'kevin': 2766, 'molony': 2767, 'leys': 2768, 'alan': 2769, 'taylor': 2770, 'parisian': 2771, 'stillborn': 2772, 'spike': 2773, 'lee': 2774, 'jim': 2775, 'brown': 2776, 'tempting': 2777, 'andrew': 2778, 'collaborators': 2779, 'oddballs': 2780, 'quizzical': 2781, 'removed': 2782, 'mother': 2783, 'humidifier': 2784, 'lining': 2785, 'stiffer': 2786, 'contrast': 2787, 'deadend': 2788, 'experimentation': 2789, 'cuddly': 2790, 'funnier': 2791, 'madcap': 2792, 'literate': 2793, 'insistently': 2794, 'humanizing': 2795, 'plotted': 2796, 'precisely': 2797, 'soderbergh': 2798, 'delightful': 2799, 'confront': 2800, 'aberration': 2801, 'lose': 2802, 'sandrine': 2803, 'goats': 2804, 'sunset': 2805, 'devotes': 2806, 'bigoted': 2807, 'views': 2808, 'stylus': 2809, 'xbox': 2810, 'panel': 2811, 'broadway': 2812, 'candle': 2813, 'heaviest': 2814, 'joyless': 2815, 'tile': 2816, 'floor': 2817, 'rewarding': 2818, 'actioneffects': 2819, 'zojirushi': 2820, 'tons': 2821, 'veggies': 2822, 'consuming': 2823, 'articulated': 2824, 'expressive': 2825, 'flights': 2826, 'burdette': 2827, 'graters': 2828, 'completed': 2829, 'headphone': 2830, 'flapping': 2831, 'plentiful': 2832, 'draft': 2833, 'flawless': 2834, 'speedloader': 2835, 'magazine': 2836, 'graceless': 2837, 'witless': 2838, 'mating': 2839, 'espionage': 2840, 'frida': 2841, 'artistic': 2842, 'undeniable': 2843, 'breathtakingly': 2844, 'bothersome': 2845, 'deftly': 2846, 'wrought': 2847, 'shadings': 2848, 'coloring': 2849, 'dulled': 2850, 'slasher': 2851, 'gorefests': 2852, 'connoisseur': 2853, 'replacing': 2854, 'toasters': 2855, 'fortune': 2856, 'boyd': 2857, 'weighs': 2858, 'track': 2859, 'zero': 2860, 'stylish': 2861, 'recognized': 2862, 'cursor': 2863, 'ears': 2864, 'frothy': 2865, 'vanity': 2866, 'faithful': 2867, 'official': 2868, 'constriction': 2869, 'lapses': 2870, 'lingo': 2871, 'uninitiated': 2872, 'smartypants': 2873, 'aura': 2874, 'dazzles': 2875, 'lust': 2876, 'fastpaced': 2877, 'minority': 2878, 'report': 2879, 'stagy': 2880, 'gels': 2881, 'shrewd': 2882, 'feminist': 2883, 'fairy': 2884, 'sitting': 2885, 'sun': 2886, 'ample': 2887, 'win': 2888, 'hardhearted': 2889, 'cynics': 2890, 'resourceful': 2891, 'ingenious': 2892, 'emptied': 2893, 'obstruction': 2894, 'edited': 2895, 'syncopated': 2896, 'mimicking': 2897, 'mtv': 2898, 'throwback': 2899, 'cartoons': 2900, 'idiosyncratic': 2901, 'couples': 2902, 'miles': 2903, 'pabst': 2904, 'ribbon': 2905, 'beer': 2906, 'drink': 2907, 'roadtrip': 2908, 'balm': 2909, 'vaseline': 2910, 'despises': 2911, 'drained': 2912, 'sober': 2913, 'devoid': 2914, 'whistles': 2915, 'bells': 2916, 'obnoxious': 2917, 'stiff': 2918, 'maneuver': 2919, 'length': 2920, 'met': 2921, 'seinfeld': 2922, 'griping': 2923, 'biz': 2924, 'garry': 2925, 'shandling': 2926, 'colin': 2927, 'quinn': 2928, 'alcohol': 2929, 'qts': 2930, 'stolid': 2931, 'affability': 2932, 'nominal': 2933, 'arquette': 2934, 'shameless': 2935, 'coarse': 2936, 'dash': 2937, 'graceful': 2938, 'contemplative': 2939, 'gradually': 2940, 'artfully': 2941, 'fatally': 2942, 'passions': 2943, 'aroused': 2944, 'discord': 2945, 'stark': 2946, 'mideast': 2947, 'desert': 2948, 'perceptively': 2949, 'desiccated': 2950, 'moderately': 2951, 'involving': 2952, 'bargainbasement': 2953, 'plugin': 2954, 'gangs': 2955, 'york': 2956, 'unapologetic': 2957, 'saving': 2958, 'blowing': 2959, 'fears': 2960, 'cringeinducing': 2961, 'stadium': 2962, 'nuked': 2963, 'chucked': 2964, 'helmer': 2965, 'devito': 2966, 'payola': 2967, 'wrists': 2968, 'operations': 2969, 'noticable': 2970, 'delay': 2971, 'lag': 2972, 'resent': 2973, 'souls': 2974, 'cheer': 2975, 'congeals': 2976, 'wars': 2977, 'saga': 2978, 'spine': 2979, 'tingle': 2980, 'revelation': 2981, 'surprised': 2982, 'professionally': 2983, 'wider': 2984, 'foods': 2985, 'latifah': 2986, 'flaunting': 2987, 'lube': 2988, 'soooo': 2989, 'patronized': 2990, 'iranian': 2991, 'lad': 2992, 'gosling': 2993, 'provides': 2994, 'dwarfs': 2995, 'counterpart': 2996, 'bedroom': 2997, 'moretti': 2998, 'quieter': 2999, 'ongoing': 3000, 'efforts': 3001, 'cube': 3002, 'skinny': 3003, 'buddy': 3004, 'mike': 3005, 'epps': 3006, 'laurel': 3007, 'hood': 3008, 'attentive': 3009, 'concern': 3010, 'hoffman': 3011, 'private': 3012, 'lessons': 3013, 'recital': 3014, 'unceasing': 3015, 'sadism': 3016, 'excessive': 3017, 'exposing': 3018, 'streets': 3019, 'cinematographer': 3020, 'ballhaus': 3021, 'explaining': 3022, 'tattoo': 3023, 'curiously': 3024, 'jar': 3025, 'destined': 3026, 'predawn': 3027, 'slots': 3028, 'invitation': 3029, 'implications': 3030, 'unobtrusively': 3031, 'spyro': 3032, 'attal': 3033, 'gainsbourg': 3034, 'personas': 3035, 'quaint': 3036, 'concocts': 3037, 'unwrapped': 3038, 'costumey': 3039, 'isolation': 3040, 'permeates': 3041, 'bastions': 3042, 'individuality': 3043, 'ikea': 3044, 'yankee': 3045, 'swap': 3046, 'parking': 3047, 'defects': 3048, 'nrelentingly': 3049, 'performer': 3050, 'retention': 3051, 'clumping': 3052, 'feeds': 3053, 'chilling': 3054, 'sights': 3055, 'numbing': 3056, 'incapable': 3057, 'conveying': 3058, 'flotsam': 3059, 'causing': 3060, 'harm': 3061, 'smelly': 3062, 'bother': 3063, 'despising': 3064, 'dies': 3065, 'installation': 3066, 'masterfully': 3067, 'preciously': 3068, 'interwoven': 3069, 'addresses': 3070, 'intermingling': 3071, 'commerce': 3072, 'corner': 3073, 'taller': 3074, 'enterprise': 3075, 'adventures': 3076, 'perils': 3077, 'againcourage': 3078, 'selfsacrifice': 3079, 'pressure': 3080, 'depressing': 3081, 'confirmation': 3082, 'unelected': 3083, 'suspected': 3084, 'w': 3085, 'bush': 3086, 'incurious': 3087, 'uncharismatic': 3088, 'overgrown': 3089, 'frat': 3090, 'streak': 3091, 'wide': 3092, 'moody': 3093, 'horrorthriller': 3094, 'elevated': 3095, 'deft': 3096, 'staging': 3097, 'wellknown': 3098, 'nonstick': 3099, 'ignites': 3100, 'complication': 3101, 'brave': 3102, 'heartbeat': 3103, 'salute': 3104, 'language': 3105, 'rhythm': 3106, 'zippy': 3107, 'sampling': 3108, 'succeeded': 3109, 'focusing': 3110, 'intently': 3111, 'figures': 3112, 'process': 3113, 'clichd': 3114, 'upset': 3115, 'cart': 3116, 'bus': 3117, 'shambles': 3118, 'unattractive': 3119, 'unbearably': 3120, 'utterly': 3121, 'hilarity': 3122, 'cgi': 3123, 'inkandpaint': 3124, 'belkin': 3125, 'persian': 3126, 'vacation': 3127, 'apparently': 3128, 'thirteen': 3129, 'submit': 3130, 'abandons': 3131, 'pretense': 3132, 'waltzes': 3133, 'hectic': 3134, 'ups': 3135, 'downs': 3136, 'breathing': 3137, 'unedited': 3138, 'journal': 3139, 'anthropologically': 3140, 'detailed': 3141, 'realization': 3142, 'suburbia': 3143, 'overstated': 3144, 'timely': 3145, 'viewings': 3146, 'pulling': 3147, 'spielberg': 3148, 'sl': 3149, 'liar': 3150, 'futile': 3151, 'silliness': 3152, 'kiddie': 3153, 'sensibilities': 3154, 'sausages': 3155, 'hamburgers': 3156, 'unbelievably': 3157, 'thermometer': 3158, 'carry': 3159, 'pocket': 3160, 'response': 3161, 'metaphor': 3162, 'subconscious': 3163, 'upclose': 3164, 'cheesey': 3165, 'ignore': 3166, 'diversity': 3167, 'represented': 3168, 'prevents': 3169, 'repetitious': 3170, 'appropriately': 3171, 'brief': 3172, 'learnt': 3173, 'cotton': 3174, 'meditation': 3175, 'obsessions': 3176, 'winds': 3177, 'slender': 3178, 'stunt': 3179, 'achieve': 3180, 'conceived': 3181, 'collections': 3182, 'traits': 3183, 'lifted': 3184, 'outline': 3185, 'task': 3186, 'jell': 3187, 'interacting': 3188, 'eyeballtoeyeball': 3189, 'toetotoe': 3190, 'hopkins': 3191, 'norton': 3192, 'fiennes': 3193, 'steals': 3194, 'dragon': 3195, 'noses': 3196, 'complaints': 3197, 'endlessly': 3198, 'suggesting': 3199, 'wim': 3200, 'wenders': 3201, 'actioner': 3202, 'clips': 3203, 'pink': 3204, 'panther': 3205, 'andor': 3206, 'sailor': 3207, 'moon': 3208, 'spliced': 3209, 'messy': 3210, 'answers': 3211, 'blessed': 3212, 'geeks': 3213, 'historians': 3214, 'openendedness': 3215, 'preferences': 3216, 'interiors': 3217, 'moodily': 3218, 'shall': 3219, 'distant': 3220, 'figuring': 3221, 'twists': 3222, 'mamet': 3223, 'enormous': 3224, 'mcconaughey': 3225, 'swaggering': 3226, 'lunacy': 3227, 'stained': 3228, 'heaping': 3229, 'folds': 3230, 'foam': 3231, 'andturns': 3232, 'breve': 3233, 'latte': 3234, 'louder': 3235, 'seagal': 3236, 'guilty': 3237, 'autopilot': 3238, 'superbly': 3239, 'happiest': 3240, 'deals': 3241, 'narrow': 3242, 'staircase': 3243, 'loudness': 3244, 'sharpened': 3245, 'crank': 3246, 'pouring': 3247, 'gravies': 3248, 'clock': 3249, 'clicked': 3250, 'sluggish': 3251, 'asset': 3252, 'connectthedots': 3253, 'spyontherun': 3254, 'error': 3255, 'mirror': 3256, 'subsequent': 3257, 'chinese': 3258, 'revolution': 3259, 'communism': 3260, 'etc': 3261, 'notice': 3262, 'streaming': 3263, 'gallon': 3264, 'tanks': 3265, 'cases': 3266, 'roma': 3267, 'tomatoes': 3268, 'flaws': 3269, 'drowns': 3270, 'lousy': 3271, 'stretches': 3272, 'whatsoever': 3273, 'gutwrenching': 3274, 'holocaust': 3275, 'adequate': 3276, 'education': 3277, 'uninteresting': 3278, 'undistinguished': 3279, 'giants': 3280, 'tuneless': 3281, 'tune': 3282, 'obsessivecompulsive': 3283, 'detail': 3284, 'outright': 3285, 'ridiculousness': 3286, 'rymer': 3287, 'bloodless': 3288, 'corny': 3289, 'affirmation': 3290, 'neighborhood': 3291, 'livedin': 3292, 'glow': 3293, 'alfred': 3294, 'hitchcock': 3295, 'huston': 3296, 'trifles': 3297, 'worldclass': 3298, 'heartbreak': 3299, 'convey': 3300, 'haughtiness': 3301, 'sketchy': 3302, 'previously': 3303, 'aplomb': 3304, 'sardonic': 3305, 'stones': 3306, 'reliable': 3307, 'respectful': 3308, 'fatal': 3309, 'attraction': 3310, 'comparison': 3311, 'originally': 3312, 'clarity': 3313, 'wusthofs': 3314, 'scenebyscene': 3315, 'hardpressed': 3316, 'normal': 3317, 'sounding': 3318, 'sentences': 3319, 'sad': 3320, 'roads': 3321, 'basic': 3322, 'potato': 3323, 'gas': 3324, 'zippers': 3325, 'surpassed': 3326, 'magic': 3327, 'spun': 3328, 'empress': 3329, 'ms': 3330, 'leoni': 3331, 'ellie': 3332, 'propelled': 3333, 'caricatures': 3334, 'warmedover': 3335, 'wannabe': 3336, 'elmore': 3337, 'leonard': 3338, 'sinks': 3339, 'exploitation': 3340, 'believes': 3341, 'goal': 3342, 'baffling': 3343, 'misfire': 3344, 'weakest': 3345, 'woody': 3346, 'twenty': 3347, 'handed': 3348, 'picked': 3349, 'ginsu': 3350, 'massage': 3351, 'superficial': 3352, 'trendhoppy': 3353, 'software': 3354, 'waiting': 3355, 'vampire': 3356, 'ii': 3357, 'wild': 3358, 'hoot': 3359, 'sucks': 3360, 'veins': 3361, 'cringing': 3362, 'workout': 3363, 'sitcomcute': 3364, 'notquite': 3365, 'amiability': 3366, 'personifies': 3367, 'assume': 3368, 'curling': 3369, 'lanie': 3370, 'professional': 3371, 'failure': 3372, 'driven': 3373, 'ambition': 3374, 'enthralling': 3375, 'frustrates': 3376, 'deconstructing': 3377, 'doubtless': 3378, 'blessing': 3379, 'deniro': 3380, 'underscores': 3381, 'plods': 3382, 'polishing': 3383, 'requirement': 3384, 'masterpiece': 3385, 'wisegirls': 3386, 'lowkey': 3387, 'grounds': 3388, 'cheetos': 3389, 'artificially': 3390, 'enhanced': 3391, 'snack': 3392, 'vastness': 3393, 'implied': 3394, 'breathtaking': 3395, 'predictably': 3396, 'suffused': 3397, 'extreme': 3398, 'ops': 3399, 'crowd': 3400, 'ours': 3401, 'salvage': 3402, 'refuse': 3403, 'deceivingly': 3404, 'retrospect': 3405, 'kegger': 3406, 'sounded': 3407, 'sixpacks': 3408, 'margaritas': 3409, 'thrall': 3410, 'vicious': 3411, 'hangover': 3412, 'sent': 3413, 'pale': 3414, 'chalky': 3415, 'beige': 3416, 'unhappy': 3417, 'clash': 3418, 'apply': 3419, 'engagingly': 3420, 'maddening': 3421, 'magnetic': 3422, 'ebb': 3423, 'affordable': 3424, 'willams': 3425, 'release': 3426, 'absolute': 3427, 'masses': 3428, 'kicking': 3429, 'hart': 3430, 'rams': 3431, 'waits': 3432, 'halftime': 3433, 'irrevocably': 3434, 'bizarre': 3435, 'scoops': 3436, 'uniform': 3437, 'cookies': 3438, 'selling': 3439, 'room': 3440, 'tag': 3441, 'healthy': 3442, 'normally': 3443, 'depends': 3444, 'grateful': 3445, 'davis': 3446, 'nt': 3447, 'necklass': 3448, 'wagner': 3449, 'mcculloch': 3450, 'field': 3451, 'compassionate': 3452, 'healing': 3453, 'prongs': 3454, 'cork': 3455, 'stir': 3456, 'hiding': 3457, 'crit': 3458, 'mary': 3459, 'bell': 3460, 'enfamil': 3461, 'infant': 3462, 'characterized': 3463, 'choline': 3464, 'dha': 3465, 'cardboard': 3466, 'comicbook': 3467, 'actionmovie': 3468, 'standards': 3469, 'ballistic': 3470, 'vs': 3471, 'sever': 3472, 'chopper': 3473, 'bachelor': 3474, 'splendid': 3475, 'fullness': 3476, 'gel': 3477, 'adhesive': 3478, 'prepare': 3479, 'dough': 3480, 'remain': 3481, 'abstract': 3482, 'patois': 3483, 'tossing': 3484, 'mullinski': 3485, 'breezes': 3486, 'lovable': 3487, 'siberian': 3488, 'huskies': 3489, 'sheep': 3490, 'hosts': 3491, 'parkawrapped': 3492, 'dose': 3493, 'helloi': 3494, 'retailer': 3495, 'egoyan': 3496, 'involvement': 3497, 'heresy': 3498, 'intellectually': 3499, 'anker': 3500, 'behavior': 3501, 'intent': 3502, 'convinced': 3503, 'sealing': 3504, 'block': 3505, 'tackle': 3506, 'hooks': 3507, 'overhead': 3508, 'psychologically': 3509, 'al': 3510, 'pacino': 3511, 'connections': 3512, 'nurturing': 3513, 'gauzy': 3514, 'dithering': 3515, 'chain': 3516, 'consoles': 3517, 'recommand': 3518, 'everyday': 3519, 'mouth': 3520, 'thirsty': 3521, 'code': 3522, 'principals': 3523, 'bishop': 3524, 'standouts': 3525, 'turgid': 3526, 'lesson': 3527, 'humourless': 3528, 'closes': 3529, 'photos': 3530, 'aching': 3531, 'tears': 3532, 'drivers': 3533, 'downloaded': 3534, 'unsuccessful': 3535, 'aborbing': 3536, 'arguable': 3537, 'greatness': 3538, 'influences': 3539, 'nohthing': 3540, 'honey': 3541, 'wally': 3542, 'wolodarsky': 3543, 'coeducational': 3544, 'fraternity': 3545, 'kappa': 3546, 'rho': 3547, 'alpha': 3548, 'phi': 3549, 'spending': 3550, 'worthless': 3551, 'british': 3552, 'gleefully': 3553, 'unconcerned': 3554, 'cockamamie': 3555, 'pitched': 3556, 'precipitously': 3557, 'swoony': 3558, 'lyricism': 3559, 'violent': 3560, 'catastrophe': 3561, 'nervewracking': 3562, 'screamingly': 3563, 'neurotic': 3564, 'oem': 3565, 'xoom': 3566, 'prima': 3567, 'ran': 3568, 'choked': 3569, 'catch': 3570, 'definite': 3571, 'handled': 3572, 'stephen': 3573, 'homespun': 3574, 'mule': 3575, 'skinner': 3576, 'blues': 3577, 'posse': 3578, 'trailer': 3579, 'park': 3580, 'denizens': 3581, 'operates': 3582, 'selfcontained': 3583, 'universe': 3584, 'steeped': 3585, 'wartime': 3586, 'ably': 3587, 'speech': 3588, 'patterns': 3589, 'ideals': 3590, 'dud': 3591, 'antlers': 3592, 'driveins': 3593, 'gym': 3594, 'marathon': 3595, 'influx': 3596, 'liquid': 3597, 'calories': 3598, 'grams': 3599, 'carbohydrates': 3600, 'boast': 3601, 'frenzied': 3602, 'click': 3603, 'shadyac': 3604, 'shoots': 3605, 'm': 3606, 'shyamalan': 3607, 'frequently': 3608, 'maintains': 3609, 'snail': 3610, 'forgot': 3611, 'lighters': 3612, 'diehard': 3613, 'japanese': 3614, 'alzheimer': 3615, 'iris': 3616, 'researched': 3617, 'chosen': 3618, 'pluto': 3619, 'nash': 3620, 'homemade': 3621, 'sauce': 3622, 'pepperoni': 3623, 'mushrooms': 3624, 'twothirds': 3625, 'sparklingly': 3626, 'inventive': 3627, 'flashy': 3628, 'impenetrable': 3629, 'morvern': 3630, 'workingclass': 3631, 'accent': 3632, 'grosses': 3633, 'bb': 3634, 'verizon': 3635, 'woke': 3636, 'marineland': 3637, 'aquarium': 3638, 'systems': 3639, 'portrayed': 3640, 'fastidiousness': 3641, 'christian': 3642, 'ellefsen': 3643, 'frailties': 3644, 'magnified': 3645, 'versions': 3646, 'vex': 3647, 'successive': 3648, 'coleman': 3649, 'benchmark': 3650, 'contenders': 3651, 'measured': 3652, 'glamour': 3653, 'clamor': 3654, 'inert': 3655, 'travels': 3656, 'forth': 3657, 'epochs': 3658, 'preshooting': 3659, 'guidelines': 3660, 'cleverer': 3661, 'finished': 3662, 'sign': 3663, 'rack': 3664, 'oliveira': 3665, 'poetically': 3666, 'plump': 3667, 'fulsome': 3668, 'showy': 3669, 'bittersweet': 3670, 'themes': 3671, 'reinforced': 3672, 'brilliantly': 3673, 'personified': 3674, 'michel': 3675, 'piccoli': 3676, 'frenzy': 3677, 'loitering': 3678, 'transmit': 3679, 'health': 3680, 'endurance': 3681, 'dandruff': 3682, 'scalp': 3683, 'farrell': 3684, 'willis': 3685, 'worldweary': 3686, 'colonel': 3687, 'batches': 3688, 'teasing': 3689, 'gooddeedbaddeed': 3690, 'reversals': 3691, 'sinner': 3692, 'symmetrical': 3693, 'crossshaped': 3694, 'creation': 3695, 'flipped': 3696, 'hewitt': 3697, 'leaning': 3698, 'lowcut': 3699, 'gowns': 3700, 'comebacks': 3701, 'harmless': 3702, 'theology': 3703, 'aside': 3704, 'horrid': 3705, 'costco': 3706, 'tablet': 3707, 'supergluing': 3708, 'magnets': 3709, 'avail': 3710, 'investing': 3711, 'emi': 3712, 'recording': 3713, 'malfitanodomingo': 3714, 'therapeutic': 3715, 'leon': 3716, 'barlow': 3717, 'ensues': 3718, 'microcosm': 3719, 'mythology': 3720, 'surfergirl': 3721, 'gasping': 3722, 'beached': 3723, 'grouper': 3724, 'derails': 3725, 'insert': 3726, 'micro': 3727, 'widescreen': 3728, 'dumped': 3729, 'bin': 3730, 'juiced': 3731, 'lettuce': 3732, 'greens': 3733, 'pitchers': 3734, 'hu': 3735, 'liu': 3736, 'matteroffact': 3737, 'glint': 3738, 'sorrow': 3739, 'longing': 3740, 'rehashing': 3741, 'onejoke': 3742, 'unreal': 3743, 'tournament': 3744, 'definition': 3745, 'werner': 3746, 'soe': 3747, 'push': 3748, 'aptly': 3749, 'earthbound': 3750, 'soporific': 3751, 'dank': 3752, 'melodramacharacter': 3753, 'makmalbaf': 3754, 'follows': 3755, 'path': 3756, 'kurdish': 3757, 'refugees': 3758, 'iran': 3759, 'borderlands': 3760, 'merely': 3761, 'logistical': 3762, 'feat': 3763, 'russian': 3764, 'ark': 3765, 'marks': 3766, 'milestone': 3767, 'droid': 3768, 'slowest': 3769, 'inane': 3770, 'inoffensive': 3771, 'exaggerated': 3772, 'seats': 3773, 'exchange': 3774, 'immensely': 3775, 'goliath': 3776, 'slowed': 3777, 'laying': 3778, 'selfcongratulatory': 3779, 'imax': 3780, 'rahrah': 3781, 'wood': 3782, 'sealant': 3783, 'winter': 3784, 'exploits': 3785, 'hotbutton': 3786, 'disgusting': 3787, 'jeopardy': 3788, 'prop': 3789, 'tormented': 3790, 'straps': 3791, 'elastic': 3792, 'fabulous': 3793, 'covered': 3794, 'lodge': 3795, 'omelet': 3796, 'welldrawn': 3797, 'wellmeaningness': 3798, 'erase': 3799, 'believer': 3800, 'nazi': 3801, 'grills': 3802, 'adjustable': 3803, 'reminds': 3804, 'putty': 3805, 'reply': 3806, 'number': 3807, 'location': 3808, 'improved': 3809, 'theirs': 3810, 'mirth': 3811, 'pauline': 3812, 'paulette': 3813, 'featuring': 3814, 'fieldsized': 3815, 'oriental': 3816, 'rug': 3817, 'millions': 3818, 'vibrant': 3819, 'razors': 3820, 'bride': 3821, 'halfhour': 3822, 'quietness': 3823, 'ree': 3824, 'drummond': 3825, 'wimp': 3826, 'cried': 3827, 'weber': 3828, 'weissman': 3829, 'demonstrate': 3830, 'cockettes': 3831, 'gender': 3832, 'indomitable': 3833, 'rebel': 3834, 'pies': 3835, 'accuracy': 3836, 'fundamental': 3837, 'taut': 3838, 'reflecting': 3839, 'instability': 3840, 'metaphorical': 3841, 'unnerving': 3842, 'heartbeatlike': 3843, 'score': 3844, 'benoit': 3845, 'operatofilm': 3846, 'translation': 3847, 'heaving': 3848, 'puccini': 3849, 'famous': 3850, 'lovejealousy': 3851, 'murdersuicide': 3852, 'fandango': 3853, 'watched': 3854, 'featurelength': 3855, 'anymore': 3856, 'methods': 3857, 'trite': 3858, 'yu': 3859, 'highenergy': 3860, 'stylings': 3861, 'stupor': 3862, 'seduced': 3863, 'witherspoon': 3864, 'runofthemill': 3865, 'vehicle': 3866, 'max': 3867, 'nolan': 3868, 'bravely': 3869, 'treads': 3870, 'dare': 3871, 'delve': 3872, 'ambivalence': 3873, 'ambiguity': 3874, 'crosscuts': 3875, 'lend': 3876, 'individual': 3877, 'resonance': 3878, 'thq': 3879, 'jump': 3880, 'frowns': 3881, 'blades': 3882, 'handles': 3883, 'leverage': 3884, 'starting': 3885, 'upgrade': 3886, 'vender': 3887, 'koyaanisqatsi': 3888, 'powaqqatsi': 3889, 'collage': 3890, 'naqoyqatsi': 3891, 'navelgazing': 3892, 'tadpole': 3893, 'goodnatured': 3894, 'blentec': 3895, 'sold': 3896, 'vitamix': 3897, 'estimate': 3898, 'refill': 3899, 'compartments': 3900, 'cpu': 3901, 'longley': 3902, 'coherent': 3903, 'horrifically': 3904, 'vivid': 3905, 'turbulent': 3906, 'saldanha': 3907, 'verbal': 3908, 'operator': 3909, 'attachemnts': 3910, 'gray': 3911, 'cheerios': 3912, 'afterall': 3913, 'wideranging': 3914, 'manipulation': 3915, 'reporting': 3916, 'liberal': 3917, 'maverick': 3918, 'hatfield': 3919, 'hicks': 3920, 'succumbs': 3921, 'dark': 3922, 'weep': 3923, 'portion': 3924, 'nicolas': 3925, 'philibert': 3926, 'observes': 3927, 'oneroom': 3928, 'schoolhouse': 3929, 'northern': 3930, 'france': 3931, 'note': 3932, 'appliance': 3933, 'owning': 3934, 'coverage': 3935, 'lie': 3936, 'dishonesty': 3937, 'happiness': 3938, 'resonate': 3939, 'singles': 3940, 'outcast': 3941, 'accessible': 3942, 'shed': 3943, 'killers': 3944, 'stalk': 3945, 'slash': 3946, 'backyard': 3947, 'battles': 3948, 'army': 3949, 'pda': 3950, 'windshield': 3951, 'recommended': 3952, 'cdn': 3953, 'discover': 3954, 'collectible': 3955, 'haynes': 3956, 'wonderment': 3957, 'du': 3958, 'sarcasm': 3959, 'miniscule': 3960, 'bleep': 3961, 'radar': 3962, 'check': 3963, 'idealistic': 3964, 'latent': 3965, 'o': 3966, 'scratch': 3967, 'rookie': 3968, 'allages': 3969, 'akin': 3970, 'portrays': 3971, 'oldfashioned': 3972, 'swashbuckling': 3973, 'springs': 3974, 'bluechip': 3975, 'peter': 3976, 'mattei': 3977, 'microwaves': 3978, 'leftover': 3979, 'motifs': 3980, 'basted': 3981, 'fauxcontemporary': 3982, 'gravy': 3983, 'concentrates': 3984, 'nick': 3985, 'hornby': 3986, 'effortless': 3987, 'pleasurable': 3988, 'featherweight': 3989, 'figured': 3990, 'alternative': 3991, 'catching': 3992, 'horrible': 3993, 'obliviousness': 3994, 'changer': 3995, 'selfevaluation': 3996, 'fragile': 3997, 'absence': 3998, 'invade': 3999, 'abundance': 4000, 'mindsets': 4001, 'hitting': 4002, 'upon': 4003, 'coat': 4004, 'hardearned': 4005, 'vets': 4006, 'twelve': 4007, 'dollars': 4008, 'sand': 4009, 'remotely': 4010, 'examples': 4011, 'anytime': 4012, 'subplot': 4013, 'depicts': 4014, 'struggles': 4015, 'heroes': 4016, 'insecure': 4017, 'uncontrolled': 4018, 'intense': 4019, 'goyer': 4020, 'understated': 4021, 'paying': 4022, 'homage': 4023, 'upfront': 4024, 'comment': 4025, 'strainer': 4026, 'dutch': 4027, 'sprinkle': 4028, 'stamping': 4029, 'sticking': 4030, 'introduces': 4031, 'fight': 4032, 'indeed': 4033, 'duty': 4034, 'reflect': 4035, 'masterful': 4036, 'artistry': 4037, 'crayola': 4038, 'crayons': 4039, 'carrots': 4040, 'orange': 4041, 'smear': 4042, 'cedar': 4043, 'openminded': 4044, 'talking': 4045, 'singing': 4046, 'furry': 4047, 'costume': 4048, 'lapdance': 4049, 'bar': 4050, 'contains': 4051, 'agave': 4052, 'nectar': 4053, 'occur': 4054, 'fussy': 4055, 'lowbudget': 4056, 'murkiest': 4057, 'intentionally': 4058, 'ferzan': 4059, 'ozpetek': 4060, 'borrows': 4061, 'sources': 4062, 'deja': 4063, 'vu': 4064, 'rumor': 4065, 'angels': 4066, 'touched': 4067, 'angel': 4068, 'weeping': 4069, 'resolute': 4070, 'nakedness': 4071, 'rebooted': 4072, 'spoons': 4073, 'stocking': 4074, 'stuffer': 4075, 'britney': 4076, 'spears': 4077, 'glitch': 4078, 'quasioriginal': 4079, 'pillage': 4080, 'shirley': 4081, 'richard': 4082, 'matheson': 4083, 'puke': 4084, 'maltodextrin': 4085, 'openers': 4086, 'sequels': 4087, 'repeats': 4088, 'camouflage': 4089, 'sameness': 4090, 'jennifer': 4091, 'lopez': 4092, 'shown': 4093, 'judgment': 4094, 'planning': 4095, 'marry': 4096, 'ben': 4097, 'affleck': 4098, 'till': 4099, 'maid': 4100, 'manhattan': 4101, 'condescending': 4102, 'hoodie': 4103, 'weaver': 4104, 'discontented': 4105, 'ladies': 4106, 'screeneating': 4107, 'dominatrixes': 4108, 'goldie': 4109, 'hawn': 4110, 'susan': 4111, 'sarandon': 4112, 'raunchy': 4113, 'hokum': 4114, 'leavitt': 4115, 'shares': 4116, 'observant': 4117, 'cleverness': 4118, 'toofacile': 4119, 'coincidence': 4120, 'noxious': 4121, 'preciousness': 4122, 'meant': 4123, 'freedom': 4124, 'overbearing': 4125, 'scores': 4126, 'dedicated': 4127, 'goodhearted': 4128, 'professionalism': 4129, 'elegantly': 4130, 'anderson': 4131, 'essentially': 4132, 'onetrick': 4133, 'pony': 4134, 'hampered': 4135, 'cozy': 4136, 'ingratiating': 4137, 'reasons': 4138, 'choppy': 4139, 'editing': 4140, 'spoil': 4141, 'researchers': 4142, 'quietly': 4143, 'dusty': 4144, 'letters': 4145, 'maguire': 4146, 'peterspiderman': 4147, 'attract': 4148, 'mosquitos': 4149, 'hamilton': 4150, 'beach': 4151, 'careless': 4152, 'amongst': 4153, 'adam': 4154, 'gary': 4155, 'cooper': 4156, 'gnat': 4157, 'racehorse': 4158, 'finer': 4159, 'patter': 4160, 'pseudosophisticated': 4161, 'remainder': 4162, 'daytime': 4163, 'persistent': 4164, 'feces': 4165, 'buzzing': 4166, 'youthful': 4167, 'subservient': 4168, 'gadgets': 4169, 'brandishing': 4170, 'perfume': 4171, 'seine': 4172, 'slogs': 4173, 'paris': 4174, 'uncomfortably': 4175, 'cheek': 4176, 'transfer': 4177, 'hall': 4178, 'holland': 4179, 'lecture': 4180, 'listen': 4181, 'teacher': 4182, 'endearingly': 4183, 'offbeat': 4184, 'meetcute': 4185, 'massmarket': 4186, 'industry': 4187, 'micromanagment': 4188, 'theres': 4189, 'identify': 4190, 'complain': 4191, 'bourne': 4192, 'identity': 4193, 'uneasy': 4194, 'alliance': 4195, 'waist': 4196, 'cords': 4197, 'foot': 4198, 'enjoys': 4199, 'gravitas': 4200, 'macdowell': 4201, 'placeholder': 4202, 'ergo': 4203, 'sloppy': 4204, 'gee': 4205, 'assassin': 4206, 'kennedy': 4207, 'studio': 4208, 'pizazz': 4209, 'helped': 4210, 'military': 4211, 'courtroom': 4212, 'dramas': 4213, 'dreamlike': 4214, 'impress': 4215, 'eurofilm': 4216, 'pretension': 4217, 'ounce': 4218, 'honeywells': 4219, 'painful': 4220, 'willing': 4221, 'byzantine': 4222, 'stimulates': 4223, 'functions': 4224, 'libido': 4225, 'washings': 4226, 'aftertaste': 4227, 'gollum': 4228, 'compendium': 4229, 'solondz': 4230, 'instincts': 4231, 'tasteless': 4232, 'clam': 4233, 'guillermo': 4234, 'del': 4235, 'toro': 4236, 'comicthriller': 4237, 'personality': 4238, 'brands': 4239, 'rara': 4240, 'avis': 4241, 'freeway': 4242, 'persuasive': 4243, 'jir': 4244, 'hubac': 4245, 'motor': 4246, 'barbed': 4247, 'bracing': 4248, 'cetaphil': 4249, 'cleanser': 4250, 'mascara': 4251, 'indicator': 4252, 'squalor': 4253, 'beef': 4254, 'bolognese': 4255, 'record': 4256, 'foreign': 4257, 'directors': 4258, 'borrow': 4259, 'invariably': 4260, 'teens': 4261, 'pain': 4262, 'strainingly': 4263, 'orphan': 4264, 'indicates': 4265, 'ambitions': 4266, 'wandered': 4267, 'adjusted': 4268, 'volumes': 4269, 'ipod': 4270, 'cassette': 4271, 'player': 4272, 'claritin': 4273, 'transmitter': 4274, 'receiver': 4275, 'insulated': 4276, 'patio': 4277, 'shipment': 4278, 'weddings': 4279, 'turntablism': 4280, 'ppl': 4281, 'riding': 4282, 'australia': 4283, 'oftdescribed': 4284, 'antidote': 4285, 'pietype': 4286, 'bundle': 4287, 'common': 4288, 'diffuses': 4289, 'breakthrough': 4290, 'greene': 4291, 'noble': 4292, 'matched': 4293, 'schweig': 4294, 'carries': 4295, 'handsome': 4296, 'squirrels': 4297, 'saddest': 4298, 'uplifting': 4299, 'overly': 4300, 'aborb': 4301, 'mayo': 4302, 'bacon': 4303, 'baggy': 4304, 'sprawling': 4305, 'carnival': 4306, 'rhyme': 4307, 'glitches': 4308, 'mic': 4309, 'pic': 4310, 'inviting': 4311, 'energetic': 4312, 'dogma': 4313, 'sleepinducing': 4314, 'neighbor': 4315, 'chopat': 4316, 'knee': 4317, 'bands': 4318, 'eight': 4319, 'nights': 4320, 'showcase': 4321, 'bounces': 4322, 'camper': 4323, 'chose': 4324, 'controls': 4325, 'headache': 4326, 'exotic': 4327, 'rivals': 4328, 'shakespeare': 4329, 'treachery': 4330, 'bythebooks': 4331, 'sprinklings': 4332, 'everlasting': 4333, 'delicate': 4334, 'philosophical': 4335, 'rainy': 4336, 'disintegration': 4337, 'families': 4338, 'cumbersome': 4339, 'clicheridden': 4340, 'greased': 4341, 'tie': 4342, 'cape': 4343, 'ensnared': 4344, 'fingers': 4345, 'plummer': 4346, 'villain': 4347, 'nathan': 4348, 'lane': 4349, 'crummles': 4350, 'capercomedy': 4351, 'laughfilled': 4352, 'kaputschnik': 4353, 'information': 4354, 'dennis': 4355, 'quaid': 4356, 'athletic': 4357, 'sopranos': 4358, 'folly': 4359, 'sleep': 4360, 'fishes': 4361, 'grocery': 4362, 'josef': 4363, 'bierbichler': 4364, 'brecht': 4365, 'monica': 4366, 'bleibtreu': 4367, 'helene': 4368, 'weigel': 4369, 'ingest': 4370, 'harmful': 4371, 'propellants': 4372, 'evo': 4373, 'attractive': 4374, 'compete': 4375, 'serry': 4376, 'capturing': 4377, 'climate': 4378, 'unwittingly': 4379, 'relating': 4380, 'happening': 4381, 'reminded': 4382, 'seven': 4383, 'william': 4384, 'malone': 4385, 'slavishly': 4386, 'copies': 4387, 'trashy': 4388, 'exploitative': 4389, 'unpleasant': 4390, 'dsp': 4391, 'phones': 4392, 'functioning': 4393, 'condition': 4394, 'various': 4395, 'depending': 4396, 'horsdoeuvre': 4397, 'feast': 4398, 'wasnt': 4399, 'fitting': 4400, 'sensor': 4401, 'fibers': 4402, 'admired': 4403, 'nair': 4404, 'stuffs': 4405, 'henna': 4406, 'ornamentation': 4407, 'clichs': 4408, 'telegraphed': 4409, 'episodes': 4410, 'opera': 4411, 'trimmed': 4412, 'lavish': 4413, 'threeyearold': 4414, 'grandeur': 4415, 'satisfy': 4416, 'grownup': 4417, 'realizes': 4418, 'understand': 4419, 'permutations': 4420, 'ripped': 4421, 'wing': 4422, 'unfunny': 4423, 'clocks': 4424, 'ol': 4425, 'legend': 4426, 'increase': 4427, 't': 4428, 'extremes': 4429, 'seriously': 4430, 'stepford': 4431, 'wives': 4432, 'mentality': 4433, 'reenactments': 4434, 'archival': 4435, 'talkinghead': 4436, 'interviews': 4437, 'sublime': 4438, 'minimodmadness': 4439, 'purely': 4440, 'motivation': 4441, 'ladle': 4442, 'hoary': 4443, 'macabre': 4444, 'selfdeprecating': 4445, 'culminates': 4446, 'notexactly': 4447, 'linksys': 4448, 'netgear': 4449, 'dawdles': 4450, 'virtue': 4451, 'generational': 4452, 'bonding': 4453, 'putting': 4454, 'socks': 4455, 'snap': 4456, 'willful': 4457, 'eccentricity': 4458, 'evidenced': 4459, 'essay': 4460, 'beginning': 4461, 'lameness': 4462, 'materials': 4463, 'workmanship': 4464, 'noticeably': 4465, 'migraineinducing': 4466, 'washing': 4467, 'breeze': 4468, 'infomercials': 4469, 'expensive': 4470, 'cheaply': 4471, 'plotwise': 4472, 'emailing': 4473, 'choreographed': 4474, 'bloodshed': 4475, 'pristine': 4476, 'neverland': 4477, 'nijinsky': 4478, 'savor': 4479, 'cox': 4480, 'decorated': 4481, 'carrying': 4482, 'herself': 4483, 'deffender': 4484, 'mckay': 4485, 'deflates': 4486, 'cliche': 4487, 'meanspiritedness': 4488, 'crossed': 4489, 'saturday': 4490, 'shy': 4491, 'overkill': 4492, 'exhausted': 4493, 'onscreen': 4494, 'mcdormand': 4495, 'sabotaged': 4496, 'inability': 4497, 'knockoffs': 4498, 'prefered': 4499, 'thickness': 4500, 'wustof': 4501, 'suffers': 4502, 'drabness': 4503, 'endemic': 4504, 'resonances': 4505, 'eerie': 4506, 'killed': 4507, 'elizabethan': 4508, 'prose': 4509, 'imprisonment': 4510, 'nerdy': 4511, 'inhabit': 4512, 'cherish': 4513, 'linen': 4514, 'securing': 4515, 'kicks': 4516, 'biting': 4517, 'tepid': 4518, 'depressed': 4519, 'continues': 4520, 'conspicuous': 4521, 'cucumber': 4522, 'juice': 4523, 'echhh': 4524, 'continue': 4525, 'philosophy': 4526, 'collector': 4527, 'descent': 4528, 'tortured': 4529, 'soul': 4530, 'slog': 4531, 'shoddy': 4532, 'airport': 4533, 'security': 4534, 'quart': 4535, 'choice': 4536, 'technically': 4537, 'insurance': 4538, 'staying': 4539, 'xfiles': 4540, 'bludgeon': 4541, 'unconscious': 4542, 'office': 4543, 'supply': 4544, 'harry': 4545, 'potter': 4546, 'magical': 4547, 'vividly': 4548, 'pitfalls': 4549, 'prize': 4550, 'tickets': 4551, 'locate': 4552, 'dyspeptic': 4553, 'rosle': 4554, 'holders': 4555, 'pronounce': 4556, 'gyro': 4557, 'correctly': 4558, 'vardalos': 4559, 'ethnic': 4560, 'afresh': 4561, 'copper': 4562, 'coated': 4563, 'oxidation': 4564, 'conduct': 4565, 'awkward': 4566, 'advertising': 4567, 'intact': 4568, 'xx': 4569, 'developments': 4570, 'facing': 4571, 'weigh': 4572, 'drain': 4573, 'needlessly': 4574, 'strain': 4575, 'oscillating': 4576, 'rooms': 4577, 'candy': 4578, 'solemn': 4579, 'horrifying': 4580, 'symbian': 4581, 'roughly': 4582, 'embarrassment': 4583, 'jokester': 4584, 'punchline': 4585, 'barry': 4586, 'deadeyed': 4587, 'neutrogena': 4588, 'scrolls': 4589, 'smoothly': 4590, 'theaters': 4591, 'trees': 4592, 'needed': 4593, 'junkfood': 4594, 'rap': 4595, 'tended': 4596, 'risks': 4597, 'seeming': 4598, 'gamble': 4599, 'kwan': 4600, 'mixand': 4601, 'lulling': 4602, 'cultivated': 4603, 'allergy': 4604, 'mystifying': 4605, 'novella': 4606, 'farcical': 4607, 'seperation': 4608, 'cross': 4609, 'contamination': 4610, 'containment': 4611, 'julia': 4612, 'exasperating': 4613, 'blandness': 4614, 'laura': 4615, 'regan': 4616, 'refrigerator': 4617, 'physically': 4618, 'integrity': 4619, 'beginnings': 4620, 'middles': 4621, 'solely': 4622, 'marketable': 4623, 'soulless': 4624, 'washable': 4625, 'dependable': 4626, 'suppose': 4627, 'sliced': 4628, 'lieu': 4629, 'bgrade': 4630, 'convincing': 4631, 'defunct': 4632, 'cleopatra': 4633, 'enigma': 4634, 'delibrately': 4635, 'obtuse': 4636, 'unapproachable': 4637, 'teach': 4638, 'dangers': 4639, 'drugs': 4640, 'rrated': 4641, 'ian': 4642, 'estate': 4643, 'cup': 4644, 'holder': 4645, 'pins': 4646, 'cantet': 4647, 'hotel': 4648, 'lobbies': 4649, 'twolane': 4650, 'highways': 4651, 'roadside': 4652, 'cafes': 4653, 'permeate': 4654, 'vein': 4655, 'situation': 4656, 'nonactors': 4657, 'gritty': 4658, 'nobudget': 4659, 'extend': 4660, 'arms': 4661, 'photographer': 4662, 'viewfinder': 4663, 'overreaches': 4664, 'moonlight': 4665, 'heartonitssleeve': 4666, 'dazzling': 4667, 'camerawork': 4668, 'perform': 4669, 'courage': 4670, 'sincerity': 4671, 'devotion': 4672, 'anxious': 4673, 'bedtime': 4674, 'broked': 4675, 'tightened': 4676, 'blonde': 4677, 'ale': 4678, 'cowboy': 4679, 'golden': 4680, 'lager': 4681, 'sm': 4682, 'maggie': 4683, 'gyllenhaal': 4684, 'delight': 4685, 'betterthanaverage': 4686, 'distracted': 4687, 'avary': 4688, 'ellis': 4689, 'empire': 4690, 'repackaged': 4691, 'latino': 4692, 'culkin': 4693, 'exudes': 4694, 'bratty': 4695, 'tangy': 4696, 'preschool': 4697, 'embracing': 4698, 'wholesome': 4699, 'oster': 4700, 'steamer': 4701, 'claim': 4702, 'montias': 4703, 'storage': 4704, 'drawer': 4705, 'k': 4706, 'dick': 4707, 'grave': 4708, 'spatula': 4709, 'removable': 4710, 'east': 4711, 'pu': 4712, 'rests': 4713, 'necklace': 4714, 'friend': 4715, 'specials': 4716, 'fell': 4717, 'windtalkers': 4718, 'shapelessly': 4719, 'gratifying': 4720, 'pick': 4721, 'faults': 4722, 'admit': 4723, 'privacy': 4724, 'sliceofdepression': 4725, 'touches': 4726, 'nerves': 4727, 'rings': 4728, 'workmanlike': 4729, 'guest': 4730, 'serve': 4731, 'acidic': 4732, 'brit': 4733, 'hole': 4734, 'editorial': 4735, 'spell': 4736, 'origin': 4737, 'manufacture': 4738, 'margin': 4739, 'overflow': 4740, 'purest': 4741, 'cheating': 4742, 'canister': 4743, 'fuel': 4744, 'shower': 4745, 'incorporated': 4746, 'hire': 4747, 'thrill': 4748, 'alongside': 4749, 'dumas': 4750, 'botchjobs': 4751, 'mask': 4752, 'musketeer': 4753, 'peptalk': 4754, 'charity': 4755, 'offend': 4756, 'saccharine': 4757, 'earnestness': 4758, 'producers': 4759, 'clink': 4760, 'virtually': 4761, 'defines': 4762, 'surfacing': 4763, 'teflon': 4764, 'flaking': 4765, 'blandly': 4766, 'scripted': 4767, 'graduated': 4768, 'elementary': 4769, 'inspirational': 4770, 'characterizing': 4771, 'diverse': 4772, 'site': 4773, 'woo': 4774, 'recapturing': 4775, 'hong': 4776, 'kong': 4777, 'reasonalbe': 4778, 'childcentered': 4779, 'claustrophobic': 4780, 'punishing': 4781, 'lark': 4782, 'rank': 4783, 'murphy': 4784, 'lesserpraised': 4785, 'unabashedly': 4786, 'schmaltzy': 4787, 'disposable': 4788, 'programmable': 4789, 'flavorselect': 4790, 'bubblers': 4791, 'sells': 4792, 'civilization': 4793, 'mixer': 4794, 'wipe': 4795, 'neat': 4796, 'scarves': 4797, 'agree': 4798, 'paddles': 4799, 'base': 4800, 'denis': 4801, 'michele': 4802, 'petin': 4803, 'penetrates': 4804, 'rawness': 4805, 'tantalizing': 4806, 'radtach': 4807, 'procable': 4808, 'dock': 4809, 'extender': 4810, 'reconnect': 4811, 'renner': 4812, 'dahmer': 4813, 'similarities': 4814, 'gymkata': 4815, 'howie': 4816, 'firestorm': 4817, 'fingernails': 4818, 'instinctively': 4819, 'crawled': 4820, 'towards': 4821, 'longsuffering': 4822, 'eyeballs': 4823, 'jk': 4824, 'rowling': 4825, 'phenomenal': 4826, 'fantasy': 4827, 'sellers': 4828, 'goround': 4829, 'possesses': 4830, 'pleasing': 4831, 'headlong': 4832, 'thrust': 4833, 'likably': 4834, 'delinquent': 4835, 'fuller': 4836, 'gutsy': 4837, 'revelations': 4838, 'regarding': 4839, 'iconic': 4840, 'gambol': 4841, 'fluidly': 4842, 'shamelessly': 4843, 'ekobrew': 4844, 'section': 4845, 'tongs': 4846, 'locking': 4847, 'mechanism': 4848, 'backwards': 4849, 'forsaken': 4850, 'rehash': 4851, 'doorstep': 4852, 'hopes': 4853, 'bruise': 4854, 'persnickety': 4855, 'preteens': 4856, 'nonthreatening': 4857, 'circles': 4858, 'costar': 4859, 'wahlberg': 4860, 'missed': 4861, 'defensive': 4862, 'driving': 4863, 'conscientious': 4864, 'mistakes': 4865, 'cold': 4866, 'seattle': 4867, 'drizzle': 4868, 'rainwear': 4869, 'roger': 4870, 'michell': 4871, 'persuasion': 4872, 'notting': 4873, 'hill': 4874, 'artsy': 4875, 'glib': 4876, 'satirical': 4877, 'fudges': 4878, 'facts': 4879, 'facile': 4880, 'engages': 4881, 'tabloid': 4882, 'journalism': 4883, 'numbers': 4884, 'reps': 4885, 'totally': 4886, 'suspend': 4887, 'entrance': 4888, 'miserable': 4889, 'believing': 4890, 'flatbush': 4891, 'exceedingly': 4892, 'ganesh': 4893, 'midlevel': 4894, 'metaphorically': 4895, 'haunting': 4896, 'viciously': 4897, 'grownups': 4898, 'steps': 4899, 'rates': 4900, 'images': 4901, 'enhance': 4902, 'otherworldly': 4903, 'combo': 4904, 'youarethere': 4905, 'closeness': 4906, 'disorienting': 4907, 'unreality': 4908, 'seemingly': 4909, 'brokendown': 4910, 'fourth': 4911, 'africanamerican': 4912, 'quest': 4913, 'origins': 4914, 'yearning': 4915, 'circle': 4916, 'burr': 4917, 'celebration': 4918, 'rumination': 4919, 'fatality': 4920, 'classism': 4921, 'ignorance': 4922, 'fastest': 4923, 'frayed': 4924, 'fishoutofwater': 4925, 'thirty': 4926, 'groundbreaking': 4927, 'resist': 4928, 'tangling': 4929, 'combat': 4930, 'impersonal': 4931, 'relentlessness': 4932, 'videogame': 4933, 'inspired': 4934, 'trip': 4935, 'minds': 4936, 'motivations': 4937, 'stress': 4938, 'keen': 4939, 'unsentimental': 4940, 'variations': 4941, 'motherhood': 4942, 'require': 4943, 'genius': 4944, 'operating': 4945, 'intentioned': 4946, 'snoozer': 4947, 'coffeemaker': 4948, 'powers': 4949, 'team': 4950, 'waffle': 4951, 'jan': 4952, 'wildly': 4953, 'prison': 4954, 'stumble': 4955, 'cubic': 4956, 'ft': 4957, 'chest': 4958, 'biscuits': 4959, 'activated': 4960, 'charcoal': 4961, 'welloiled': 4962, 'upholstered': 4963, 'shreds': 4964, 'earpiece': 4965, 'completion': 4966, 'fail': 4967, 'explode': 4968, 'vacuums': 4969, 'sigh': 4970, 'current': 4971, 'considerably': 4972, 'pictured': 4973, 'sight': 4974, 'anchored': 4975, 'satin': 4976, 'rouge': 4977, 'selfactualization': 4978, 'continental': 4979, 'divides': 4980, 'multiplayer': 4981, 'generally': 4982, 'dreck': 4983, 'disguised': 4984, 'speaker': 4985, 'forgive': 4986, 'financial': 4987, 'extortion': 4988, 'reap': 4989, 'smears': 4990, 'evaporates': 4991, 'jeans': 4992, 'gulps': 4993, 'huggy': 4994, 'swept': 4995, 'sorry': 4996, 'nonbeliever': 4997, 'rely': 4998, 'substitute': 4999, 'importantly': 5000, 'document': 5001, 'believed': 5002, 'fleshed': 5003, 'smiles': 5004, 'microsoft': 5005, 'realook': 5006, 'fearless': 5007, 'picking': 5008, 'foibles': 5009, 'lay': 5010, 'bare': 5011, 'cutouts': 5012, 'plsced': 5013, 'ooze': 5014, 'grandchildren': 5015, 'functional': 5016, 'stoppers': 5017, 'inexpensive': 5018, 'term': 5019, 'roomba': 5020, 'bento': 5021, 'boker': 5022, 'poignant': 5023, 'hickenlooper': 5024, 'pasadena': 5025, 'patchouli': 5026, 'splashed': 5027, 'glitter': 5028, 'pitch': 5029, 'halfhearted': 5030, 'drag': 5031, 'modernday': 5032, 'punch': 5033, 'wow': 5034, 'useful': 5035, 'bubba': 5036, 'hotep': 5037, 'bravura': 5038, 'bruce': 5039, 'campbell': 5040, 'aware': 5041, 'dares': 5042, 'shading': 5043, 'mayhem': 5044, 'monotonous': 5045, 'unimaginative': 5046, 'glibly': 5047, 'widely': 5048, 'produced': 5049, 'collect': 5050, 'usage': 5051, 'bathtub': 5052, 'clichebound': 5053, 'epichorror': 5054, 'dumber': 5055, 'majidi': 5056, 'ravishing': 5057, 'consciousnessraiser': 5058, 'draggy': 5059, 'greatgrandson': 5060, 'reverence': 5061, 'demanding': 5062, 'shoot': 5063, 'purchasing': 5064, 'conclusion': 5065, 'subversive': 5066, 'grain': 5067, 'speaking': 5068, 'spellbinding': 5069, 'entrancing': 5070, 'unwieldy': 5071, 'repair': 5072, 'lists': 5073, 'mixes': 5074, 'stirs': 5075, 'slack': 5076, 'screams': 5077, 'bathroom': 5078, 'barris': 5079, 'cia': 5080, 'wasting': 5081, 'palm': 5082, 'choices': 5083, 'oliver': 5084, 'parker': 5085, 'intends': 5086, 'mangle': 5087, 'fuhgeddaboutit': 5088, 'ayurveda': 5089, 'confrontation': 5090, 'pi': 5091, 'limited': 5092, 'yawnprovoking': 5093, 'dullness': 5094, 'stated': 5095, 'exceptinal': 5096, 'tim': 5097, 'splashes': 5098, 'subjecting': 5099, 'puppet': 5100, 'strings': 5101, 'pushthelimits': 5102, 'teen': 5103, 'legitimate': 5104, 'extensively': 5105, 'hopelessly': 5106, 'overshadowed': 5107, 'hear': 5108, 'caller': 5109, 'clearly': 5110, 'versa': 5111, 'rhythms': 5112, 'jealousy': 5113, 'sacrifice': 5114, 'steady': 5115, 'stroke': 5116, 'waydowntown': 5117, 'boasts': 5118, 'engaging': 5119, 'sticks': 5120, 'pianist': 5121, 'valedictory': 5122, 'experiences': 5123, 'bargain': 5124, 'likability': 5125, 'wholeheartedly': 5126, 'significance': 5127, 'freaked': 5128, 'japan': 5129, 'premier': 5130, 'stylist': 5131, 'demented': 5132, 'date': 5133, 'candylike': 5134, 'fading': 5135, 'cent': 5136, 'gum': 5137, 'powerpuff': 5138, 'spread': 5139, 'bears': 5140, 'trailers': 5141, 'rigor': 5142, 'inspiring': 5143, 'showiness': 5144, 'offsets': 5145, 'notable': 5146, 'oftenmined': 5147, 'despairing': 5148, 'milieu': 5149, 'tuxedo': 5150, 'prepared': 5151, 'draw': 5152, 'unpicked': 5153, 'dead': 5154, 'vine': 5155, 'reinforces': 5156, 'population': 5157, 'heal': 5158, 'ancient': 5159, 'antidotes': 5160, 'cars': 5161, 'garage': 5162, 'moot': 5163, 'recomend': 5164, 'tmobile': 5165, 'mytouch': 5166, 'nicer': 5167, 'threaded': 5168, 'alignment': 5169, 'recipes': 5170, 'scorching': 5171, 'minimized': 5172, 'opi': 5173, 'animals': 5174, 'lathan': 5175, 'diggs': 5176, 'rapport': 5177, 'shifts': 5178, 'tense': 5179, 'soppy': 5180, 'berg': 5181, 'allwiseguysallthetime': 5182, 'tiring': 5183, 'salmons': 5184, 'vegetable': 5185, 'dollar': 5186, 'provocation': 5187, 'post': 5188, 'antique': 5189, 'unexpected': 5190, 'zigs': 5191, 'zags': 5192, 'incarnates': 5193, 'prophetic': 5194, 'exacting': 5195, 'admire': 5196, 'elegant': 5197, 'modulated': 5198, 'adobo': 5199, 'spice': 5200, 'concerns': 5201, 'examination': 5202, 'transition': 5203, 'violates': 5204, 'letter': 5205, 'behan': 5206, 'ribald': 5207, 'fullthroated': 5208, 'odd': 5209, 'grew': 5210, 'victor': 5211, 'impostor': 5212, 'xlear': 5213, 'hang': 5214, 'samantha': 5215, 'unfinished': 5216, 'swinging': 5217, 'ripe': 5218, 'reinstall': 5219, 'ghost': 5220, 'recon': 5221, 'raven': 5222, 'shield': 5223, 'learned': 5224, 'stereotypes': 5225, 'interaction': 5226, 'numbingly': 5227, 'comedic': 5228, 'loss': 5229, 'inconvenient': 5230, 'functionally': 5231, 'flavorful': 5232, 'martha': 5233, 'assuming': 5234, 'begin': 5235, 'puns': 5236, 'soup': 5237, 'chicom': 5238, 'surrounding': 5239, 'boat': 5240, 'malediction': 5241, 'mild': 5242, 'accompanying': 5243, 'sustenance': 5244, 'savetheplanet': 5245, 'clashes': 5246, 'crass': 5247, 'marketing': 5248, 'ataris': 5249, 'reaction': 5250, 'flowed': 5251, 'provided': 5252, 'comedian': 5253, 'hides': 5254, 'routines': 5255, 'slightest': 5256, 'tilt': 5257, 'dismay': 5258, 'invisishield': 5259, 'gruelling': 5260, 'witness': 5261, 'seldahl': 5262, 'wollter': 5263, 'sterling': 5264, 'raise': 5265, 'contact': 5266, 'players': 5267, 'drives': 5268, 'multiplay': 5269, 'ground': 5270, 'rain': 5271, 'enveloping': 5272, 'literal': 5273, 'cathartic': 5274, 'sony': 5275, 'celebrations': 5276, 'fasy': 5277, 'write': 5278, 'circumstances': 5279, 'younger': 5280, 'wallow': 5281, 'crude': 5282, 'misplace': 5283, 'spout': 5284, 'stopper': 5285, 'toes': 5286, 'heels': 5287, 'horizantaly': 5288, 'patches': 5289, 'divertingly': 5290, 'headbangingly': 5291, 'noisy': 5292, 'overcomes': 5293, 'regular': 5294, 'minefield': 5295, 'potent': 5296, 'sensitivity': 5297, 'nevertheless': 5298, 'candid': 5299, 'pentecostal': 5300, 'church': 5301, 'dallas': 5302, 'assembles': 5303, 'scare': 5304, 'teenagers': 5305, 'attending': 5306, 'services': 5307, 'asking': 5308, 'inspire': 5309, 'villians': 5310, 'introduced': 5311, 'spider': 5312, 'snake': 5313, 'winner': 5314, 'creativity': 5315, 'peak': 5316, 'delifery': 5317, 'late': 5318, 'potholes': 5319, 'befall': 5320, 'brethren': 5321, 'subscription': 5322, 'dolgin': 5323, 'franco': 5324, 'vietnameseborn': 5325, 'youngster': 5326, 'eagerly': 5327, 'assimilated': 5328, 'allamerican': 5329, 'tennessee': 5330, 'advantage': 5331, 'semihumorous': 5332, 'pretreated': 5333, 'withwoolite': 5334, 'pet': 5335, 'stain': 5336, 'wellwritten': 5337, 'openly': 5338, 'questioning': 5339, 'mores': 5340, 'ensnaring': 5341, 'pull': 5342, 'square': 5343, 'round': 5344, 'gourmet': 5345, 'drivethru': 5346, 'brazil': 5347, 'hittomiss': 5348, 'ratio': 5349, 'favour': 5350, 'murderous': 5351, 'maids': 5352, 'strike': 5353, 'closest': 5354, 'mismatched': 5355, 'crystal': 5356, 'mat': 5357, 'titme': 5358, 'discs': 5359, 'canada': 5360, 'sensation': 5361, 'witnessed': 5362, 'urge': 5363, 'sheen': 5364, 'discovered': 5365, 'newer': 5366, 'adequately': 5367, 'hence': 5368, 'reliability': 5369, 'screenwriters': 5370, 'scott': 5371, 'abbott': 5372, 'petroni': 5373, 'akasha': 5374, 'rusty': 5375, 'cycle': 5376, 'wellintentioned': 5377, 'soapopera': 5378, 'morality': 5379, 'tales': 5380, 'antiseptic': 5381, 'preprogrammed': 5382, 'afterschool': 5383, 'possibilities': 5384, 'stupidest': 5385, 'insulting': 5386, 'foster': 5387, 'nails': 5388, 'focused': 5389, 'illuminated': 5390, 'ecologically': 5391, 'minded': 5392, 'wildlife': 5393, 'teaches': 5394, 'unconventionally': 5395, 'wacky': 5396, 'loving': 5397, 'padding': 5398, 'offset': 5399, 'soles': 5400, 'wanders': 5401, 'unaware': 5402, 'presence': 5403, 'somewhat': 5404, 'crudely': 5405, 'questing': 5406, 'racked': 5407, 'selfloathing': 5408, 'festooning': 5409, 'screens': 5410, 'mostly': 5411, 'magically': 5412, 'trifle': 5413, 'outlets': 5414, 'elaborateness': 5415, 'conceptions': 5416, 'depict': 5417, 'elan': 5418, 'lavishly': 5419, 'praised': 5420, 'equate': 5421, 'obscurity': 5422, 'profundity': 5423, 'swype': 5424, 'letdown': 5425, 'astute': 5426, 'appraisal': 5427, 'musical': 5428, 'desperate': 5429, 'struggle': 5430, 'escape': 5431, 'bruising': 5432, 'defeat': 5433, 'odyssey': 5434, 'resonates': 5435, 'comparable': 5436, 'renoir': 5437, 'debases': 5438, 'crammed': 5439, 'cult': 5440, 'favorite': 5441, 'soulful': 5442, 'dared': 5443, 'metal': 5444, 'unwatchable': 5445, 'soapdish': 5446, 'unexciting': 5447, 'awfully': 5448, 'quentin': 5449, 'ritchie': 5450, 'chin': 5451, 'unhappily': 5452, 'marketplace': 5453, 'wrote': 5454, 'hoped': 5455, 'brow': 5456, 'raging': 5457, 'unpleasent': 5458, 'suggested': 5459, 'lived': 5460, 'lasers': 5461, 'charmingly': 5462, 'dear': 5463, 'protector': 5464, 'curves': 5465, 'afforded': 5466, 'clint': 5467, 'eastwood': 5468, 'bloodwork': 5469, 'benigni': 5470, 'tablets': 5471, 'band': 5472, 'texture': 5473, 'septuagenarian': 5474, 'nonagenarian': 5475, 'cleareyed': 5476, 'boldness': 5477, 'irony': 5478, 'urgent': 5479, 'dad': 5480, 'diverticulitious': 5481, 'verbinski': 5482, 'substitutes': 5483, 'deliciously': 5484, 'mordant': 5485, 'bitter': 5486, 'fulfills': 5487, 'exceeds': 5488, 'appearance': 5489, 'dreadful': 5490, 'grind': 5491, 'xylitol': 5492, 'truvia': 5493, 'sweeteners': 5494, 'nap': 5495, 'hour': 5496, 'uniformly': 5497, 'relaxed': 5498, 'anemic': 5499, 'lethal': 5500, 'weaponderived': 5501, 'buddycop': 5502, 'knowingness': 5503, 'uphill': 5504, 'battle': 5505, 'relationships': 5506, 'deeper': 5507, 'waters': 5508, 'drains': 5509, 'fessenden': 5510, 'trilogy': 5511, 'proved': 5512, 'finale': 5513, 'defiantly': 5514, 'smug': 5515, 'oily': 5516, 'demeanor': 5517, 'donovan': 5518, 'adopts': 5519, 'stupidly': 5520, 'pipe': 5521, 'repulsive': 5522, 'passes': 5523, 'accurately': 5524, 'accounting': 5525, 'texas': 5526, 'chainsaw': 5527, 'massacre': 5528, 'fries': 5529, 'maintenance': 5530, 'cleanings': 5531, 'individually': 5532, 'collectively': 5533, 'substantial': 5534, 'ephemeral': 5535, 'tease': 5536, 'gently': 5537, 'eccentricities': 5538, 'expressed': 5539, 'f': 5540, 'coating': 5541, 'cheapened': 5542, 'outrageousness': 5543, 'plympton': 5544, 'pages': 5545, 'densely': 5546, 'packed': 5547, 'schepisi': 5548, 'skimpy': 5549, 'unclear': 5550, 'clique': 5551, 'tends': 5552, 'breed': 5553, 'copout': 5554, 'avalanche': 5555, 'eyepopping': 5556, 'stake': 5557, 'obsolete': 5558, 'collection': 5559, 'penis': 5560, 'breast': 5561, 'flatulence': 5562, 'gags': 5563, 'belated': 5564, 'allstars': 5565, 'standing': 5566, 'shadows': 5567, 'informative': 5568, 'revealing': 5569, 'byler': 5570, 'cop': 5571, 'understands': 5572, 'jars': 5573, 'scarcely': 5574, 'visits': 5575, 'spymovie': 5576, 'examines': 5577, 'footnote': 5578, 'seldom': 5579, 'brought': 5580, 'guessing': 5581, 'frame': 5582, 'irresistible': 5583, 'grand': 5584, 'tambor': 5585, 'titular': 5586, 'advice': 5587, 'selfinfatuated': 5588, 'goofball': 5589, 'clumsy': 5590, 'stealing': 5591, 'harvard': 5592, 'directions': 5593, 'easel': 5594, 'patchwork': 5595, 'glossy': 5596, 'chiller': 5597, 'boost': 5598, 'stallone': 5599, 'appropriated': 5600, 'turfs': 5601, 'selfmade': 5602, 'celebrity': 5603, 'lowdown': 5604, 'prospective': 5605, 'tourists': 5606, 'destination': 5607, 'jolly': 5608, 'embroiled': 5609, 'civil': 5610, 'ostensibly': 5611, 'dysfunctional': 5612, 'destructive': 5613, 'preposterous': 5614, 'misogynistic': 5615, 'vistas': 5616, 'carvey': 5617, 'costumes': 5618, 'voices': 5619, 'damned': 5620, 'sham': 5621, 'routine': 5622, 'freundlich': 5623, 'checking': 5624, 'watches': 5625, 'sats': 5626, 'greenguts': 5627, 'beaut': 5628, 'absurd': 5629, 'recomiendo': 5630, 'este': 5631, 'vendedor': 5632, 'porque': 5633, 'tengo': 5634, 'seguridad': 5635, 'que': 5636, 'es': 5637, 'una': 5638, 'bella': 5639, 'y': 5640, 'honesta': 5641, 'persona': 5642, 'handiest': 5643, 'scalloped': 5644, 'chips': 5645, 'controversial': 5646, 'gorgeous': 5647, 'increasingly': 5648, 'unsettling': 5649, 'foreboding': 5650, 'adorned': 5651, 'surfing': 5652, 'hideous': 5653, 'spectacle': 5654, 'nail': 5655, 'coffin': 5656, 'adaptations': 5657, 'hinged': 5658, 'belief': 5659, 'knees': 5660, 'crotch': 5661, 'elbows': 5662, 'inherently': 5663, 'armenian': 5664, 'genocide': 5665, 'diluted': 5666, 'stage': 5667, 'nightmare': 5668, 'connecting': 5669, 'delicious': 5670, 'kashii': 5671, 'crunch': 5672, 'cereal': 5673, 'disclosure': 5674, 'basis': 5675, 'ordinary': 5676, 'symbols': 5677, 'waferthin': 5678, 'buried': 5679, 'scuffy': 5680, 'firsttime': 5681, 'deconstructionist': 5682, 'theorizing': 5683, 'philosopher': 5684, 'jacques': 5685, 'college': 5686, 'brushup': 5687, 'consumeradvice': 5688, 'otterboxes': 5689, 'protects': 5690, 'cigarette': 5691, 'smoke': 5692, 'rudimentary': 5693, 'recommending': 5694, 'marvelous': 5695, 'brendan': 5696, 'fraser': 5697, 'speaks': 5698, 'egyptian': 5699, 'demigod': 5700, 'processed': 5701, 'overproduced': 5702, 'inhabited': 5703, 'patterned': 5704, 'classy': 5705, 'table': 5706, 'orwell': 5707, 'bradbury': 5708, 'kafka': 5709, 'wachowski': 5710, 'eyre': 5711, 'uninspired': 5712, 'dramatics': 5713, 'outrage': 5714, 'skillet': 5715, 'steaks': 5716, 'eggs': 5717, 'protective': 5718, 'cents': 5719, 'uncertain': 5720, 'garbled': 5721, 'junior': 5722, 'varsity': 5723, 'fictitious': 5724, 'sophomoric': 5725, 'solved': 5726, 'hearing': 5727, 'kvetch': 5728, 'answering': 5729, 'checklist': 5730, 'teamwork': 5731, 'walking': 5732, 'encourage': 5733, 'applaud': 5734, 'undoubtedly': 5735, 'camps': 5736, 'engaged': 5737, 'ferocious': 5738, 'debate': 5739, 'pageturner': 5740, 'claws': 5741, 'dig': 5742, 'bundy': 5743, 'reilly': 5744, 'burke': 5745, 'octopus': 5746, 'river': 5747, 'shambling': 5748, 'cheerfully': 5749, 'diversion': 5750, 'string': 5751, 'insultingly': 5752, 'innocuous': 5753, 'fiascoes': 5754, 'outings': 5755, 'outlandish': 5756, 'border': 5757, 'cartoonlike': 5758, 'nokia': 5759, 'interface': 5760, 'griddle': 5761, 'doubles': 5762, 'indoor': 5763, 'strap': 5764, 'acrylic': 5765, 'tipping': 5766, 'pushed': 5767, 'misses': 5768, 'jelinek': 5769, 'shaky': 5770, 'bogus': 5771, 'frieling': 5772, 'bodum': 5773, 'cadness': 5774, 'lighthearted': 5775, 'hateful': 5776, 'classified': 5777, 'frank': 5778, 'lumpen': 5779, 'reliably': 5780, 'soulkilling': 5781, 'sadistic': 5782, 'miike': 5783, 'offthecuff': 5784, 'flourishes': 5785, 'highfalutin': 5786, 'corkscrew': 5787, 'shaggy': 5788, 'enchanting': 5789, 'audacious': 5790, 'tour': 5791, 'embrace': 5792, 'bounties': 5793, 'artifacts': 5794, 'petersburg': 5795, 'hermitage': 5796, 'zipper': 5797, 'shuts': 5798, 'covers': 5799, 'zipped': 5800, 'guard': 5801, 'dust': 5802, 'cheeks': 5803, 'insightful': 5804, 'oscarnominated': 5805, 'sides': 5806, 'everescalating': 5807, 'parental': 5808, 'peace': 5809, 'keeping': 5810, 'fur': 5811, 'minimum': 5812, 'cleans': 5813, 'waffles': 5814, 'reasonable': 5815, 'ringer': 5816, 'familyoriented': 5817, 'fantasyadventure': 5818, 'uneasily': 5819, 'finds': 5820, 'binds': 5821, 'frustrating': 5822, 'strained': 5823, 'gag': 5824, 'thus': 5825, 'subjected': 5826, 'mindnumbingly': 5827, 'lengthy': 5828, 'riff': 5829, 'poo': 5830, 'noticed': 5831, 'unusually': 5832, 'fatigued': 5833, 'extols': 5834, 'virtues': 5835, 'comradeship': 5836, 'soups': 5837, 'boil': 5838, 'loops': 5839, 'accidently': 5840, 'disappearance': 5841, 'audio': 5842, 'religion': 5843, 'holy': 5844, 'list': 5845, 'pie': 5846, 'weights': 5847, 'swipe': 5848, 'flip': 5849, 'hung': 5850, 'poorly': 5851, 'rolling': 5852, 'lowrent': 5853, 'convenient': 5854, 'cuisinart': 5855, 'lids': 5856, 'pour': 5857, 'everywhere': 5858, 'simultaneously': 5859, 'declined': 5860, 'exposure': 5861, 'fish': 5862, 'moist': 5863, 'nightwolf': 5864, 'juggles': 5865, 'hammers': 5866, 'extensions': 5867, 'themselves': 5868, 'spaces': 5869, 'charmers': 5870, 'blocking': 5871, 'coils': 5872, 'sheets': 5873, 'glassware': 5874, 'birot': 5875, 'directorial': 5876, 'christophe': 5877, 'honor': 5878, 'bland': 5879, 'rollers': 5880, 'breathes': 5881, 'amalgamating': 5882, 'adding': 5883, 'notsostock': 5884, 'ethan': 5885, 'fancied': 5886, 'bastard': 5887, 'beatnik': 5888, 'generation': 5889, 'chelsea': 5890, 'walls': 5891, 'creature': 5892, 'acknowledges': 5893, 'cheesiness': 5894, 'kick': 5895, 'automatically': 5896, 'pegs': 5897, 'straighttovideo': 5898, 'rental': 5899, 'goofy': 5900, 'mexico': 5901, 'rub': 5902, 'raw': 5903, 'bleeding': 5904, 'sub': 5905, 'specialize': 5906, 'category': 5907, 'crashed': 5908, 'corrupted': 5909, 'sick': 5910, 'snide': 5911, 'discovery': 5912, 'toys': 5913, 'lifetime': 5914, 'forgettable': 5915, 'carion': 5916, 'hums': 5917, 'careers': 5918, 'nong': 5919, 'shim': 5920, 'shin': 5921, 'ramyun': 5922, 'regulate': 5923, 'cycles': 5924, 'later': 5925, 'incarnation': 5926, 'fizz': 5927, 'infectious': 5928, 'suggestion': 5929, 'breezily': 5930, 'apolitical': 5931, 'campaign': 5932, 'trail': 5933, 'knot': 5934, 'undercut': 5935, 'headbanging': 5936, 'obviousness': 5937, 'claimed': 5938, 'falafel': 5939, 'grim': 5940, 'develop': 5941, 'tropical': 5942, 'victim': 5943, 'relying': 5944, 'fervently': 5945, 'scorns': 5946, 'meandering': 5947, 'inarticulate': 5948, 'spiders': 5949, 'outrun': 5950, 'motorcycle': 5951, 'cocoon': 5952, 'lowwattage': 5953, 'indistinct': 5954, 'grandson': 5955, 'construction': 5956, 'tweedy': 5957, 'talks': 5958, 'canning': 5959, 'stockbroker': 5960, 'repairing': 5961, 'pool': 5962, 'yearn': 5963, 'airborne': 5964, 'nude': 5965, 'groupies': 5966, 'liven': 5967, 'etoiles': 5968, 'dour': 5969, 'ought': 5970, 'joyful': 5971, 'trivial': 5972, 'hypercliched': 5973, 'incentive': 5974, 'lightest': 5975, 'dogme': 5976, 'sandwiched': 5977, 'impossibly': 5978, 'account': 5979, 'kahlo': 5980, 'imaginable': 5981, 'removeable': 5982, 'inserts': 5983, 'unplug': 5984, 'actress': 5985, 'tearing': 5986, 'movement': 5987, 'yuks': 5988, 'retain': 5989, 'tollable': 5990, 'thats': 5991, 'sticker': 5992, 'attached': 5993, 'clutchy': 5994, 'travelogue': 5995, 'diatribe': 5996, 'drops': 5997, 'pauses': 5998, 'blunt': 5999, 'exposition': 6000, 'bed': 6001, 'livelier': 6002, 'served': 6003, 'forman': 6004, 'protection': 6005, 'mnch': 6006, 'occasional': 6007, 'overindulgence': 6008, 'forgivable': 6009, 'foodsavers': 6010, 'halfwit': 6011, 'venerable': 6012, 'italian': 6013, 'gob': 6014, 'drivel': 6015, 'sickly': 6016, 'eager': 6017, 'pasteurized': 6018, 'ditties': 6019, 'retch': 6020, 'rancid': 6021, 'crme': 6022, 'brle': 6023, 'opposing': 6024, 'viewpoints': 6025, 'testimonial': 6026, 'tucker': 6027, 'mocking': 6028, 'pointlessness': 6029, 'trippy': 6030, 'downer': 6031, 'glorified': 6032, 'nike': 6033, 'ad': 6034, 'earth': 6035, 'ron': 6036, 'underwood': 6037, 'manage': 6038, 'blow': 6039, 'greengrass': 6040, 'undoubted': 6041, 'stylistic': 6042, 'cinematography': 6043, 'stores': 6044, 'built': 6045, 'wellacted': 6046, 'dangerously': 6047, 'preamble': 6048, 'materializes': 6049, 'digitally': 6050, 'injokes': 6051, 'provoked': 6052, 'schweiger': 6053, 'talented': 6054, 'charismatic': 6055, 'essential': 6056, 'anarchists': 6057, 'hanson': 6058, 'goof': 6059, 'seamless': 6060, 'palma': 6061, 'femme': 6062, 'fatale': 6063, 'sizes': 6064, 'timid': 6065, 'closure': 6066, 'twentieth': 6067, 'century': 6068, 'shaking': 6069, 'biggie': 6070, 'tupac': 6071, 'singlemindedly': 6072, 'cloth': 6073, 'metric': 6074, 'measurements': 6075, 'embossed': 6076, 'biggest': 6077, 'offense': 6078, 'monkeyfun': 6079, 'vegetables': 6080, 'included': 6081, 'everybody': 6082, 'scrolling': 6083, 'accents': 6084, 'wrench': 6085, 'digitalvideo': 6086, 'comedians': 6087, 'glorious': 6088, 'wanting': 6089, 'reported': 6090, 'havent': 6091, 'word': 6092, 'unique': 6093, 'raving': 6094, 'drowsy': 6095, 'heaviness': 6096, 'synchronized': 6097, 'swimmer': 6098, 'wetsuit': 6099, 'infomercial': 6100, 'devise': 6101, 'casserole': 6102, 'whom': 6103, 'robert': 6104, 'disneyfied': 6105, 'angst': 6106, 'feeders': 6107, 'hanging': 6108, 'poles': 6109, 'yard': 6110, 'comedythriller': 6111, 'savvy': 6112, 'paranoia': 6113, 'insecurity': 6114, 'grating': 6115, 'dickens': 6116, 'mcgrath': 6117, 'crafts': 6118, 'variation': 6119, 'explorations': 6120, 'magimel': 6121}\n",
            "Number of Unique Tokens 6121\n"
          ]
        }
      ]
    },
    {
      "cell_type": "code",
      "source": [
        "# 建立嵌入矩陣 ( 要丟給LSTM嵌入層的權重 )\n",
        "EMBEDDING_DIM = 300\n",
        "embedding_matrix = np.random.random(( len(word_index)+1, EMBEDDING_DIM ))\n",
        "for word, i in word_index.items():\n",
        "    if w2v_model.wv.__contains__(word):\n",
        "        embedding_matrix[i] = w2v_model.wv.__getitem__(word)\n",
        "print(\"Embedding Matrix Shape:\", embedding_matrix.shape)"
      ],
      "metadata": {
        "colab": {
          "base_uri": "https://localhost:8080/"
        },
        "id": "7jO6nEdeR6-7",
        "outputId": "4207030e-b733-4eae-e409-3bd95e33cb84"
      },
      "execution_count": null,
      "outputs": [
        {
          "output_type": "stream",
          "name": "stderr",
          "text": [
            "/usr/local/lib/python3.7/dist-packages/ipykernel_launcher.py:5: DeprecationWarning: Call to deprecated `wv` (Attribute will be removed in 4.0.0, use self instead).\n",
            "  \"\"\"\n",
            "/usr/local/lib/python3.7/dist-packages/ipykernel_launcher.py:6: DeprecationWarning: Call to deprecated `wv` (Attribute will be removed in 4.0.0, use self instead).\n",
            "  \n"
          ]
        },
        {
          "output_type": "stream",
          "name": "stdout",
          "text": [
            "Embedding Matrix Shape: (6122, 300)\n"
          ]
        }
      ]
    },
    {
      "cell_type": "markdown",
      "source": [
        "### 切割資料集 & 驗證集 (W2V & Glove使用)"
      ],
      "metadata": {
        "id": "PIPGOmtaUOPk"
      }
    },
    {
      "cell_type": "code",
      "source": [
        "# 切分資料集 & 驗證集\n",
        "input_length = 200\n",
        "\n",
        "def split_train_valid():\n",
        "  # 將編碼後的句子補零\n",
        "  train_data = pad_sequences(train_sequences, maxlen=input_length)\n",
        "  train_label = np.array(train_df[\"LABEL\"])\n",
        "  test_data = pad_sequences(test_sentences, maxlen=input_length)\n",
        "  \n",
        "  # 打亂順序\n",
        "  index = np.arange(train_data.shape[0])\n",
        "  np.random.shuffle(index)\n",
        "  data = train_data[index]\n",
        "  labels = train_label[index]\n",
        "  \n",
        "  # 切分成 8:2\n",
        "  data_size = int(data.shape[0]*0.8)\n",
        "  x_train = data[:data_size]\n",
        "  y_train = labels[:data_size]\n",
        "  x_val = data[data_size:]\n",
        "  y_val = labels[data_size:]\n",
        "\n",
        "  print( x_train.shape, y_train.shape  )\n",
        "  print( x_val.shape, y_val.shape  )\n",
        "  print( test_data.shape  )\n",
        "  return x_train, y_train, x_val, y_val, test_data\n",
        "\n",
        "x_train, y_train, x_val, y_val, test_data = split_train_valid()\n"
      ],
      "metadata": {
        "colab": {
          "base_uri": "https://localhost:8080/"
        },
        "id": "V8f9dXbgo_Er",
        "outputId": "f3929c8b-5aae-4f73-99e1-55cf50ed93f3"
      },
      "execution_count": null,
      "outputs": [
        {
          "output_type": "stream",
          "name": "stdout",
          "text": [
            "(1600, 200) (1600,)\n",
            "(400, 200) (400,)\n",
            "(11000, 200)\n"
          ]
        }
      ]
    },
    {
      "cell_type": "markdown",
      "source": [
        "## 建立模型"
      ],
      "metadata": {
        "id": "Cvxk42qnmuNu"
      }
    },
    {
      "cell_type": "code",
      "source": [
        "from keras.models import Sequential\n",
        "from keras.layers import Bidirectional, GlobalMaxPool1D, Dense, LSTM, Conv1D, Embedding, Dropout\n",
        "from keras.layers import TimeDistributed\n",
        "\n",
        "from keras.layers import SimpleRNN, Conv1D, ZeroPadding1D, GRU\n",
        "from keras.layers.normalization.batch_normalization import BatchNormalization\n",
        "\n",
        "from keras.layers.pooling import MaxPool1D\n",
        "from tensorflow.keras.optimizers import Adam\n",
        "\n",
        "from keras import backend as K \n",
        "\n",
        "from tensorflow.keras.layers import Layer\n",
        "import matplotlib.pyplot as plt"
      ],
      "metadata": {
        "id": "bnjAlg8S4vLC"
      },
      "execution_count": null,
      "outputs": []
    },
    {
      "cell_type": "code",
      "source": [
        "# 重跑模型的話再執行這個\n",
        "K.clear_session()\n",
        "del model"
      ],
      "metadata": {
        "id": "qlw4aKp46BM-"
      },
      "execution_count": null,
      "outputs": []
    },
    {
      "cell_type": "markdown",
      "source": [
        "### BERT"
      ],
      "metadata": {
        "id": "btxRUhLImxap"
      }
    },
    {
      "cell_type": "code",
      "source": [
        "# 參數設定：learning_rate 、 epoch\n",
        "learning_rate = 3e-5\n",
        "epochs = 4\n",
        "\n",
        "# 載入 Bert 預訓練模型\n",
        "model = TFBertForSequenceClassification.from_pretrained('bert-base-uncased')\n",
        "\n",
        "optimizer = tf.keras.optimizers.Adam(learning_rate=learning_rate, epsilon=1e-08)\n",
        "loss = tf.keras.losses.SparseCategoricalCrossentropy(from_logits=True)\n",
        "metric = tf.keras.metrics.SparseCategoricalAccuracy('accuracy')\n",
        "\n",
        "model.compile(optimizer=optimizer, loss=loss, metrics=[metric])\n",
        "model.summary()"
      ],
      "metadata": {
        "colab": {
          "base_uri": "https://localhost:8080/"
        },
        "id": "kGUNNu7BoX-O",
        "outputId": "7cc0e9e6-7d73-424b-889c-5a6be574b445"
      },
      "execution_count": null,
      "outputs": [
        {
          "output_type": "stream",
          "name": "stderr",
          "text": [
            "All model checkpoint layers were used when initializing TFBertForSequenceClassification.\n",
            "\n",
            "Some layers of TFBertForSequenceClassification were not initialized from the model checkpoint at bert-base-uncased and are newly initialized: ['classifier']\n",
            "You should probably TRAIN this model on a down-stream task to be able to use it for predictions and inference.\n"
          ]
        },
        {
          "output_type": "stream",
          "name": "stdout",
          "text": [
            "Model: \"tf_bert_for_sequence_classification\"\n",
            "_________________________________________________________________\n",
            " Layer (type)                Output Shape              Param #   \n",
            "=================================================================\n",
            " bert (TFBertMainLayer)      multiple                  109482240 \n",
            "                                                                 \n",
            " dropout_37 (Dropout)        multiple                  0         \n",
            "                                                                 \n",
            " classifier (Dense)          multiple                  1538      \n",
            "                                                                 \n",
            "=================================================================\n",
            "Total params: 109,483,778\n",
            "Trainable params: 109,483,778\n",
            "Non-trainable params: 0\n",
            "_________________________________________________________________\n"
          ]
        }
      ]
    },
    {
      "cell_type": "code",
      "source": [
        "# 訓練\n",
        "bert_history = model.fit(data_train, epochs=epochs, validation_data=data_valid)"
      ],
      "metadata": {
        "colab": {
          "base_uri": "https://localhost:8080/"
        },
        "id": "9CxL2JdAoa15",
        "outputId": "c3b4b2fd-427a-4e0b-f5ab-9d0a680d5358"
      },
      "execution_count": null,
      "outputs": [
        {
          "output_type": "stream",
          "name": "stdout",
          "text": [
            "Epoch 1/4\n",
            "200/200 [==============================] - 134s 565ms/step - loss: 0.5763 - accuracy: 0.6819 - val_loss: 0.2973 - val_accuracy: 0.8900\n",
            "Epoch 2/4\n",
            "200/200 [==============================] - 109s 545ms/step - loss: 0.3652 - accuracy: 0.8500 - val_loss: 0.1585 - val_accuracy: 0.9500\n",
            "Epoch 3/4\n",
            "200/200 [==============================] - 109s 546ms/step - loss: 0.1771 - accuracy: 0.9337 - val_loss: 0.0306 - val_accuracy: 0.9925\n",
            "Epoch 4/4\n",
            "200/200 [==============================] - 109s 545ms/step - loss: 0.1010 - accuracy: 0.9675 - val_loss: 0.0248 - val_accuracy: 0.9925\n"
          ]
        }
      ]
    },
    {
      "cell_type": "code",
      "source": [
        "plt.plot(bert_history.history['accuracy'])\n",
        "plt.plot(bert_history.history['val_accuracy'])\n",
        "plt.title('model accuracy')\n",
        "plt.ylabel('accuracy')\n",
        "plt.xlabel('epoch')\n",
        "plt.legend(['train', 'validation'], loc='upper left')\n",
        "plt.show()\n",
        "\n",
        "plt.plot(bert_history.history['loss'])\n",
        "plt.plot(bert_history.history['val_loss'])\n",
        "plt.title('model loss')\n",
        "plt.ylabel('loss')\n",
        "plt.xlabel('epoch')\n",
        "plt.legend(['train', 'validation'], loc='upper left')\n",
        "plt.show()"
      ],
      "metadata": {
        "colab": {
          "base_uri": "https://localhost:8080/",
          "height": 573
        },
        "id": "pcxcb2YaXAWe",
        "outputId": "39e32e88-44d3-4736-9dbb-390d712d0493"
      },
      "execution_count": null,
      "outputs": [
        {
          "output_type": "display_data",
          "data": {
            "text/plain": [
              "<Figure size 432x288 with 1 Axes>"
            ],
            "image/png": "[encoded data removed]"
          },
          "metadata": {
            "needs_background": "light"
          }
        },
        {
          "output_type": "display_data",
          "data": {
            "text/plain": [
              "<Figure size 432x288 with 1 Axes>"
            ],
            "image/png": "[encoded data removed]"
          },
          "metadata": {
            "needs_background": "light"
          }
        }
      ]
    },
    {
      "cell_type": "markdown",
      "source": [
        "### BiLSTM"
      ],
      "metadata": {
        "id": "2yrUUTATnRqf"
      }
    },
    {
      "cell_type": "code",
      "source": [
        "def BiLSTM_model():\n",
        "    embedding_layer = Embedding(\n",
        "        input_dim = embedding_matrix.shape[0],\n",
        "        output_dim = embedding_matrix.shape[1], \n",
        "        input_length = input_length,\n",
        "        weights = [embedding_matrix],\n",
        "        trainable=False)\n",
        "    \n",
        "    model = Sequential()\n",
        "    model.add( embedding_layer )\n",
        "    model.add(Bidirectional(LSTM(64, dropout=0.5, return_sequences=True)))\n",
        "    \n",
        "    model.add(Dense(64))\n",
        "    model.add(Dropout(0.5))\n",
        "\n",
        "    # model.add(BatchNormalization() )\n",
        "    model.add(GlobalMaxPool1D())\n",
        "    model.add(Dense(1, activation='sigmoid'))\n",
        "\n",
        "    return model"
      ],
      "metadata": {
        "id": "SNWfmyMH452g"
      },
      "execution_count": null,
      "outputs": []
    },
    {
      "cell_type": "code",
      "source": [
        "lstm_model = BiLSTM_model()\n",
        "lstm_model.summary()\n",
        "lstm_model.compile(loss='binary_crossentropy', optimizer=Adam(learning_rate=0.001,epsilon=1e-07), metrics=['accuracy'])"
      ],
      "metadata": {
        "colab": {
          "base_uri": "https://localhost:8080/"
        },
        "id": "-nRSInqG5HUo",
        "outputId": "edb7d2dd-1987-4acf-9a3a-8c495f1ac28b"
      },
      "execution_count": null,
      "outputs": [
        {
          "output_type": "stream",
          "name": "stdout",
          "text": [
            "Model: \"sequential\"\n",
            "_________________________________________________________________\n",
            " Layer (type)                Output Shape              Param #   \n",
            "=================================================================\n",
            " embedding (Embedding)       (None, 200, 300)          1559100   \n",
            "                                                                 \n",
            " bidirectional (Bidirectiona  (None, 200, 128)         186880    \n",
            " l)                                                              \n",
            "                                                                 \n",
            " dense (Dense)               (None, 200, 64)           8256      \n",
            "                                                                 \n",
            " dropout (Dropout)           (None, 200, 64)           0         \n",
            "                                                                 \n",
            " global_max_pooling1d (Globa  (None, 64)               0         \n",
            " lMaxPooling1D)                                                  \n",
            "                                                                 \n",
            " dense_1 (Dense)             (None, 1)                 65        \n",
            "                                                                 \n",
            "=================================================================\n",
            "Total params: 1,754,301\n",
            "Trainable params: 195,201\n",
            "Non-trainable params: 1,559,100\n",
            "_________________________________________________________________\n"
          ]
        }
      ]
    },
    {
      "cell_type": "code",
      "source": [
        "# 訓練\n",
        "lstm_history = lstm_model.fit( x_train, y_train, batch_size=15, epochs=15, verbose=1, validation_data = (x_val,y_val))"
      ],
      "metadata": {
        "colab": {
          "base_uri": "https://localhost:8080/"
        },
        "id": "cjkBCHIL5XKH",
        "outputId": "f6624a8a-d900-4589-e970-82b76ca3ff5f"
      },
      "execution_count": null,
      "outputs": [
        {
          "output_type": "stream",
          "name": "stdout",
          "text": [
            "Epoch 1/15\n",
            "107/107 [==============================] - 15s 101ms/step - loss: 0.7170 - accuracy: 0.5050 - val_loss: 0.6810 - val_accuracy: 0.5400\n",
            "Epoch 2/15\n",
            "107/107 [==============================] - 10s 91ms/step - loss: 0.6658 - accuracy: 0.5825 - val_loss: 0.6394 - val_accuracy: 0.6750\n",
            "Epoch 3/15\n",
            "107/107 [==============================] - 10s 91ms/step - loss: 0.5909 - accuracy: 0.6900 - val_loss: 0.5984 - val_accuracy: 0.7050\n",
            "Epoch 4/15\n",
            "107/107 [==============================] - 10s 91ms/step - loss: 0.5594 - accuracy: 0.7125 - val_loss: 0.5996 - val_accuracy: 0.6875\n",
            "Epoch 5/15\n",
            "107/107 [==============================] - 10s 91ms/step - loss: 0.5355 - accuracy: 0.7212 - val_loss: 0.6015 - val_accuracy: 0.6425\n",
            "Epoch 6/15\n",
            "107/107 [==============================] - 10s 92ms/step - loss: 0.5135 - accuracy: 0.7444 - val_loss: 0.5990 - val_accuracy: 0.6750\n",
            "Epoch 7/15\n",
            "107/107 [==============================] - 10s 90ms/step - loss: 0.5029 - accuracy: 0.7506 - val_loss: 0.5919 - val_accuracy: 0.6675\n",
            "Epoch 8/15\n",
            "107/107 [==============================] - 10s 91ms/step - loss: 0.4983 - accuracy: 0.7563 - val_loss: 0.5952 - val_accuracy: 0.6650\n",
            "Epoch 9/15\n",
            "107/107 [==============================] - 10s 94ms/step - loss: 0.4822 - accuracy: 0.7606 - val_loss: 0.5841 - val_accuracy: 0.6825\n",
            "Epoch 10/15\n",
            "107/107 [==============================] - 10s 90ms/step - loss: 0.4703 - accuracy: 0.7706 - val_loss: 0.5788 - val_accuracy: 0.6975\n",
            "Epoch 11/15\n",
            "107/107 [==============================] - 10s 90ms/step - loss: 0.4479 - accuracy: 0.7794 - val_loss: 0.5987 - val_accuracy: 0.6575\n",
            "Epoch 12/15\n",
            "107/107 [==============================] - 10s 91ms/step - loss: 0.4376 - accuracy: 0.7931 - val_loss: 0.5987 - val_accuracy: 0.6675\n",
            "Epoch 13/15\n",
            "107/107 [==============================] - 10s 90ms/step - loss: 0.4086 - accuracy: 0.7944 - val_loss: 0.6003 - val_accuracy: 0.6975\n",
            "Epoch 14/15\n",
            "107/107 [==============================] - 10s 90ms/step - loss: 0.3963 - accuracy: 0.8119 - val_loss: 0.6304 - val_accuracy: 0.6750\n",
            "Epoch 15/15\n",
            "107/107 [==============================] - 10s 90ms/step - loss: 0.3832 - accuracy: 0.8188 - val_loss: 0.5686 - val_accuracy: 0.7000\n"
          ]
        }
      ]
    },
    {
      "cell_type": "code",
      "source": [
        "plt.plot(lstm_history.history['accuracy'])\n",
        "plt.plot(lstm_history.history['val_accuracy'])\n",
        "plt.title('model accuracy')\n",
        "plt.ylabel('accuracy')\n",
        "plt.xlabel('epoch')\n",
        "plt.legend(['train', 'validation'], loc='upper left')\n",
        "plt.show()\n",
        "\n",
        "plt.plot(lstm_history.history['loss'])\n",
        "plt.plot(lstm_history.history['val_loss'])\n",
        "plt.title('model loss')\n",
        "plt.ylabel('loss')\n",
        "plt.xlabel('epoch')\n",
        "plt.legend(['train', 'validation'], loc='upper left')\n",
        "plt.show()"
      ],
      "metadata": {
        "colab": {
          "base_uri": "https://localhost:8080/",
          "height": 573
        },
        "id": "rMwO9YDZWws7",
        "outputId": "d3a2bf35-a52d-4219-ba6f-287114f221ea"
      },
      "execution_count": null,
      "outputs": [
        {
          "output_type": "display_data",
          "data": {
            "text/plain": [
              "<Figure size 432x288 with 1 Axes>"
            ],
            "image/png": "[encoded data removed]"
          },
          "metadata": {
            "needs_background": "light"
          }
        },
        {
          "output_type": "display_data",
          "data": {
            "text/plain": [
              "<Figure size 432x288 with 1 Axes>"
            ],
            "image/png": "[encoded data removed]"
          },
          "metadata": {
            "needs_background": "light"
          }
        }
      ]
    },
    {
      "cell_type": "markdown",
      "source": [
        "### BiLSTM + CNN"
      ],
      "metadata": {
        "id": "vmksn4QWm4VA"
      }
    },
    {
      "cell_type": "code",
      "source": [
        "def LSTM_CNN_model():\n",
        "    embedding_layer = Embedding(\n",
        "        input_dim = embedding_matrix.shape[0],\n",
        "        output_dim = embedding_matrix.shape[1], \n",
        "        input_length = input_length,\n",
        "        weights = [embedding_matrix],\n",
        "        trainable=False)\n",
        "    \n",
        "    model = Sequential()\n",
        "    model.add( embedding_layer )\n",
        "    model.add(Bidirectional(LSTM(64, dropout=0.5, return_sequences=True)))\n",
        "    model.add(Conv1D(32, 4, activation='relu')),\n",
        "    model.add( MaxPool1D() )\n",
        "    model.add(Dropout(0.5))\n",
        "    model.add(GlobalMaxPool1D()),\n",
        "    # model.add(BatchNormalization() )\n",
        "    model.add(Dense(1, activation='sigmoid'))\n",
        "\n",
        "    return model"
      ],
      "metadata": {
        "id": "f5cO5Lfj5lIe"
      },
      "execution_count": null,
      "outputs": []
    },
    {
      "cell_type": "code",
      "source": [
        "lstm_cnn_model = LSTM_CNN_model()\n",
        "lstm_cnn_model.summary()\n",
        "lstm_cnn_model.compile(loss='binary_crossentropy', optimizer=Adam(learning_rate=0.001, epsilon=1e-07), metrics=['accuracy'])"
      ],
      "metadata": {
        "colab": {
          "base_uri": "https://localhost:8080/"
        },
        "id": "F4X44yCQ5pkg",
        "outputId": "8b6949b7-533f-4760-8a69-c0e2c25b1c90"
      },
      "execution_count": null,
      "outputs": [
        {
          "output_type": "stream",
          "name": "stdout",
          "text": [
            "Model: \"sequential\"\n",
            "_________________________________________________________________\n",
            " Layer (type)                Output Shape              Param #   \n",
            "=================================================================\n",
            " embedding (Embedding)       (None, 200, 300)          1559100   \n",
            "                                                                 \n",
            " bidirectional (Bidirectiona  (None, 200, 128)         186880    \n",
            " l)                                                              \n",
            "                                                                 \n",
            " conv1d (Conv1D)             (None, 197, 32)           16416     \n",
            "                                                                 \n",
            " max_pooling1d (MaxPooling1D  (None, 98, 32)           0         \n",
            " )                                                               \n",
            "                                                                 \n",
            " dropout (Dropout)           (None, 98, 32)            0         \n",
            "                                                                 \n",
            " global_max_pooling1d (Globa  (None, 32)               0         \n",
            " lMaxPooling1D)                                                  \n",
            "                                                                 \n",
            " dense (Dense)               (None, 1)                 33        \n",
            "                                                                 \n",
            "=================================================================\n",
            "Total params: 1,762,429\n",
            "Trainable params: 203,329\n",
            "Non-trainable params: 1,559,100\n",
            "_________________________________________________________________\n"
          ]
        }
      ]
    },
    {
      "cell_type": "code",
      "source": [
        "lstm_cnn_history = lstm_cnn_model.fit( x_train, y_train, batch_size=15, epochs=15, verbose=1, validation_data = (x_val,y_val) )"
      ],
      "metadata": {
        "colab": {
          "base_uri": "https://localhost:8080/"
        },
        "id": "KKE53mo_5uL9",
        "outputId": "e18b8ae3-02df-4705-9b64-468b3f4029ef"
      },
      "execution_count": null,
      "outputs": [
        {
          "output_type": "stream",
          "name": "stdout",
          "text": [
            "Epoch 1/15\n",
            "107/107 [==============================] - 15s 101ms/step - loss: 0.7326 - accuracy: 0.5119 - val_loss: 0.6828 - val_accuracy: 0.5525\n",
            "Epoch 2/15\n",
            "107/107 [==============================] - 10s 92ms/step - loss: 0.6764 - accuracy: 0.5525 - val_loss: 0.6448 - val_accuracy: 0.6625\n",
            "Epoch 3/15\n",
            "107/107 [==============================] - 10s 91ms/step - loss: 0.6372 - accuracy: 0.6325 - val_loss: 0.6128 - val_accuracy: 0.6900\n",
            "Epoch 4/15\n",
            "107/107 [==============================] - 10s 91ms/step - loss: 0.5831 - accuracy: 0.6850 - val_loss: 0.6012 - val_accuracy: 0.7075\n",
            "Epoch 5/15\n",
            "107/107 [==============================] - 10s 91ms/step - loss: 0.5392 - accuracy: 0.7269 - val_loss: 0.5901 - val_accuracy: 0.6550\n",
            "Epoch 6/15\n",
            "107/107 [==============================] - 10s 91ms/step - loss: 0.5332 - accuracy: 0.7337 - val_loss: 0.5854 - val_accuracy: 0.6925\n",
            "Epoch 7/15\n",
            "107/107 [==============================] - 10s 91ms/step - loss: 0.5194 - accuracy: 0.7456 - val_loss: 0.6014 - val_accuracy: 0.6450\n",
            "Epoch 8/15\n",
            "107/107 [==============================] - 10s 92ms/step - loss: 0.4906 - accuracy: 0.7638 - val_loss: 0.5678 - val_accuracy: 0.7000\n",
            "Epoch 9/15\n",
            "107/107 [==============================] - 10s 91ms/step - loss: 0.4643 - accuracy: 0.7675 - val_loss: 0.5774 - val_accuracy: 0.6750\n",
            "Epoch 10/15\n",
            "107/107 [==============================] - 10s 91ms/step - loss: 0.4580 - accuracy: 0.7706 - val_loss: 0.5710 - val_accuracy: 0.6800\n",
            "Epoch 11/15\n",
            "107/107 [==============================] - 10s 91ms/step - loss: 0.4504 - accuracy: 0.7831 - val_loss: 0.5718 - val_accuracy: 0.6950\n",
            "Epoch 12/15\n",
            "107/107 [==============================] - 10s 91ms/step - loss: 0.4381 - accuracy: 0.7875 - val_loss: 0.5932 - val_accuracy: 0.6500\n",
            "Epoch 13/15\n",
            "107/107 [==============================] - 10s 91ms/step - loss: 0.4017 - accuracy: 0.8094 - val_loss: 0.6120 - val_accuracy: 0.6450\n",
            "Epoch 14/15\n",
            "107/107 [==============================] - 10s 91ms/step - loss: 0.4074 - accuracy: 0.8106 - val_loss: 0.5643 - val_accuracy: 0.7025\n",
            "Epoch 15/15\n",
            "107/107 [==============================] - 10s 91ms/step - loss: 0.3770 - accuracy: 0.8200 - val_loss: 0.5778 - val_accuracy: 0.6950\n"
          ]
        }
      ]
    },
    {
      "cell_type": "code",
      "source": [
        "plt.plot(lstm_cnn_history.history['accuracy'])\n",
        "plt.plot(lstm_cnn_history.history['val_accuracy'])\n",
        "plt.title('model accuracy')\n",
        "plt.ylabel('accuracy')\n",
        "plt.xlabel('epoch')\n",
        "plt.legend(['train', 'validation'], loc='upper left')\n",
        "plt.show()\n",
        "\n",
        "plt.plot(lstm_cnn_history.history['loss'])\n",
        "plt.plot(lstm_cnn_history.history['val_loss'])\n",
        "plt.title('model loss')\n",
        "plt.ylabel('loss')\n",
        "plt.xlabel('epoch')\n",
        "plt.legend(['train', 'validation'], loc='upper left')\n",
        "plt.show()"
      ],
      "metadata": {
        "colab": {
          "base_uri": "https://localhost:8080/",
          "height": 573
        },
        "id": "YMW5CsFpWs1v",
        "outputId": "4a2722ee-cec0-4672-8dde-f0081e3afc44"
      },
      "execution_count": null,
      "outputs": [
        {
          "output_type": "display_data",
          "data": {
            "text/plain": [
              "<Figure size 432x288 with 1 Axes>"
            ],
            "image/png": "[encoded data removed]"
          },
          "metadata": {
            "needs_background": "light"
          }
        },
        {
          "output_type": "display_data",
          "data": {
            "text/plain": [
              "<Figure size 432x288 with 1 Axes>"
            ],
            "image/png": "[encoded data removed]"
          },
          "metadata": {
            "needs_background": "light"
          }
        }
      ]
    },
    {
      "cell_type": "markdown",
      "source": [
        "## 預測測試集"
      ],
      "metadata": {
        "id": "jbnLz7F_ohr9"
      }
    },
    {
      "cell_type": "markdown",
      "source": [
        "#### BERT"
      ],
      "metadata": {
        "id": "DsO5Z9_WVs0B"
      }
    },
    {
      "cell_type": "code",
      "source": [
        "test_predict_input = []\n",
        "result = []\n",
        "for row in test_tokened_sent: # test_tokened_sent ：切了token 、 test_sentence ：沒切token、 test_lemmas_sent :詞型還原、 test_stopw_sent ：刪除停用詞\n",
        "  input = bert_tokenizer.encode(row, truncation=True, padding=True, return_tensors=\"tf\")\n",
        "  test_output = model.predict(input)[0]\n",
        "  test_prediction = tf.nn.softmax(test_output, axis=1)\n",
        "  label = tf.argmax(test_prediction, axis=1)\n",
        "  label = label.numpy()\n",
        "  result.append( label[0] )\n",
        "print(result)"
      ],
      "metadata": {
        "colab": {
          "base_uri": "https://localhost:8080/"
        },
        "id": "3T8EO0QvolhE",
        "outputId": "eaf81bd3-b043-47e6-8038-7317591e5140"
      },
      "execution_count": null,
      "outputs": [
        {
          "output_type": "stream",
          "name": "stdout",
          "text": [
            "[1, 1, 0, 0, 0, 0, 1, 1, 0, 0, 0, 0, 0, 0, 1, 1, 0, 0, 0, 1, 0, 1, 1, 0, 1, 1, 0, 0, 0, 1, 1, 1, 1, 1, 0, 0, 0, 1, 1, 1, 0, 1, 0, 0, 1, 0, 0, 1, 0, 0, 1, 1, 0, 0, 1, 0, 1, 0, 0, 0, 0, 1, 0, 0, 0, 0, 0, 0, 0, 1, 1, 0, 0, 0, 0, 1, 1, 1, 1, 0, 1, 1, 1, 0, 0, 0, 1, 0, 1, 1, 0, 1, 0, 0, 0, 1, 0, 1, 1, 1, 1, 1, 1, 1, 1, 0, 1, 0, 0, 0, 0, 0, 0, 0, 1, 0, 1, 0, 1, 0, 1, 0, 1, 1, 1, 0, 1, 0, 0, 1, 1, 1, 1, 1, 0, 1, 1, 1, 1, 0, 1, 1, 1, 0, 1, 0, 1, 0, 0, 1, 1, 0, 1, 1, 1, 1, 1, 0, 1, 0, 0, 0, 0, 1, 1, 1, 1, 0, 1, 0, 1, 0, 0, 1, 1, 1, 1, 1, 0, 1, 1, 1, 0, 0, 1, 1, 1, 1, 0, 1, 1, 0, 0, 1, 0, 1, 1, 0, 1, 1, 1, 0, 0, 0, 1, 0, 0, 0, 1, 1, 0, 1, 0, 0, 0, 1, 1, 0, 0, 0, 1, 1, 0, 0, 0, 1, 1, 0, 0, 0, 1, 1, 1, 0, 0, 0, 1, 0, 1, 0, 1, 0, 0, 1, 0, 0, 1, 0, 0, 1, 0, 0, 1, 0, 0, 0, 0, 0, 0, 0, 1, 1, 1, 0, 1, 0, 1, 1, 0, 0, 1, 0, 1, 1, 1, 1, 0, 1, 1, 0, 1, 1, 0, 1, 1, 0, 1, 0, 0, 1, 1, 1, 1, 1, 1, 0, 0, 1, 1, 1, 1, 0, 0, 1, 0, 1, 1, 0, 0, 0, 1, 0, 0, 1, 1, 1, 0, 1, 1, 1, 0, 1, 1, 0, 0, 0, 1, 1, 0, 0, 1, 0, 1, 0, 1, 1, 1, 0, 0, 1, 1, 1, 1, 1, 1, 0, 0, 0, 0, 0, 1, 1, 1, 1, 1, 0, 1, 0, 1, 0, 1, 1, 0, 1, 1, 1, 1, 0, 0, 0, 0, 0, 1, 1, 0, 0, 1, 1, 0, 0, 1, 0, 1, 0, 1, 0, 1, 0, 0, 1, 1, 1, 1, 1, 1, 0, 0, 0, 1, 1, 0, 1, 0, 1, 0, 0, 1, 0, 1, 1, 1, 0, 1, 1, 1, 1, 1, 1, 0, 1, 0, 1, 0, 1, 0, 0, 0, 1, 0, 0, 0, 1, 1, 1, 0, 0, 0, 0, 0, 0, 0, 0, 1, 0, 1, 1, 1, 1, 0, 1, 1, 0, 0, 1, 1, 0, 1, 1, 0, 0, 1, 0, 1, 0, 0, 1, 1, 0, 1, 1, 1, 1, 0, 1, 1, 0, 1, 0, 0, 1, 1, 0, 0, 1, 0, 1, 1, 1, 1, 1, 0, 0, 1, 0, 0, 1, 1, 1, 1, 0, 0, 1, 0, 0, 0, 0, 0, 1, 1, 0, 1, 0, 1, 0, 0, 1, 1, 1, 0, 0, 0, 0, 0, 0, 0, 1, 0, 1, 1, 0, 1, 0, 1, 1, 0, 1, 0, 0, 0, 0, 1, 0, 0, 1, 0, 0, 1, 0, 0, 1, 0, 1, 1, 1, 1, 1, 1, 1, 0, 1, 0, 1, 0, 1, 0, 0, 1, 0, 0, 1, 1, 1, 1, 1, 1, 0, 1, 1, 0, 0, 1, 1, 1, 0, 1, 1, 0, 0, 1, 1, 0, 0, 0, 1, 1, 1, 0, 0, 0, 0, 0, 0, 1, 0, 0, 1, 0, 1, 0, 1, 0, 1, 0, 0, 1, 0, 1, 1, 1, 0, 0, 0, 1, 0, 0, 1, 0, 0, 0, 0, 1, 0, 0, 1, 1, 0, 0, 1, 0, 0, 0, 0, 0, 1, 1, 1, 1, 1, 0, 1, 0, 1, 1, 0, 1, 1, 1, 1, 1, 0, 0, 0, 0, 1, 0, 1, 1, 1, 0, 0, 1, 0, 0, 1, 1, 0, 0, 1, 1, 0, 0, 1, 0, 1, 1, 1, 1, 0, 1, 0, 1, 0, 0, 0, 1, 0, 0, 1, 0, 1, 1, 1, 0, 0, 1, 0, 0, 1, 0, 0, 0, 1, 1, 1, 0, 1, 1, 0, 1, 0, 1, 1, 0, 1, 0, 0, 1, 0, 1, 0, 1, 1, 0, 1, 0, 1, 0, 1, 0, 0, 1, 0, 0, 1, 1, 1, 1, 0, 1, 0, 1, 0, 0, 1, 0, 1, 0, 1, 0, 1, 1, 0, 0, 1, 1, 1, 0, 1, 1, 1, 1, 1, 0, 1, 0, 1, 1, 1, 0, 1, 1, 1, 0, 0, 0, 1, 0, 0, 1, 0, 0, 0, 1, 0, 0, 0, 0, 1, 1, 0, 1, 1, 1, 1, 1, 1, 1, 0, 1, 1, 0, 1, 1, 0, 0, 1, 1, 1, 1, 1, 0, 0, 1, 1, 1, 1, 1, 1, 0, 1, 1, 0, 1, 1, 1, 1, 1, 0, 1, 0, 1, 0, 1, 1, 0, 0, 1, 1, 1, 0, 0, 0, 0, 1, 1, 1, 0, 1, 0, 0, 0, 1, 0, 0, 0, 1, 0, 1, 0, 1, 0, 0, 1, 0, 1, 0, 0, 0, 0, 0, 1, 1, 1, 1, 0, 0, 0, 0, 0, 0, 0, 0, 0, 0, 0, 1, 1, 1, 1, 0, 1, 1, 1, 0, 1, 1, 0, 1, 1, 0, 1, 0, 1, 0, 0, 1, 1, 1, 1, 0, 0, 0, 0, 1, 1, 0, 1, 0, 0, 0, 1, 0, 0, 1, 0, 1, 0, 0, 0, 1, 0, 0, 1, 1, 0, 0, 1, 0, 1, 0, 1, 0, 1, 1, 0, 0, 0, 0, 1, 0, 1, 0, 0, 0, 1, 1, 0, 1, 1, 0, 0, 0, 1, 1, 1, 0, 1, 1, 0, 0, 1, 1, 0, 1, 0, 1, 0, 0, 1, 0, 1, 0, 0, 0, 0, 1, 1, 1, 0, 1, 1, 0, 1, 1, 0, 0, 0, 1, 1, 1, 1, 1, 1, 1, 0, 1, 0, 1, 0, 0, 1, 1, 0, 1, 1, 0, 1, 0, 0, 0, 1, 1, 1, 1, 1, 0, 1, 1, 1, 1, 1, 1, 0, 0, 1, 0, 0, 0, 0, 0, 1, 0, 1, 1, 1, 1, 1, 0, 0, 1, 1, 0, 1, 0, 1, 0, 1, 0, 1, 1, 0, 1, 1, 1, 0, 1, 1, 1, 0, 0, 0, 1, 0, 1, 1, 1, 1, 1, 1, 0, 0, 1, 0, 1, 1, 0, 0, 0, 1, 1, 1, 1, 1, 0, 1, 1, 0, 0, 0, 1, 1, 0, 1, 0, 1, 1, 1, 0, 0, 0, 1, 0, 1, 0, 1, 0, 1, 0, 0, 1, 1, 0, 0, 0, 1, 0, 0, 1, 0, 1, 0, 0, 0, 0, 1, 0, 0, 0, 1, 1, 1, 0, 1, 0, 0, 0, 0, 0, 1, 1, 1, 0, 1, 0, 0, 0, 1, 1, 0, 0, 1, 0, 0, 0, 1, 0, 0, 0, 1, 1, 0, 1, 0, 0, 1, 0, 0, 1, 1, 1, 1, 1, 1, 0, 0, 0, 0, 0, 1, 0, 0, 1, 1, 1, 0, 0, 0, 0, 1, 1, 1, 0, 0, 1, 1, 0, 0, 1, 0, 0, 1, 0, 0, 1, 0, 1, 0, 1, 0, 1, 0, 0, 1, 0, 1, 1, 1, 0, 0, 1, 1, 1, 1, 0, 0, 1, 1, 0, 0, 1, 1, 1, 0, 1, 0, 1, 0, 1, 1, 0, 1, 0, 0, 1, 1, 0, 0, 0, 0, 1, 1, 0, 0, 0, 1, 0, 1, 1, 1, 1, 1, 0, 0, 1, 1, 1, 0, 0, 0, 1, 1, 1, 0, 1, 0, 0, 0, 1, 1, 0, 1, 1, 1, 0, 1, 0, 0, 0, 1, 1, 0, 0, 1, 0, 1, 0, 0, 0, 1, 0, 1, 1, 0, 1, 0, 1, 1, 1, 1, 0, 1, 0, 0, 0, 0, 1, 0, 1, 1, 0, 1, 0, 1, 0, 1, 0, 1, 1, 0, 1, 1, 1, 1, 1, 1, 0, 1, 1, 1, 1, 1, 1, 0, 1, 0, 0, 0, 0, 0, 1, 0, 1, 0, 0, 0, 1, 0, 1, 1, 0, 1, 1, 1, 0, 1, 0, 1, 1, 1, 0, 0, 1, 1, 1, 0, 0, 1, 0, 0, 0, 0, 0, 0, 0, 0, 1, 1, 0, 1, 0, 1, 1, 1, 1, 1, 0, 1, 1, 0, 0, 0, 0, 1, 0, 0, 0, 0, 1, 0, 1, 1, 1, 1, 0, 0, 0, 0, 1, 1, 0, 1, 1, 0, 0, 0, 1, 1, 1, 1, 0, 1, 0, 1, 0, 1, 0, 1, 1, 0, 0, 1, 0, 1, 1, 0, 1, 0, 1, 0, 0, 0, 0, 1, 0, 0, 0, 0, 1, 1, 1, 0, 1, 1, 0, 0, 1, 0, 0, 0, 0, 1, 1, 1, 0, 1, 0, 1, 0, 0, 0, 1, 1, 1, 0, 0, 1, 0, 1, 0, 0, 1, 0, 1, 1, 0, 1, 1, 1, 1, 1, 1, 0, 1, 1, 0, 0, 0, 1, 0, 1, 1, 1, 1, 1, 0, 0, 1, 1, 1, 1, 0, 1, 1, 1, 0, 0, 1, 0, 0, 0, 1, 0, 1, 0, 0, 0, 0, 1, 1, 1, 1, 0, 1, 0, 0, 1, 1, 0, 1, 0, 1, 1, 1, 0, 0, 1, 1, 1, 1, 0, 1, 1, 1, 1, 0, 0, 1, 1, 0, 0, 1, 0, 0, 1, 1, 0, 0, 1, 0, 0, 0, 1, 0, 0, 0, 1, 0, 0, 0, 1, 0, 0, 1, 1, 0, 1, 1, 1, 0, 0, 1, 1, 0, 1, 0, 0, 1, 0, 0, 1, 1, 1, 0, 1, 0, 0, 0, 0, 1, 1, 1, 0, 0, 1, 1, 1, 1, 0, 1, 0, 0, 0, 0, 1, 1, 1, 1, 0, 0, 1, 0, 0, 1, 1, 1, 0, 0, 1, 1, 1, 1, 1, 0, 1, 1, 0, 0, 0, 1, 1, 1, 0, 1, 0, 1, 0, 1, 1, 0, 1, 0, 0, 0, 0, 0, 1, 0, 1, 1, 1, 1, 1, 1, 0, 1, 1, 1, 1, 0, 0, 0, 0, 0, 1, 1, 1, 0, 0, 1, 0, 0, 0, 1, 0, 0, 1, 1, 1, 1, 1, 1, 0, 0, 1, 0, 0, 0, 0, 1, 1, 0, 1, 0, 0, 0, 0, 0, 0, 1, 1, 0, 1, 1, 0, 0, 1, 1, 0, 0, 0, 1, 1, 1, 0, 0, 1, 0, 0, 1, 0, 1, 1, 0, 0, 1, 1, 0, 1, 1, 0, 1, 1, 0, 1, 1, 0, 0, 1, 0, 1, 0, 1, 1, 1, 0, 0, 0, 1, 1, 0, 0, 0, 0, 0, 1, 1, 1, 1, 0, 0, 1, 0, 1, 1, 1, 0, 0, 0, 0, 0, 0, 0, 0, 1, 1, 0, 0, 1, 0, 0, 0, 1, 1, 0, 0, 1, 1, 1, 0, 1, 1, 0, 0, 1, 1, 1, 0, 0, 0, 0, 1, 0, 0, 0, 0, 0, 1, 0, 0, 0, 0, 1, 0, 1, 0, 0, 1, 1, 0, 1, 1, 0, 1, 0, 0, 0, 1, 1, 1, 1, 1, 0, 0, 1, 1, 0, 1, 0, 0, 0, 1, 0, 1, 1, 0, 1, 1, 0, 0, 1, 1, 0, 1, 1, 1, 1, 1, 1, 1, 1, 0, 0, 0, 0, 1, 1, 0, 0, 1, 0, 0, 1, 0, 0, 1, 1, 0, 0, 0, 1, 0, 1, 0, 1, 0, 0, 1, 1, 1, 1, 1, 1, 0, 1, 0, 0, 1, 1, 0, 0, 0, 1, 1, 0, 1, 1, 1, 1, 0, 0, 0, 0, 1, 1, 0, 1, 1, 0, 1, 1, 1, 1, 1, 1, 0, 0, 1, 0, 0, 1, 1, 1, 0, 1, 0, 0, 0, 0, 1, 1, 1, 1, 1, 0, 1, 0, 1, 0, 0, 1, 1, 0, 1, 0, 0, 0, 1, 0, 1, 0, 0, 1, 0, 0, 1, 1, 0, 0, 1, 1, 0, 1, 1, 1, 0, 1, 1, 1, 0, 1, 0, 1, 1, 1, 1, 0, 1, 1, 1, 1, 1, 1, 1, 0, 1, 0, 1, 1, 1, 1, 0, 1, 0, 1, 1, 1, 0, 0, 0, 0, 1, 1, 1, 0, 0, 0, 0, 0, 0, 0, 1, 1, 1, 1, 1, 0, 1, 0, 0, 0, 0, 0, 1, 1, 1, 1, 1, 0, 1, 1, 0, 1, 1, 1, 1, 1, 0, 1, 1, 1, 1, 1, 1, 1, 1, 1, 0, 0, 0, 0, 0, 1, 0, 1, 0, 1, 0, 1, 1, 1, 0, 1, 0, 0, 0, 0, 1, 0, 1, 1, 0, 0, 0, 1, 1, 0, 0, 0, 0, 0, 0, 0, 0, 1, 1, 1, 0, 0, 0, 0, 1, 1, 0, 0, 0, 1, 0, 1, 0, 1, 1, 0, 0, 1, 1, 1, 0, 0, 0, 1, 1, 1, 1, 0, 1, 1, 1, 1, 0, 0, 0, 1, 1, 1, 1, 1, 1, 1, 1, 1, 0, 1, 0, 0, 1, 1, 1, 1, 1, 0, 0, 1, 0, 1, 1, 0, 1, 1, 0, 0, 1, 0, 0, 1, 1, 1, 1, 0, 1, 1, 1, 0, 0, 1, 1, 0, 0, 1, 0, 1, 0, 0, 1, 0, 0, 1, 0, 0, 1, 0, 0, 1, 1, 0, 1, 1, 0, 1, 0, 1, 1, 1, 1, 1, 1, 0, 1, 0, 0, 1, 1, 1, 1, 0, 1, 0, 0, 1, 1, 1, 1, 1, 1, 1, 0, 1, 1, 0, 1, 0, 1, 1, 1, 1, 0, 1, 0, 0, 1, 0, 1, 1, 0, 1, 0, 0, 1, 1, 0, 0, 1, 0, 1, 1, 0, 1, 0, 0, 1, 1, 0, 0, 1, 1, 0, 0, 1, 0, 0, 1, 1, 1, 0, 0, 0, 1, 1, 0, 0, 0, 0, 0, 0, 1, 1, 0, 0, 0, 0, 1, 0, 0, 1, 0, 1, 1, 1, 1, 1, 1, 1, 0, 0, 1, 0, 0, 1, 1, 0, 0, 1, 0, 1, 1, 0, 1, 1, 0, 1, 1, 0, 1, 0, 1, 1, 1, 0, 0, 1, 0, 1, 0, 0, 0, 1, 1, 1, 1, 1, 0, 1, 1, 1, 1, 0, 1, 0, 1, 1, 0, 0, 1, 0, 0, 0, 1, 0, 1, 1, 1, 1, 1, 0, 0, 0, 1, 1, 1, 1, 0, 1, 0, 0, 0, 0, 1, 0, 1, 0, 1, 1, 1, 0, 1, 1, 1, 1, 1, 0, 0, 0, 0, 1, 1, 1, 1, 0, 0, 1, 1, 0, 1, 1, 0, 1, 1, 1, 1, 0, 1, 1, 0, 0, 1, 0, 1, 1, 1, 0, 0, 1, 1, 0, 1, 1, 0, 1, 1, 1, 0, 1, 0, 1, 0, 1, 0, 1, 0, 0, 0, 1, 1, 1, 0, 0, 0, 1, 1, 0, 1, 0, 1, 1, 0, 0, 0, 0, 1, 1, 1, 0, 0, 1, 0, 0, 1, 0, 1, 1, 0, 0, 1, 0, 0, 1, 1, 0, 1, 0, 0, 1, 0, 0, 0, 1, 0, 1, 1, 1, 0, 1, 1, 0, 1, 0, 0, 0, 0, 1, 0, 1, 1, 1, 0, 0, 1, 0, 1, 1, 1, 1, 1, 1, 0, 0, 0, 1, 0, 0, 1, 1, 1, 0, 0, 1, 1, 1, 1, 0, 1, 0, 1, 1, 1, 1, 1, 1, 1, 1, 0, 1, 1, 0, 1, 1, 1, 1, 1, 0, 0, 1, 1, 0, 1, 1, 1, 0, 1, 1, 1, 1, 1, 0, 0, 1, 1, 1, 1, 1, 1, 0, 0, 1, 1, 1, 0, 1, 1, 0, 1, 0, 0, 1, 0, 1, 1, 1, 0, 1, 0, 0, 1, 0, 0, 1, 0, 1, 1, 0, 1, 0, 0, 0, 0, 0, 1, 1, 0, 1, 1, 1, 1, 1, 0, 1, 1, 0, 0, 0, 0, 0, 0, 1, 1, 0, 0, 1, 1, 0, 0, 0, 1, 1, 1, 1, 0, 1, 1, 1, 1, 1, 1, 1, 1, 1, 0, 1, 1, 0, 0, 0, 0, 1, 0, 1, 0, 1, 0, 1, 0, 1, 0, 1, 1, 0, 0, 0, 1, 0, 0, 1, 1, 1, 0, 0, 0, 1, 1, 1, 0, 0, 1, 0, 1, 1, 1, 1, 1, 0, 1, 0, 1, 1, 1, 0, 0, 1, 1, 0, 1, 1, 0, 1, 1, 0, 1, 0, 0, 1, 0, 1, 1, 0, 1, 1, 1, 1, 0, 0, 0, 1, 1, 0, 1, 1, 1, 0, 1, 0, 1, 1, 1, 0, 0, 0, 0, 0, 1, 1, 0, 0, 0, 0, 1, 1, 0, 0, 1, 1, 0, 0, 0, 1, 0, 0, 0, 0, 1, 1, 1, 0, 0, 1, 0, 1, 1, 1, 1, 1, 1, 0, 1, 0, 1, 0, 0, 1, 0, 0, 0, 1, 0, 0, 1, 1, 0, 1, 0, 0, 0, 1, 0, 0, 0, 0, 0, 0, 1, 0, 0, 1, 0, 1, 0, 0, 0, 1, 0, 0, 1, 0, 0, 1, 1, 1, 0, 1, 0, 0, 0, 1, 1, 0, 1, 0, 0, 1, 1, 1, 0, 0, 0, 1, 1, 0, 1, 1, 0, 0, 1, 1, 0, 1, 1, 0, 0, 0, 0, 0, 0, 0, 0, 1, 1, 0, 1, 1, 0, 0, 1, 1, 1, 0, 0, 0, 1, 1, 1, 1, 0, 0, 1, 1, 0, 0, 0, 0, 0, 0, 0, 1, 1, 0, 0, 0, 0, 1, 0, 1, 0, 0, 0, 1, 1, 0, 1, 1, 0, 0, 0, 1, 0, 0, 0, 0, 0, 0, 1, 1, 0, 1, 0, 0, 1, 0, 1, 1, 0, 1, 1, 0, 0, 1, 1, 0, 1, 0, 1, 1, 1, 1, 0, 1, 0, 0, 0, 1, 1, 1, 1, 1, 1, 1, 0, 0, 1, 0, 1, 1, 0, 0, 1, 0, 0, 1, 1, 1, 0, 0, 1, 1, 0, 0, 1, 0, 0, 1, 0, 0, 0, 0, 1, 1, 0, 1, 1, 0, 1, 1, 1, 0, 1, 0, 0, 1, 1, 0, 0, 1, 1, 1, 1, 0, 0, 1, 0, 0, 0, 0, 1, 1, 0, 1, 0, 1, 0, 0, 0, 1, 0, 1, 1, 0, 0, 0, 0, 0, 0, 1, 1, 0, 0, 0, 1, 1, 1, 0, 0, 0, 1, 0, 1, 0, 0, 0, 0, 1, 1, 0, 1, 0, 0, 0, 1, 0, 0, 1, 0, 1, 1, 1, 1, 0, 1, 1, 1, 1, 0, 0, 1, 1, 1, 1, 1, 1, 1, 0, 0, 1, 0, 1, 0, 1, 1, 0, 0, 1, 0, 0, 1, 1, 1, 1, 1, 0, 1, 0, 1, 1, 0, 1, 0, 1, 0, 0, 0, 1, 1, 1, 1, 1, 0, 1, 0, 0, 0, 0, 1, 1, 0, 0, 0, 0, 0, 1, 1, 1, 0, 0, 1, 1, 1, 1, 1, 0, 1, 0, 0, 1, 1, 0, 1, 0, 1, 1, 1, 0, 0, 0, 0, 0, 1, 1, 0, 0, 1, 0, 1, 1, 0, 0, 0, 1, 0, 0, 0, 0, 0, 1, 1, 1, 1, 1, 0, 0, 0, 0, 1, 0, 1, 0, 0, 1, 0, 0, 1, 1, 1, 1, 0, 0, 1, 0, 1, 0, 0, 0, 0, 1, 0, 0, 0, 0, 0, 0, 1, 1, 1, 1, 0, 1, 1, 0, 1, 0, 1, 1, 1, 1, 0, 0, 1, 0, 1, 0, 1, 1, 0, 1, 0, 0, 0, 0, 1, 0, 1, 0, 1, 1, 1, 0, 0, 1, 1, 1, 0, 1, 0, 0, 1, 0, 1, 0, 1, 1, 1, 1, 1, 0, 0, 0, 1, 1, 0, 1, 0, 1, 1, 1, 0, 0, 0, 0, 1, 1, 1, 1, 0, 1, 1, 0, 1, 0, 1, 0, 0, 0, 0, 1, 1, 1, 1, 1, 1, 1, 0, 1, 1, 1, 0, 1, 1, 0, 0, 1, 1, 1, 1, 1, 0, 0, 0, 0, 1, 1, 1, 0, 1, 0, 0, 1, 1, 0, 0, 1, 0, 1, 1, 1, 1, 1, 1, 0, 0, 0, 1, 1, 0, 1, 0, 0, 1, 0, 1, 1, 1, 1, 0, 0, 1, 0, 0, 1, 1, 0, 1, 0, 1, 1, 1, 0, 0, 1, 1, 1, 0, 1, 0, 1, 0, 0, 1, 0, 1, 1, 1, 1, 0, 1, 0, 1, 0, 1, 1, 0, 1, 1, 0, 1, 1, 0, 1, 1, 0, 1, 1, 0, 0, 1, 0, 1, 0, 1, 1, 0, 0, 0, 1, 1, 1, 1, 1, 0, 0, 0, 1, 0, 1, 1, 0, 1, 1, 0, 1, 0, 0, 0, 1, 0, 0, 0, 1, 0, 1, 0, 1, 1, 0, 1, 0, 1, 0, 1, 1, 0, 0, 1, 1, 1, 1, 0, 1, 0, 1, 1, 1, 1, 0, 0, 1, 0, 0, 1, 1, 0, 0, 1, 0, 1, 1, 0, 0, 0, 1, 1, 0, 1, 1, 0, 0, 1, 0, 1, 0, 1, 1, 0, 1, 1, 1, 1, 1, 0, 1, 0, 1, 1, 1, 1, 1, 1, 1, 1, 0, 0, 0, 0, 1, 0, 1, 1, 1, 1, 0, 1, 0, 1, 0, 1, 0, 0, 0, 1, 1, 1, 1, 1, 0, 1, 0, 1, 0, 1, 0, 1, 1, 0, 0, 1, 0, 0, 1, 1, 0, 1, 0, 1, 1, 1, 0, 0, 1, 1, 0, 1, 1, 1, 0, 0, 0, 0, 0, 0, 0, 1, 1, 1, 0, 1, 0, 0, 1, 0, 0, 0, 0, 0, 0, 1, 1, 0, 0, 1, 1, 1, 0, 0, 1, 1, 1, 0, 1, 1, 1, 1, 0, 1, 0, 1, 1, 1, 0, 1, 1, 0, 1, 0, 0, 1, 1, 0, 1, 1, 1, 0, 1, 1, 0, 1, 0, 1, 0, 0, 0, 1, 0, 1, 1, 0, 1, 1, 0, 1, 0, 0, 1, 0, 0, 0, 1, 0, 0, 0, 1, 1, 0, 0, 1, 0, 1, 0, 1, 1, 1, 1, 1, 1, 1, 1, 1, 1, 1, 0, 1, 0, 1, 0, 0, 0, 1, 1, 1, 1, 1, 0, 1, 0, 1, 0, 0, 0, 1, 1, 1, 1, 1, 1, 0, 0, 0, 1, 0, 0, 0, 0, 0, 0, 0, 0, 1, 1, 1, 1, 0, 0, 0, 0, 1, 1, 0, 0, 1, 0, 1, 0, 0, 0, 0, 0, 1, 0, 1, 0, 0, 0, 1, 1, 1, 1, 0, 1, 0, 0, 0, 0, 0, 0, 1, 1, 0, 0, 1, 1, 1, 1, 0, 1, 1, 0, 0, 0, 1, 0, 1, 1, 0, 1, 1, 1, 0, 1, 1, 0, 1, 1, 0, 1, 0, 1, 0, 0, 0, 1, 0, 0, 0, 1, 1, 1, 0, 0, 1, 0, 1, 1, 0, 1, 0, 0, 0, 1, 1, 0, 0, 0, 1, 1, 1, 0, 0, 1, 0, 1, 1, 1, 1, 1, 1, 1, 1, 0, 0, 1, 0, 0, 1, 1, 0, 0, 0, 0, 0, 1, 1, 0, 1, 1, 0, 1, 1, 1, 1, 1, 1, 0, 1, 0, 0, 0, 1, 1, 0, 0, 1, 0, 0, 0, 0, 1, 1, 0, 1, 0, 0, 1, 0, 0, 0, 0, 1, 1, 1, 0, 1, 0, 1, 1, 0, 0, 0, 0, 0, 1, 1, 0, 1, 0, 0, 1, 0, 1, 0, 0, 1, 0, 1, 0, 1, 0, 1, 0, 0, 0, 0, 0, 0, 0, 1, 0, 0, 0, 1, 0, 1, 1, 0, 1, 1, 0, 1, 0, 1, 1, 0, 0, 1, 0, 1, 1, 1, 1, 0, 1, 0, 0, 1, 0, 1, 0, 0, 1, 0, 0, 1, 1, 1, 0, 1, 1, 1, 1, 1, 1, 0, 1, 0, 1, 1, 0, 0, 1, 1, 0, 1, 1, 0, 1, 0, 0, 0, 0, 0, 0, 1, 0, 1, 1, 0, 0, 0, 1, 1, 1, 1, 1, 1, 1, 0, 1, 1, 0, 1, 0, 0, 1, 1, 0, 0, 1, 0, 0, 0, 1, 1, 1, 1, 0, 1, 1, 0, 1, 0, 0, 1, 0, 1, 1, 0, 1, 0, 1, 0, 1, 0, 0, 1, 0, 1, 0, 0, 1, 0, 1, 0, 0, 0, 0, 1, 1, 0, 0, 1, 1, 0, 0, 0, 1, 0, 1, 0, 0, 1, 0, 0, 0, 1, 0, 0, 1, 1, 1, 0, 0, 0, 0, 0, 1, 1, 0, 1, 1, 0, 1, 0, 1, 1, 0, 0, 0, 1, 1, 1, 0, 1, 0, 1, 1, 1, 0, 1, 1, 1, 1, 0, 0, 1, 1, 0, 1, 0, 1, 0, 0, 1, 1, 1, 0, 1, 0, 0, 1, 0, 0, 1, 1, 0, 0, 1, 1, 1, 0, 0, 0, 1, 0, 1, 1, 1, 0, 0, 0, 0, 1, 0, 0, 0, 0, 0, 1, 0, 0, 1, 1, 1, 1, 1, 0, 0, 1, 0, 0, 1, 1, 1, 1, 1, 1, 0, 0, 1, 1, 0, 1, 1, 1, 1, 1, 0, 1, 1, 0, 1, 1, 1, 0, 1, 0, 0, 1, 0, 0, 0, 0, 0, 1, 0, 0, 1, 0, 0, 1, 0, 0, 0, 1, 1, 0, 0, 1, 1, 1, 0, 0, 0, 0, 0, 0, 0, 1, 1, 1, 1, 0, 1, 1, 1, 0, 1, 0, 1, 1, 1, 1, 1, 1, 1, 0, 0, 0, 0, 0, 1, 1, 0, 1, 1, 0, 0, 0, 0, 1, 0, 0, 1, 1, 0, 1, 1, 1, 0, 0, 1, 0, 0, 1, 1, 0, 0, 1, 0, 0, 1, 1, 1, 1, 0, 1, 0, 0, 0, 0, 1, 0, 0, 0, 0, 1, 1, 0, 0, 0, 1, 1, 0, 1, 1, 0, 1, 0, 0, 1, 0, 1, 0, 1, 1, 1, 1, 1, 1, 1, 0, 1, 1, 0, 0, 0, 0, 1, 0, 1, 1, 0, 0, 0, 0, 1, 1, 1, 1, 1, 1, 1, 1, 1, 0, 1, 0, 0, 1, 1, 1, 0, 0, 1, 0, 1, 1, 1, 0, 1, 1, 1, 1, 0, 1, 0, 0, 1, 1, 1, 1, 1, 0, 0, 1, 1, 0, 1, 0, 0, 0, 0, 0, 0, 1, 1, 0, 0, 1, 1, 1, 1, 0, 1, 1, 1, 0, 0, 1, 0, 1, 0, 1, 0, 1, 1, 0, 0, 1, 0, 1, 1, 1, 1, 0, 1, 1, 1, 1, 1, 0, 0, 1, 1, 0, 1, 1, 0, 1, 1, 0, 0, 1, 0, 0, 1, 0, 0, 0, 0, 1, 1, 0, 1, 0, 1, 1, 1, 0, 0, 1, 1, 0, 0, 1, 1, 1, 1, 0, 0, 0, 0, 1, 1, 0, 0, 1, 0, 1, 1, 0, 0, 1, 1, 0, 1, 0, 0, 1, 0, 1, 1, 1, 1, 1, 1, 1, 0, 1, 0, 1, 0, 1, 0, 1, 1, 0, 1, 1, 1, 1, 1, 1, 0, 0, 0, 0, 1, 1, 1, 0, 0, 0, 0, 0, 0, 0, 1, 1, 1, 1, 0, 0, 0, 0, 0, 0, 0, 1, 1, 1, 1, 0, 0, 1, 1, 1, 1, 1, 1, 1, 1, 0, 1, 1, 0, 0, 0, 1, 0, 1, 1, 0, 0, 0, 0, 1, 0, 1, 0, 0, 0, 1, 0, 0, 0, 1, 0, 0, 1, 1, 0, 1, 0, 0, 1, 1, 1, 1, 1, 0, 1, 0, 1, 0, 1, 0, 0, 0, 1, 1, 1, 1, 1, 0, 1, 0, 0, 0, 0, 1, 1, 0, 0, 1, 1, 1, 0, 0, 1, 1, 1, 1, 1, 1, 0, 0, 0, 1, 0, 0, 1, 1, 1, 1, 1, 1, 0, 0, 1, 1, 1, 0, 1, 1, 1, 0, 1, 0, 0, 0, 1, 1, 0, 1, 1, 0, 1, 0, 0, 0, 1, 1, 0, 1, 0, 1, 0, 1, 1, 0, 1, 1, 1, 0, 0, 1, 1, 1, 0, 0, 1, 0, 1, 0, 1, 1, 1, 1, 0, 1, 0, 1, 1, 0, 0, 0, 1, 1, 1, 1, 1, 1, 1, 1, 0, 0, 1, 0, 1, 1, 0, 1, 0, 1, 1, 0, 1, 0, 0, 0, 1, 0, 0, 1, 1, 1, 1, 0, 1, 0, 0, 1, 1, 0, 0, 0, 1, 1, 0, 1, 1, 0, 1, 0, 1, 0, 1, 1, 0, 1, 0, 1, 1, 1, 0, 1, 0, 1, 1, 1, 1, 0, 0, 1, 0, 1, 1, 0, 0, 0, 0, 0, 0, 0, 0, 0, 0, 1, 1, 1, 1, 0, 1, 0, 1, 0, 1, 1, 0, 0, 1, 0, 1, 0, 0, 0, 0, 1, 0, 0, 1, 0, 1, 0, 1, 0, 0, 1, 1, 0, 1, 1, 1, 0, 1, 1, 1, 0, 1, 1, 1, 1, 1, 0, 0, 1, 1, 1, 1, 1, 0, 0, 1, 0, 1, 0, 1, 1, 0, 0, 0, 1, 0, 0, 1, 0, 1, 0, 0, 1, 1, 1, 1, 0, 0, 1, 0, 1, 0, 0, 1, 1, 1, 0, 0, 0, 0, 0, 0, 1, 1, 1, 1, 0, 1, 1, 1, 1, 0, 1, 0, 0, 1, 0, 1, 1, 1, 0, 0, 0, 1, 1, 1, 0, 0, 1, 0, 0, 0, 0, 0, 0, 1, 0, 1, 1, 1, 0, 1, 0, 0, 1, 1, 1, 1, 1, 1, 1, 0, 0, 1, 0, 0, 1, 1, 0, 1, 1, 0, 1, 0, 0, 1, 1, 0, 1, 0, 0, 1, 0, 0, 0, 0, 0, 1, 0, 0, 1, 0, 0, 1, 1, 0, 1, 0, 0, 0, 1, 1, 1, 0, 0, 0, 1, 0, 0, 1, 0, 0, 0, 1, 1, 1, 0, 0, 0, 0, 1, 1, 0, 1, 1, 0, 1, 0, 1, 1, 0, 1, 0, 1, 0, 1, 1, 1, 1, 0, 1, 1, 0, 1, 0, 0, 1, 1, 0, 0, 1, 0, 0, 1, 1, 1, 0, 1, 0, 1, 1, 1, 1, 0, 0, 1, 0, 0, 1, 0, 1, 0, 0, 0, 1, 1, 0, 0, 0, 0, 0, 1, 1, 1, 1, 0, 0, 0, 1, 1, 0, 0, 1, 0, 1, 1, 0, 1, 0, 1, 0, 1, 1, 1, 0, 0, 0, 0, 1, 0, 0, 1, 1, 1, 1, 1, 1, 1, 0, 1, 1, 1, 1, 1, 0, 1, 1, 0, 0, 1, 0, 1, 1, 1, 1, 1, 1, 1, 0, 1, 1, 1, 0, 1, 0, 0, 1, 1, 1, 0, 1, 0, 1, 1, 0, 0, 0, 1, 1, 1, 0, 0, 0, 1, 1, 0, 0, 0, 0, 1, 0, 0, 1, 0, 0, 1, 1, 0, 1, 0, 0, 1, 1, 0, 0, 0, 1, 1, 1, 1, 0, 1, 1, 1, 0, 0, 1, 1, 0, 1, 0, 0, 0, 1, 0, 0, 0, 1, 0, 1, 0, 0, 0, 1, 1, 1, 0, 1, 1, 0, 0, 1, 0, 0, 0, 0, 1, 1, 1, 1, 1, 0, 1, 0, 1, 1, 1, 0, 1, 0, 0, 1, 0, 0, 1, 0, 1, 0, 0, 0, 0, 0, 1, 0, 1, 1, 0, 1, 1, 0, 1, 0, 0, 1, 1, 0, 1, 1, 1, 0, 0, 0, 0, 1, 0, 1, 1, 1, 1, 0, 1, 0, 1, 1, 0, 0, 1, 1, 0, 0, 1, 0, 1, 1, 1, 0, 1, 1, 0, 0, 1, 1, 1, 1, 0, 0, 0, 0, 0, 1, 1, 1, 0, 0, 1, 0, 1, 1, 1, 0, 0, 0, 0, 1, 0, 0, 0, 1, 1, 1, 1, 1, 0, 0, 1, 0, 0, 0, 0, 1, 0, 1, 0, 1, 0, 0, 0, 1, 0, 1, 1, 0, 1, 0, 0, 1, 1, 0, 1, 1, 1, 0, 1, 0, 1, 1, 1, 0, 1, 1, 0, 0, 0, 0, 1, 0, 1, 0, 1, 1, 1, 0, 1, 1, 1, 1, 0, 0, 0, 0, 1, 1, 0, 1, 1, 1, 1, 1, 1, 0, 1, 1, 0, 1, 0, 1, 0, 1, 0, 1, 0, 1, 0, 0, 0, 1, 1, 1, 1, 1, 0, 1, 1, 0, 1, 0, 1, 1, 0, 0, 1, 1, 0, 0, 1, 1, 1, 1, 0, 1, 1, 1, 0, 1, 1, 1, 1, 1, 0, 0, 0, 1, 1, 0, 1, 1, 0, 0, 1, 1, 1, 1, 0, 1, 1, 0, 1, 0, 0, 1, 1, 0, 1, 1, 0, 0, 1, 0, 1, 0, 0, 1, 1, 1, 0, 0, 1, 1, 0, 1, 0, 1, 1, 0, 1, 1, 1, 1, 0, 0, 0, 0, 0, 1, 0, 0, 0, 1, 0, 1, 1, 1, 1, 1, 1, 1, 0, 0, 0, 1, 1, 1, 0, 1, 0, 0, 0, 1, 0, 1, 0, 1, 1, 1, 0, 1, 1, 1, 0, 0, 1, 0, 1, 1, 0, 1, 0, 0, 0, 0, 0, 0, 1, 1, 0, 1, 0, 1, 0, 1, 1, 0, 1, 1, 1, 0, 1, 1, 0, 1, 1, 1, 0, 0, 0, 1, 1, 0, 0, 1, 0, 1, 0, 0, 1, 1, 0, 1, 1, 0, 1, 0, 0, 0, 0, 1, 0, 0, 1, 1, 0, 0, 0, 0, 1, 0, 0, 0, 1, 1, 0, 0, 0, 0, 0, 1, 1, 1, 0, 1, 0, 0, 1, 0, 0, 0, 0, 1, 0, 0, 1, 0, 0, 0, 1, 1, 0, 0, 1, 0, 0, 0, 1, 1, 0, 1, 0, 1, 0, 0, 1, 1, 0, 0, 1, 1, 1, 0, 0, 0, 0, 1, 1, 1, 1, 0, 1, 0, 1, 0, 1, 0, 0, 1, 1, 0, 1, 1, 0, 1, 0, 0, 1, 0, 1, 1, 1, 1, 1, 0, 0, 0, 0, 0, 0, 0, 0, 1, 0, 1, 1, 1, 1, 1, 1, 0, 1, 0, 0, 0, 0, 0, 0, 1, 1, 1, 0, 0, 1, 0, 1, 1, 0, 0, 1, 0, 1, 1, 1, 0, 0, 1, 0, 0, 1, 0, 1, 1, 1, 0, 1, 0, 0, 0, 0, 0, 0, 1, 0, 0, 1, 0, 1, 0, 0, 1, 0, 0, 0, 0, 0, 0, 1, 1, 0, 0, 0, 0, 0, 0, 0, 0, 0, 1, 1, 0, 0, 0, 0, 1, 0, 1, 0, 1, 1, 0, 1, 0, 0, 0, 1, 0, 0, 1, 1, 1, 1, 0, 1, 1, 1, 1, 1, 0, 1, 1, 1, 0, 1, 0, 1, 1, 1, 1, 0, 1, 1, 1, 0, 1, 1, 1, 1, 1, 0, 0, 0, 0, 0, 1, 0, 1, 0, 0, 0, 0, 1, 0, 0, 1, 1, 1, 0, 0, 1, 0, 0, 1, 0, 0, 0, 1, 1, 1, 1, 1, 0, 1, 1, 0, 1, 0, 0, 1, 1, 1, 0, 1, 1, 0, 0, 1, 0, 0, 1, 0, 0, 1, 1, 0, 1, 1, 0, 1, 0, 0, 0, 0, 1, 0, 0, 1, 0, 1, 0, 0, 1, 0, 0, 0, 1, 0, 0, 0, 1, 1, 0, 0, 0, 0, 0, 1, 0, 0, 1, 1, 0, 1, 1, 1, 1, 0, 1, 1, 0, 1, 0, 1, 1, 0, 0, 0, 1, 0, 1, 0, 1, 0, 0, 0, 1, 0, 1, 0, 1, 0, 0, 1, 0, 1, 0, 1, 0, 0, 0, 1, 1, 1, 1, 0, 1, 1, 0, 1, 1, 0, 0, 0, 0, 1, 1, 1, 0, 1, 1, 1, 0, 1, 1, 1, 1, 0, 0, 0, 0, 1, 1, 0, 0, 1, 1, 1, 1, 1, 1, 1, 0, 0, 0, 1, 0, 1, 1, 1, 1, 0, 0, 0, 1, 1, 0, 1, 1, 0, 1, 1, 1, 0, 1, 0, 1, 1, 1, 0, 1, 1, 1, 0, 1, 1, 1, 0, 1, 0, 0, 0, 0, 1, 0, 0, 1, 0, 1, 0, 1, 1, 1, 0, 1, 0, 0, 1, 0, 1, 1, 1, 0, 0, 0, 0, 0, 0, 1, 0, 1, 1, 1, 1, 1, 1, 0, 1, 0, 1, 0, 0, 0, 1, 1, 1, 1, 0, 0, 1, 0, 0, 0, 0, 0, 1, 0, 1, 1, 1, 1, 0, 0, 0, 1, 1, 0, 0, 1, 0, 0, 0, 0, 1, 1, 0, 1, 0, 0, 1, 0, 1, 1, 1, 0, 0, 0, 0, 0, 1, 0, 0, 0, 0, 1, 1, 1, 0, 1, 1, 1, 1, 1, 0, 0, 0, 1, 0, 1, 1, 0, 0, 0, 1, 1, 0, 0, 1, 0, 0, 1, 1, 0, 1, 0, 0, 1, 1, 0, 0, 0, 1, 0, 1, 0, 1, 0, 0, 1, 0, 1, 1, 1, 1, 0, 1, 0, 1, 1, 0, 1, 1, 1, 1, 0, 1, 1, 1, 0, 0, 0, 0, 0, 0, 1, 1, 1, 1, 1, 0, 1, 0, 1, 0, 1, 1, 1, 1, 1, 1, 1, 0, 0, 0, 0, 0, 1, 1, 1, 0, 0, 1, 0, 0, 1, 0, 1, 1, 1, 1, 1, 0, 1, 1, 1, 1, 1, 0, 0, 0, 1, 0, 0, 0, 1, 0, 0, 1, 0, 1, 1, 0, 1, 1, 1, 0, 1, 0, 1, 0, 0, 1, 1, 1, 0, 0, 0, 1, 0, 0, 1, 1, 1, 1, 1, 0, 1, 1, 1, 1, 0, 0, 1, 0, 1, 1, 0, 0, 1, 1, 0, 1, 1, 1, 1, 0, 1, 0, 0, 1, 0, 0, 1, 1, 0, 1, 1, 0, 1, 1, 0, 0, 1, 1, 0, 0, 1, 1, 1, 1, 1, 0, 1, 0, 0, 0, 0, 1, 0, 0, 0, 1, 1, 1, 1, 1, 0, 0, 0, 1, 1, 0, 0, 0, 1, 0, 1, 1, 1, 1, 1, 0, 0, 1, 0, 1, 0, 0, 1, 0, 1, 0, 0, 0, 0, 0, 0, 0, 1, 1, 1, 1, 1, 1, 1, 0, 0, 1, 0, 0, 1, 0, 1, 0, 1, 1, 1, 1, 1, 0, 1, 1, 1, 1, 0, 1, 1, 1, 0, 1, 1, 1, 0, 0, 1, 1, 0, 1, 0, 0, 0, 0, 0, 0, 0, 1, 1, 1, 0, 1, 1, 0, 0, 1, 0, 1, 1, 0, 0, 0, 0, 1, 0, 0, 1, 0, 0, 1, 0, 0, 0, 1, 1, 1, 1, 0, 1, 1, 0, 0, 1, 0, 0, 1, 1, 1, 0, 0, 0, 1, 1, 1, 1, 1, 1, 0, 0, 1, 0, 0, 0, 1, 0, 0, 0, 0, 1, 0, 0, 0, 1, 0, 0, 0, 1, 1, 0, 1, 1, 0, 1, 1, 1, 0, 1, 1, 0, 1, 1, 1, 0, 1, 0, 1, 0, 1, 0, 0, 1, 1, 0, 0, 0, 1, 0, 0, 0, 1, 1, 0, 1, 1, 0, 0, 0, 1, 0, 1, 0, 1, 0, 0, 0, 1, 0, 1, 1, 0, 0, 1, 1, 1, 0, 1, 1, 1, 1, 0, 1, 0, 0, 1, 0, 1, 1, 0, 1, 1, 1, 1, 0, 0, 1, 0, 1, 1, 1, 1, 1, 1, 1, 0, 0, 1, 1, 0, 0, 0, 0, 1, 0, 0, 0, 0, 1, 0, 0, 1, 0, 0, 0, 0, 1, 0, 1, 0, 0, 1, 0, 1, 1, 1, 1, 0, 0, 0, 0, 1, 1, 1, 1, 0, 1, 1, 1, 1, 0, 0, 1, 0, 1, 0, 0, 1, 0, 0, 1, 1, 0, 1, 1, 0, 0, 1, 0, 1, 0, 0, 0, 0, 1, 0, 1, 1, 0, 0, 1, 1, 0, 1, 1, 1, 1, 0, 1, 1, 0, 1, 1, 1, 0, 1, 1, 1, 1, 1, 1, 0, 0, 0, 0, 0, 0, 0, 0, 1, 0, 0, 1, 1, 1, 0, 0, 0, 0, 0, 0, 1, 0, 0, 0, 1, 1, 1, 1, 0, 0, 0, 1, 1, 0, 1, 1, 0, 1, 1, 0, 0, 0, 1, 1, 0, 0, 0, 1, 0, 1, 0, 1, 1, 1, 0, 1, 0, 0, 0, 1, 1, 0, 1, 1, 1, 0, 0, 0, 0, 1, 0, 0, 0, 0, 0, 1, 1, 1, 0, 0, 1, 1, 1, 0, 1, 1, 0, 0, 0, 0, 0, 0, 1, 0, 0, 1, 1, 1, 1, 0, 0, 1, 0, 1, 1, 1, 0, 0, 1, 1, 0, 1, 1, 0, 1, 0, 0, 0, 1, 1, 1, 1, 0, 0, 1, 1, 1, 1, 0, 0, 1, 1, 1, 1, 0, 0, 1, 0, 1, 0, 0, 1, 0, 1, 0, 1, 0, 1, 0, 1, 1, 1, 1, 0, 0, 1, 0, 1, 0, 1, 1, 1, 0, 0, 1, 0, 1, 1, 0, 1, 0, 0, 1, 0, 1, 1, 0, 1, 0, 1, 0, 0, 0, 0, 1, 0, 0, 1, 0, 0, 0, 0, 1, 1, 1, 1, 0, 0, 0, 1, 0, 1, 0, 1, 1, 1, 0, 0, 0, 1, 0, 0, 1, 0, 1, 1, 0, 1, 1, 0, 1, 1, 0, 1, 1, 1, 1, 0, 1, 1, 0, 0, 0, 0, 0, 0, 1, 1, 0, 1, 1, 0, 1, 0, 1, 0, 1, 1, 0, 0, 1, 0, 1, 1, 1, 0, 0, 1, 1, 0, 1, 0, 0, 0, 0, 0, 0, 1, 1, 1, 1, 1, 0, 1, 1, 0, 1, 0, 1, 1, 1, 0, 0, 1, 0, 1, 0, 0, 1, 0, 1, 1, 0, 0, 0, 0, 0, 1, 1, 1, 1, 1, 0, 0, 1, 0, 1, 0, 1, 0, 1, 1, 0, 1, 0, 1, 0, 0, 0, 1, 1, 1, 1, 0, 1, 1, 1, 0, 0, 0, 0, 1, 0, 1, 0, 0, 0, 0, 1, 1, 0, 1, 0, 1, 0, 0, 1, 1, 0, 0, 0, 1, 1, 0, 1, 0, 1, 0, 1, 1, 1, 0, 1, 1, 1, 1, 1, 0, 1, 1, 0, 1, 1, 1, 0, 1, 1, 0, 1, 1, 0, 0, 0, 0, 1, 0, 1, 1, 1, 0, 0, 0, 1, 0, 1, 0, 1, 0, 0, 1, 1, 1, 0, 1, 1, 1, 0, 1, 0, 1, 1, 0, 0, 1, 1, 1, 1, 1, 1, 0, 0, 1, 0, 1, 0, 0, 0, 0, 1, 0, 1, 1, 1, 0, 0, 0, 1, 1, 0, 1, 0, 1, 0, 0, 0, 1, 0, 1, 1, 0, 1, 0, 0, 0, 1, 1, 0, 0, 1, 1, 0, 0, 1, 1, 0, 1, 1, 0, 1, 1, 1, 1, 1, 1, 0, 1, 0, 0, 0, 1, 1, 1, 1, 0, 0, 0, 1, 1, 0, 0, 1, 1, 1, 0, 1, 0, 0, 0, 0, 0, 1, 0, 1, 0, 0, 1, 1, 0, 1, 0, 0, 0, 1, 1, 0, 0, 1, 0, 0, 0, 0, 1, 1, 1, 1, 1, 1, 1, 0, 1, 1, 1, 0, 1, 0, 1, 1, 0, 0, 0, 0, 1, 1, 1, 1, 0, 0, 1, 1, 0, 1, 1, 1, 1, 1, 1, 1, 0, 1, 0, 1, 0, 0, 1, 0, 0, 0, 1, 1, 1, 1, 1, 0, 1, 1, 1, 0, 0, 0, 1, 1, 0, 1, 1, 0, 0, 0, 0, 0, 1, 1, 0, 0, 1, 1, 1, 1, 0, 1, 0, 1, 0, 1, 0, 1, 0, 0, 1, 1, 0, 1, 1, 1, 1, 1, 1, 1, 1, 1, 0, 0, 0, 0, 1, 1, 1, 0, 1, 1, 0, 0, 1, 1, 0, 0, 0, 0, 0, 0, 0, 1, 1, 1, 0, 0, 0, 1, 0, 1, 1, 0, 0, 1, 1, 0, 1, 1, 1, 0, 0, 0, 1, 0, 1, 0, 0, 1, 0, 1, 1, 1, 0, 1, 1, 1, 0, 1, 0, 1, 0, 1, 1, 0, 1, 1, 0, 0, 0, 0, 1, 0, 1, 1, 1, 0, 0, 0, 1, 0, 1, 1, 0, 0, 1, 1, 1, 0, 1, 0, 0, 0, 1, 1, 0, 1, 1, 0, 1, 0, 1, 0, 0, 1, 1, 0, 1, 0, 1, 1, 0, 1, 1, 0, 0, 1, 0, 1, 0, 1, 1, 1, 0, 1, 1, 1, 0, 0, 0, 1, 0, 0, 1, 0, 1, 1, 0, 1, 1, 1, 1, 0, 1, 0, 1, 1, 1, 0, 0, 1, 0, 1, 0, 0, 0, 1, 1, 1, 1, 1, 0, 1, 1, 0, 0, 0, 1, 0, 0, 1, 1, 0, 1, 1, 1, 0, 1, 0, 0, 1, 0, 0, 0, 1, 0, 0, 1, 1, 1, 0, 0, 1, 1, 1, 0, 0, 1, 0, 1, 0, 1, 1, 1, 0, 1, 1, 1, 0, 0, 1, 1, 1, 0, 0, 1, 0, 0, 0, 0, 0, 1, 0, 0, 1, 1, 0, 0, 1, 0, 0, 0, 0, 1, 0, 1, 1, 1, 1, 1, 0, 1, 0, 1, 0, 1, 1, 0, 0, 1, 1, 1, 1, 0, 0, 0, 1, 0, 0, 1, 1, 0, 0, 0, 0, 1, 1, 1, 1, 0, 0, 0, 1, 0, 0, 1, 0, 1, 1, 1, 1, 1, 0, 0, 0, 0, 1, 0, 1, 0, 1, 1, 0, 1, 1, 1, 1, 1, 0, 0, 0, 1, 1, 0, 1, 1, 0, 1, 0, 0, 1, 0, 0, 0, 1, 1, 1, 0, 1, 1, 1, 1, 1, 1, 0, 0, 0, 1, 0, 1, 1, 1, 1, 1, 1, 1, 1, 0, 0, 1, 1, 1, 0, 0, 0, 0, 1, 0, 0, 1, 1, 1, 0, 1, 1, 1, 0, 0, 0, 1, 0, 0, 1, 0, 1, 0, 0, 1, 1, 1, 1, 1, 1, 0, 1, 0, 1, 1, 1, 1, 0, 0, 0, 1, 0, 0, 0, 1, 1, 1, 1, 1, 0, 0, 0, 1, 1, 1, 1, 0, 0, 1, 0, 0, 0, 1, 0, 1, 1, 1, 0, 0, 0, 0, 1, 1, 0, 0, 1, 0, 1, 1, 1, 0, 0, 0, 0, 1, 1, 1, 1, 0, 1, 0, 1, 0, 0, 1, 1, 0, 0, 0, 1, 1, 0, 1, 1, 0, 0, 0, 1, 0, 0, 0, 0, 0, 0, 0, 1, 0, 0, 1, 1, 0, 1, 1, 0, 1, 1, 1, 1, 1, 0, 1, 1, 1, 0, 0, 0, 1, 0, 1, 1, 1, 0, 1, 1, 1, 0, 1, 0, 0, 1, 0, 0, 0, 0, 0, 0, 1, 0, 0, 0, 1, 1, 0, 0, 0, 1, 1, 0, 1, 1, 0, 0, 1, 1, 0, 1, 0, 0, 0, 1, 1, 1, 0, 0, 1, 1, 0, 1, 0, 0, 0, 1, 0, 1, 1, 1, 1, 1, 0, 0, 0, 1, 1, 0, 1, 0, 1, 1, 0, 1, 1, 1, 1, 0, 1, 0, 1, 1, 0, 0, 0, 1, 1, 1, 0, 1, 1, 1, 1, 0, 1, 1, 1, 1, 1, 0, 1, 1, 1, 0, 0, 0, 1, 1, 1, 1, 1, 0, 0, 0, 0, 1, 0, 1, 0, 0, 0, 0, 0, 0, 1, 1, 0, 0, 0, 0, 1, 0, 1, 1, 0, 0, 1, 0, 1, 1, 0, 0, 1, 1, 0, 1, 1, 0, 1, 0, 0, 0, 0, 0, 1, 1, 0, 1, 1, 1, 0, 1, 0, 1, 1, 1, 1, 0, 1, 1, 0, 1, 1, 0, 1, 0, 1, 0, 0, 0, 0, 1, 0, 0, 1, 0, 1, 1, 0, 1, 1, 0, 1, 1, 0, 1, 0, 0, 0, 1, 1, 0, 1, 0, 0, 0, 0, 1, 1, 1, 1, 1, 0, 1, 0, 1, 0, 1, 0, 0, 0, 0, 1, 0, 1, 0, 0, 0, 0, 1, 0, 1, 1, 1, 1, 0, 1, 0, 1, 1, 1, 1, 0, 0, 0, 1, 0, 1, 0, 1, 0, 0, 0, 0, 1, 1, 0, 1, 0, 0, 0, 0, 1, 0, 0, 0, 1, 1, 0, 1, 0, 0, 1, 1, 0, 0, 1, 1, 1, 1, 1, 0, 1, 1, 0, 0, 1, 0, 1, 1, 1, 0, 1, 0, 1, 1, 1, 1, 1, 0, 1, 1, 0, 0, 1, 0, 1, 0, 0, 0, 1, 1, 1, 1, 1, 1, 0, 1, 0, 0, 0, 1, 1, 1, 1, 0, 0, 0, 0, 0, 0, 1, 0, 1, 0, 0, 1, 0, 1, 0, 1, 1, 0, 0, 0, 1, 0, 1, 1, 1, 1, 0, 0, 1, 1, 1, 0, 1, 1, 1, 1, 0, 1, 0, 0, 0, 0, 1, 1, 0, 0, 0, 1, 1, 0, 0, 1, 1, 1, 1, 0, 0, 0, 1, 0, 1, 1, 1, 0, 0, 1, 0, 1, 0, 1, 0, 0, 0, 0, 0, 1, 1, 1, 1, 0, 1, 0, 0, 0, 0, 0, 0, 0, 0, 1, 0, 1, 1, 1, 0, 1, 0, 1, 1, 0, 1, 1, 1, 1, 0, 0, 1, 0, 0, 0, 1, 0, 1, 0, 0, 0, 1, 1, 1, 0, 1, 0, 0, 0, 1, 0, 1, 1, 0, 1, 0, 0, 0, 1, 1, 0, 0, 0, 0, 0, 1, 0, 0, 0, 1, 0, 1, 1, 1, 1, 1, 1, 0, 1, 0, 0, 1, 0, 0, 1, 0, 0, 1, 1, 0, 0, 0, 0, 1, 0, 0, 0, 0, 1, 1, 1, 0, 1, 1, 0, 1, 1, 0, 1, 0, 0, 0, 0, 1, 0, 0, 0, 0, 0, 1, 0, 1, 1, 1, 1, 0, 1, 0, 0, 1, 1, 0, 0, 1, 1, 1, 0, 1, 0, 0, 1, 1, 1, 1, 1, 1, 1, 1, 1, 1, 1, 0, 1, 1, 0, 1, 0, 0, 1, 1, 0, 1, 1, 1, 0, 1, 0, 1, 0, 1, 1, 0, 1, 0, 1, 1, 1, 1, 1, 1, 1, 0, 0, 0, 1, 0, 1, 1, 0, 1, 1, 0, 1, 0, 1, 0, 1, 0, 0, 1, 1, 0, 0, 0, 0, 0, 1, 0, 1, 0, 0, 1, 0, 1, 0, 0, 0, 0, 0, 0, 1, 1, 0, 1, 1, 1, 1, 0, 1, 1, 0, 1, 1, 0, 1, 1, 0, 0, 1, 1, 0, 1, 0, 1, 1, 1, 0, 0, 1, 0, 1, 0, 0, 1, 0, 1, 1, 0, 1, 0, 1, 1, 1, 0, 0, 0, 0, 0, 0, 0, 0, 1, 1, 1, 0, 1, 0, 1, 0, 0, 1, 1, 1, 0, 1, 0, 0, 1, 1, 0, 0, 1, 0, 0, 0, 1, 0, 0, 1, 1, 1, 1, 1, 0, 1, 0, 1, 0, 0, 0, 0, 1, 1, 0, 1, 0, 1, 0, 1, 1, 0, 1, 1, 0, 0, 1, 1, 1, 0, 0, 0, 1, 1, 0, 1, 1, 1, 1, 1, 1, 1, 0, 0, 1, 0, 1, 1, 0, 1, 1, 1, 1, 0, 1, 0, 0, 1, 1, 0, 0, 0, 1, 1, 1, 1, 1, 0, 0, 0, 0, 1, 0, 0, 1, 1, 0, 1, 1, 1, 1, 1, 1, 0, 0, 0, 0, 1, 0, 0, 0, 1, 0, 0, 1, 0, 1, 1, 1, 0, 0, 0, 1, 1, 0, 1, 1, 1, 0, 0, 1, 0, 0, 0, 1, 1, 1, 1, 0, 0, 1, 1, 0, 0, 1, 1, 0, 1, 0, 1, 1, 0, 0, 1, 1, 1, 1, 1, 0, 1, 1, 1, 1, 1, 0, 0, 0, 0, 0, 0, 1, 0, 1, 1, 1, 1, 1, 1, 1, 1, 1, 1, 1, 1, 0, 0, 1, 0, 0, 0, 0, 0, 1, 0, 0, 1, 0, 1, 1, 0, 1, 1, 1, 0, 0, 1, 1, 0, 0, 0, 0, 1, 0, 0, 0, 0, 0, 1, 1, 0, 1, 1, 0, 1, 1, 1, 1, 0, 1, 0, 0, 1, 1, 1, 0, 0, 1, 0, 1, 0, 0, 0, 1, 1, 1, 1, 1, 0, 1, 0, 1, 0, 0, 0, 0, 1, 0, 1, 1, 0, 1, 0, 0, 1, 0, 0, 1, 0, 1, 1, 0, 0, 0, 0, 1, 0, 0, 0, 0, 1, 0, 0, 1, 1, 0, 0, 0, 1, 0, 0, 0, 1, 1, 1, 1, 1, 1, 0, 1, 1, 1, 0, 0, 0, 0, 0, 0, 1, 0, 0, 1, 0, 1, 1, 1, 1, 0, 1, 1, 1, 0, 1, 1, 0, 1, 0, 1, 0, 1, 1, 0, 1, 1, 1, 0, 0, 0, 0, 1, 0, 1, 1, 1, 1, 0, 1, 0, 0, 0, 1, 1, 1, 1, 0, 0, 0, 1, 0, 0, 1, 0, 0, 1, 0, 1, 1, 1, 1, 0, 1, 0, 0, 1, 0, 1, 1, 1, 1, 1, 0, 1, 1, 1, 0, 1, 1, 0, 0, 0, 1, 1, 1, 1, 1, 0, 1, 0, 1, 1, 0, 1, 0, 1, 1, 0, 0, 0, 1, 0, 1, 1, 1, 1, 1, 0, 1, 1, 0, 0, 0, 0, 1, 0, 0, 0, 0, 1, 1, 1, 0, 0, 0, 0, 1, 0, 0, 0, 0, 1, 1, 0, 0, 1, 1, 0, 0, 1, 1, 0, 1, 1, 0, 0, 0, 0, 0, 0, 1, 0, 1, 1, 1, 0, 1, 1, 0, 0, 0, 1, 1, 1, 0, 0, 0, 0, 1, 0, 0, 1, 0, 1, 0, 1, 0, 0, 1, 1, 0, 0, 1, 1, 0, 1, 0, 0, 1, 0, 1, 1, 0, 1, 0, 1, 1, 1, 1, 0, 1, 1, 1, 1, 0, 1, 1, 0, 1, 0, 0, 0, 1, 1, 1, 0, 1, 0, 1, 1, 1, 1, 0, 1, 1, 1, 1, 0, 0, 1, 1, 0, 1, 0, 0, 1, 1, 1, 1, 1, 0, 0, 0, 1, 1, 1, 0, 1, 1, 0, 1, 1, 0, 1, 1, 0, 0, 1, 1, 0, 0, 1, 1, 1, 1, 0, 1, 1, 1, 0, 1, 1, 0, 1, 0, 1, 1, 1, 1, 1, 0, 0, 0, 0, 1, 0, 0, 1, 1, 1, 1, 0, 1, 0, 0, 0, 1, 1, 1, 1, 0, 0, 0, 0, 1, 0, 0, 1, 0, 1, 0, 1, 1, 1, 1, 1, 0, 1, 1, 1, 0, 0, 0, 1, 0, 1, 1, 1, 0, 0, 0, 1, 0, 1, 0, 1, 0, 0, 1, 0, 1, 0, 0, 0, 0, 0, 1, 1, 1, 1, 1, 0, 1, 0, 0, 1, 0, 1, 0, 0, 0, 0, 1, 1, 1, 1, 1, 1, 0, 0, 0, 0, 1, 0, 1, 1, 1, 0, 1, 0, 0, 1, 0, 1, 1, 1, 1, 1, 1, 0, 1, 1, 1, 0, 1, 0, 1, 1, 1, 1, 1, 1, 1, 1, 1, 0, 1, 1, 0, 1, 1, 0, 1, 1, 0, 1, 1, 1, 1, 1, 1, 1, 1, 0, 0, 0, 1, 1, 1, 0, 1, 0, 1, 1, 1, 0, 1, 0, 1, 1, 0, 1, 1, 0, 0, 0, 0, 0, 0, 1, 0, 0, 0, 0, 1, 0, 1, 0, 0, 0, 1, 1, 0, 1, 1, 1, 0, 0, 1, 0, 1, 1, 0, 0, 1, 1, 0, 1, 0, 1, 0, 1, 0, 0, 0, 1, 1, 0, 1, 1, 1, 1, 0, 1, 1, 0, 1, 1, 0, 0, 0, 1, 1, 0, 1, 0, 1, 0, 1, 0, 0, 1, 1, 1, 1, 1, 1, 0, 0, 1, 0, 1, 1, 1, 1, 1, 1, 0, 0, 0, 0, 0, 0, 0, 1, 1, 0, 0, 1, 0, 0, 0, 1, 0, 1, 1, 0, 1, 0, 1, 1, 1, 1, 1, 1, 1, 0, 1, 0, 0, 0, 0, 0, 1, 1, 0, 0, 1, 1, 0, 0, 1, 0, 0, 0, 0, 0, 1, 1, 0, 0, 0, 0, 0, 0, 0, 1, 0, 1, 1, 0, 0, 1, 0, 0, 0, 1, 0, 0, 0, 0, 0, 1, 1, 0, 0, 1, 1, 0, 1, 1, 1, 1, 1, 1, 1, 1, 1, 0, 0, 0, 1, 1, 0, 0, 0, 1, 0, 0, 0, 1, 1, 1, 1, 1, 1, 0, 1, 1, 1, 0, 1, 1, 1, 0, 1, 1, 0, 1, 0, 1, 1, 1, 1, 1, 1, 0, 1, 0, 1, 0, 1, 0, 0, 1, 0, 0, 0, 1, 1, 1, 0, 0, 0, 1, 0, 1, 0, 0, 0, 1, 0, 0, 0, 1, 0, 1, 0, 0, 1, 0, 0, 0, 1, 0, 0, 1, 0, 1, 0, 1, 0, 0, 0, 0, 0, 1, 0, 1, 0, 1, 0, 0, 0, 0, 0, 1, 0, 0, 0, 0, 0, 0, 1, 1, 1, 0, 1, 0, 0, 0, 1, 1, 1, 1, 1, 0, 0, 0, 1, 0, 0, 1, 1, 0, 1, 0, 0, 0, 1, 1, 1, 1, 0, 0, 1, 0, 0, 1, 0, 1, 0, 0, 0, 1, 1, 1, 1, 1, 1, 0, 0, 0, 1, 1, 1, 1, 1, 1, 0, 0, 1, 1, 1, 1, 0, 1, 0, 0, 1, 0, 1, 1, 0, 1, 1, 0, 1, 1, 0, 1, 1, 1, 1, 1, 1, 0, 1, 0, 0, 1, 0, 1, 0, 1, 1, 1, 0, 1, 1, 0, 1, 0, 1, 0, 0, 1, 0, 1, 1, 0, 0, 0, 0, 1, 0, 0, 1, 1, 0, 1, 1, 0, 1, 1, 1, 1, 1, 0, 0, 0, 1, 1, 0, 0, 1, 1, 1, 1, 0, 1, 0, 0, 1, 1, 0, 1, 1, 1, 1, 1, 1, 1, 1, 0, 0, 0, 1, 0, 1, 1, 1, 1, 1, 1, 1, 0, 0, 1, 1, 0, 0, 0, 1, 1, 0, 1, 0, 0, 1, 1, 0, 1, 0, 1, 1, 1, 0, 0, 1, 0, 0, 1, 1, 1, 0, 0, 0, 0, 1, 1, 0, 1, 0, 1, 1, 0, 0, 0, 1, 0, 0, 0, 1, 0, 0, 1, 1, 1, 1, 0, 1, 1, 1, 0, 0, 1, 0, 1, 1, 1, 1, 1, 1, 0, 0, 0, 1, 0, 0, 1, 0, 0, 1, 1, 0, 1, 0, 1, 1, 0, 0, 0, 1, 0, 0, 0, 1, 1, 0, 1, 1, 1, 0, 0, 1, 0, 1, 1, 1, 0, 0, 1, 1, 0, 1, 0, 1, 0, 1, 1, 0, 1, 1, 1, 0, 1, 0, 1, 0, 1, 0, 1, 1, 1, 1, 1, 0, 1, 0, 1, 0, 1, 1, 0, 1, 0, 1, 0, 0, 0, 0, 1, 0, 1, 0, 0, 0, 1, 1, 1, 1, 0, 1, 1, 1, 0, 0, 0, 0, 0, 0, 0, 1, 0, 1, 0, 1, 0, 0, 1, 1, 1, 0, 0, 0, 1, 1, 1, 0, 1, 0, 1, 1, 1, 1, 0, 0, 1, 1, 1, 0, 1, 0, 1, 1, 0, 0, 1, 1, 1, 0, 0, 0, 1, 1, 1, 0, 1, 1, 0, 1, 0, 1, 1, 1, 0, 0, 1, 0, 0, 1, 0, 1, 0, 1, 1, 0, 1, 1, 1, 1, 0, 1, 0, 0, 1, 1, 0, 1, 0, 0, 0, 1, 0, 1, 1, 0, 0, 0, 1, 0, 1, 1, 0, 0, 1, 0, 0, 0, 0, 0, 0, 0, 1, 0, 1, 0, 1, 1, 1, 0, 1, 1, 1, 0, 0, 1, 1, 1, 1, 0, 0, 1, 1, 0, 1, 1, 1, 1, 0, 1, 1, 0, 1, 1, 1, 1, 0, 0, 1, 1, 0, 0, 1, 0, 1, 1, 0, 0, 1, 1, 0, 0, 1, 1, 1, 1, 1, 0, 0, 0, 0, 0, 1, 0, 0, 0, 0, 0, 0, 0, 1, 0, 1, 0, 0, 0, 0, 0, 1, 0, 1, 0, 1, 1, 1, 0, 1, 1, 0, 0, 1, 0, 1, 1, 0, 1, 1, 1, 0, 1, 1, 1, 1, 0, 1, 0, 0, 1, 1, 1, 0, 1, 1, 1, 1, 0, 0, 0, 1, 1, 1, 0, 1, 1, 0, 1, 0, 0, 1, 1, 1, 1, 1, 0, 1, 0, 1, 0, 1, 0, 0, 0, 1, 0, 1, 1, 1, 0, 1, 1, 0, 0, 1, 1, 0, 0, 1, 1, 0, 1, 0, 0, 0, 1, 0, 0, 1, 1, 1, 1, 0, 1, 0, 0, 1, 0, 0, 1, 0, 1, 1, 0, 0, 1, 1, 0, 1, 1, 0, 0, 1, 0, 0, 1, 0, 1, 0, 0, 0, 1, 1, 0, 0, 1, 0, 0, 0, 1, 0, 1, 1, 1, 1, 0, 1, 0, 1, 1, 0, 1, 1, 0, 0, 1, 0, 1, 0, 0, 1, 0, 0, 0, 1, 0, 0, 1, 1, 1, 1, 1, 1, 0, 1, 1, 1, 0, 0, 1, 1, 0, 1, 1, 0, 0, 0, 0, 0, 0, 0, 1, 1, 1, 1, 0, 1, 0, 0, 0, 1, 0, 0, 0, 1, 0, 0, 1, 0, 1, 1, 0, 0, 0, 0, 0, 1, 0, 0, 1, 1, 0, 1, 1, 0, 1, 1, 0, 1, 0, 1, 0, 0, 0, 1, 1, 0, 0, 0, 0, 0, 1, 1, 0, 0, 0, 0, 0, 1, 0, 1, 1, 1, 0, 0, 1, 0, 0, 1, 1, 0, 1, 0, 0, 1, 1, 0, 1, 0, 1, 0, 0, 1, 0, 1, 0, 0, 1, 0, 0, 1, 1, 1, 0, 1, 1, 1, 1, 1, 1, 0, 0, 1, 1, 1, 1, 1, 0, 1, 0, 0, 1, 0, 1, 1, 1, 0, 0, 1, 1, 0, 0, 0, 1, 1, 1, 1, 1, 0, 1, 0, 0, 0, 0, 1, 0, 1, 0, 0, 0, 0, 0, 1, 1, 0, 1, 1, 0, 1, 1, 0, 0, 0, 1, 0, 0, 1, 0, 1, 1, 0, 0, 1, 0, 1, 1, 0, 1, 1, 1, 0, 1, 1, 0, 1, 1, 1, 0, 0, 1, 1, 0, 1, 1, 0, 1, 1, 0, 1, 0, 1, 0, 1, 1, 1, 1, 1, 1, 0, 1, 1, 0, 0, 0, 0, 1, 1, 0, 0, 0, 0, 1, 1, 1, 1, 1, 1, 1, 1, 1, 1, 1, 1, 0, 0, 0, 0, 0, 1, 1, 0, 0, 0, 1, 0, 1, 1, 1, 1, 1, 1, 1, 1, 1, 1, 1, 1, 0, 1, 0, 0, 0, 0, 1, 1, 0, 1, 0, 1, 1, 1, 0, 0, 0, 0, 0, 0, 1, 1, 0, 1, 0, 1, 0, 1, 1, 1, 0, 1, 1, 0, 1, 0, 1, 1, 0, 1, 1, 1, 0, 1, 0, 0, 1, 0, 1, 0, 1, 1, 1, 0, 0, 0, 0, 1, 0, 1, 1, 1, 1, 1, 0, 0, 1, 1, 1, 1, 1, 0, 1, 1, 1, 1, 0, 0, 1, 0, 0, 0, 1, 1, 0, 1, 1, 0, 1, 0, 1, 1, 1, 1, 0, 0, 0, 0, 0, 0, 1, 1, 1, 1, 1, 0, 1, 1, 1, 0, 1, 1, 1, 0, 0, 0, 0, 0, 0, 0, 1, 0, 1, 1, 1, 0, 1, 1, 0, 0, 1, 0, 1, 1, 1, 1, 0, 0, 1, 1, 0, 0, 1, 1, 1, 0, 1, 0, 1, 1, 1, 0, 1, 1, 0, 0, 0, 1, 1, 0, 1, 0, 1, 1, 0, 0, 0, 0, 0, 0, 1, 0, 1, 1, 0, 1, 1, 1, 0, 0, 1, 0, 1, 1, 0, 0, 0, 0, 0, 0, 0, 0, 0, 0, 1, 0, 0, 1, 1, 1, 0, 1, 1, 0, 1, 0, 1, 1, 1, 1, 1, 0, 1, 0, 0, 1, 1, 1, 1, 1, 0, 1, 1, 0, 0, 1, 1, 0, 1, 1, 0, 1, 1, 0, 1, 1, 0, 1, 0, 0, 1, 0, 0, 1, 1, 1, 1, 0, 0, 1, 1, 1, 0, 0, 1, 0, 0, 0, 1, 0, 0, 1, 1, 1, 0, 1, 1, 1, 1, 0, 0, 1, 1, 0, 1, 0, 1, 1, 1, 0, 0, 1, 0, 0, 0, 1, 0, 0, 1, 1, 0, 0, 0, 0, 1, 0, 0, 0, 0, 1, 1, 0, 1, 0, 0, 0, 0, 1, 1, 1, 1, 1, 0, 1, 0, 1, 1, 0, 1, 1, 0, 1, 0, 1, 0, 0, 1, 1, 1, 1, 0, 1, 1, 1, 0, 1, 1, 0, 1, 0, 0, 1, 1, 0, 0, 0, 1, 1, 1, 1, 1, 0, 0, 0, 0, 0, 1, 1, 1, 1, 1, 0, 1, 0, 0, 1, 1, 1, 0, 1, 1, 1, 1, 1, 0, 0, 0, 0, 1, 0, 1, 1, 1, 1, 1, 0, 0, 0, 1, 1, 1, 0, 0, 1, 0, 0, 0, 1, 1, 1, 1, 1, 1, 0, 0, 1, 0, 1, 0, 0, 0, 1, 1, 1, 0, 0, 0, 1, 0, 1, 0, 1, 0, 0, 0, 1, 1, 0, 0, 0, 1, 1, 0, 0, 0, 0, 1, 0, 0, 0, 1, 0, 1, 0, 1, 0, 1, 0, 1, 0, 1, 1, 1, 0, 0, 0, 1, 0, 0, 0, 1, 0, 0, 1, 0, 1, 1, 1, 0, 1, 1, 1, 1, 0, 0, 1, 0, 0, 1, 1, 0, 0, 1, 1, 1, 0, 1, 0, 0, 1, 0, 0, 1, 0, 0, 1, 0, 1, 1, 1, 0, 0, 1, 0, 0, 1, 1, 0, 0, 1, 1, 1, 0, 1, 1, 1, 1, 0, 1, 0, 0, 1, 1, 0, 1, 1, 1, 0, 0, 0, 1, 0, 0, 0, 0, 0, 1, 1, 0, 1, 1, 0, 1, 1, 1, 0, 0, 0, 1, 1, 1, 0, 0, 0, 0, 0, 0, 0, 0, 0, 0, 0, 1, 1, 1, 0, 0, 1, 1, 1, 1, 1, 1, 0, 1, 1, 0, 1, 0, 0, 1, 1, 0, 0, 0, 1, 0, 0, 0, 1, 1, 1, 0, 0, 1, 1, 1, 1, 1, 0, 0, 0, 0, 1, 0, 1, 1, 0, 0, 1, 1, 1, 1, 0, 1, 1, 0, 1, 0, 0, 1, 0, 1, 0, 0, 0, 1, 0, 1, 0]\n"
          ]
        }
      ]
    },
    {
      "cell_type": "markdown",
      "source": [
        "#### Glove & W2V"
      ],
      "metadata": {
        "id": "kmfZUXFcVwsW"
      }
    },
    {
      "cell_type": "code",
      "source": [
        "# 預測測試集\n",
        "y_pred = lstm_model.predict(test_data)\n",
        "y_pred = np.where(y_pred>=0.5, 1, 0)\n",
        "print(y_pred)\n",
        "result = y_pred"
      ],
      "metadata": {
        "colab": {
          "base_uri": "https://localhost:8080/"
        },
        "id": "hM_22SPtV1i4",
        "outputId": "68f698dd-beac-4734-cf7f-cf64af1abd4c"
      },
      "execution_count": null,
      "outputs": [
        {
          "output_type": "stream",
          "name": "stdout",
          "text": [
            "[[0]\n",
            " [1]\n",
            " [1]\n",
            " ...\n",
            " [1]\n",
            " [1]\n",
            " [1]]\n"
          ]
        }
      ]
    },
    {
      "cell_type": "markdown",
      "source": [
        "#### 輸出結果"
      ],
      "metadata": {
        "id": "WlUrkE2YWEFn"
      }
    },
    {
      "cell_type": "code",
      "source": [
        "# 轉CSV檔\n",
        "predicted_df = pd.DataFrame(result, columns=['LABEL'])\n",
        "predicted_df.index.name=\"row_id\"\n",
        "predicted_df.to_csv(\"BERT_token_b8e4_l3.csv\")\n",
        "predicted_df"
      ],
      "metadata": {
        "colab": {
          "base_uri": "https://localhost:8080/",
          "height": 455
        },
        "id": "Gmt2oaWrom30",
        "outputId": "7155836d-9bee-48a7-92dc-74d51972e9bc"
      },
      "execution_count": null,
      "outputs": [
        {
          "output_type": "execute_result",
          "data": {
            "text/plain": [
              "        LABEL\n",
              "row_id       \n",
              "0           1\n",
              "1           1\n",
              "2           0\n",
              "3           0\n",
              "4           0\n",
              "...       ...\n",
              "10995       0\n",
              "10996       1\n",
              "10997       0\n",
              "10998       1\n",
              "10999       0\n",
              "\n",
              "[11000 rows x 1 columns]"
            ],
            "text/html": [
              "\n",
              "  <div id=\"df-83003228-95a5-444c-aba0-772cd89551d5\">\n",
              "    <div class=\"colab-df-container\">\n",
              "      <div>\n",
              "<style scoped>\n",
              "    .dataframe tbody tr th:only-of-type {\n",
              "        vertical-align: middle;\n",
              "    }\n",
              "\n",
              "    .dataframe tbody tr th {\n",
              "        vertical-align: top;\n",
              "    }\n",
              "\n",
              "    .dataframe thead th {\n",
              "        text-align: right;\n",
              "    }\n",
              "</style>\n",
              "<table border=\"1\" class=\"dataframe\">\n",
              "  <thead>\n",
              "    <tr style=\"text-align: right;\">\n",
              "      <th></th>\n",
              "      <th>LABEL</th>\n",
              "    </tr>\n",
              "    <tr>\n",
              "      <th>row_id</th>\n",
              "      <th></th>\n",
              "    </tr>\n",
              "  </thead>\n",
              "  <tbody>\n",
              "    <tr>\n",
              "      <th>0</th>\n",
              "      <td>1</td>\n",
              "    </tr>\n",
              "    <tr>\n",
              "      <th>1</th>\n",
              "      <td>1</td>\n",
              "    </tr>\n",
              "    <tr>\n",
              "      <th>2</th>\n",
              "      <td>0</td>\n",
              "    </tr>\n",
              "    <tr>\n",
              "      <th>3</th>\n",
              "      <td>0</td>\n",
              "    </tr>\n",
              "    <tr>\n",
              "      <th>4</th>\n",
              "      <td>0</td>\n",
              "    </tr>\n",
              "    <tr>\n",
              "      <th>...</th>\n",
              "      <td>...</td>\n",
              "    </tr>\n",
              "    <tr>\n",
              "      <th>10995</th>\n",
              "      <td>0</td>\n",
              "    </tr>\n",
              "    <tr>\n",
              "      <th>10996</th>\n",
              "      <td>1</td>\n",
              "    </tr>\n",
              "    <tr>\n",
              "      <th>10997</th>\n",
              "      <td>0</td>\n",
              "    </tr>\n",
              "    <tr>\n",
              "      <th>10998</th>\n",
              "      <td>1</td>\n",
              "    </tr>\n",
              "    <tr>\n",
              "      <th>10999</th>\n",
              "      <td>0</td>\n",
              "    </tr>\n",
              "  </tbody>\n",
              "</table>\n",
              "<p>11000 rows × 1 columns</p>\n",
              "</div>\n",
              "      <button class=\"colab-df-convert\" onclick=\"convertToInteractive('df-83003228-95a5-444c-aba0-772cd89551d5')\"\n",
              "              title=\"Convert this dataframe to an interactive table.\"\n",
              "              style=\"display:none;\">\n",
              "        \n",
              "  <svg xmlns=\"http://www.w3.org/2000/svg\" height=\"24px\"viewBox=\"0 0 24 24\"\n",
              "       width=\"24px\">\n",
              "    <path d=\"M0 0h24v24H0V0z\" fill=\"none\"/>\n",
              "    <path d=\"M18.56 5.44l.94 2.06.94-2.06 2.06-.94-2.06-.94-.94-2.06-.94 2.06-2.06.94zm-11 1L8.5 8.5l.94-2.06 2.06-.94-2.06-.94L8.5 2.5l-.94 2.06-2.06.94zm10 10l.94 2.06.94-2.06 2.06-.94-2.06-.94-.94-2.06-.94 2.06-2.06.94z\"/><path d=\"M17.41 7.96l-1.37-1.37c-.4-.4-.92-.59-1.43-.59-.52 0-1.04.2-1.43.59L10.3 9.45l-7.72 7.72c-.78.78-.78 2.05 0 2.83L4 21.41c.39.39.9.59 1.41.59.51 0 1.02-.2 1.41-.59l7.78-7.78 2.81-2.81c.8-.78.8-2.07 0-2.86zM5.41 20L4 18.59l7.72-7.72 1.47 1.35L5.41 20z\"/>\n",
              "  </svg>\n",
              "      </button>\n",
              "      \n",
              "  <style>\n",
              "    .colab-df-container {\n",
              "      display:flex;\n",
              "      flex-wrap:wrap;\n",
              "      gap: 12px;\n",
              "    }\n",
              "\n",
              "    .colab-df-convert {\n",
              "      background-color: #E8F0FE;\n",
              "      border: none;\n",
              "      border-radius: 50%;\n",
              "      cursor: pointer;\n",
              "      display: none;\n",
              "      fill: #1967D2;\n",
              "      height: 32px;\n",
              "      padding: 0 0 0 0;\n",
              "      width: 32px;\n",
              "    }\n",
              "\n",
              "    .colab-df-convert:hover {\n",
              "      background-color: #E2EBFA;\n",
              "      box-shadow: 0px 1px 2px rgba(60, 64, 67, 0.3), 0px 1px 3px 1px rgba(60, 64, 67, 0.15);\n",
              "      fill: #174EA6;\n",
              "    }\n",
              "\n",
              "    [theme=dark] .colab-df-convert {\n",
              "      background-color: #3B4455;\n",
              "      fill: #D2E3FC;\n",
              "    }\n",
              "\n",
              "    [theme=dark] .colab-df-convert:hover {\n",
              "      background-color: #434B5C;\n",
              "      box-shadow: 0px 1px 3px 1px rgba(0, 0, 0, 0.15);\n",
              "      filter: drop-shadow(0px 1px 2px rgba(0, 0, 0, 0.3));\n",
              "      fill: #FFFFFF;\n",
              "    }\n",
              "  </style>\n",
              "\n",
              "      <script>\n",
              "        const buttonEl =\n",
              "          document.querySelector('#df-83003228-95a5-444c-aba0-772cd89551d5 button.colab-df-convert');\n",
              "        buttonEl.style.display =\n",
              "          google.colab.kernel.accessAllowed ? 'block' : 'none';\n",
              "\n",
              "        async function convertToInteractive(key) {\n",
              "          const element = document.querySelector('#df-83003228-95a5-444c-aba0-772cd89551d5');\n",
              "          const dataTable =\n",
              "            await google.colab.kernel.invokeFunction('convertToInteractive',\n",
              "                                                     [key], {});\n",
              "          if (!dataTable) return;\n",
              "\n",
              "          const docLinkHtml = 'Like what you see? Visit the ' +\n",
              "            '<a target=\"_blank\" href=https://colab.research.google.com/notebooks/data_table.ipynb>data table notebook</a>'\n",
              "            + ' to learn more about interactive tables.';\n",
              "          element.innerHTML = '';\n",
              "          dataTable['output_type'] = 'display_data';\n",
              "          await google.colab.output.renderOutput(dataTable, element);\n",
              "          const docLink = document.createElement('div');\n",
              "          docLink.innerHTML = docLinkHtml;\n",
              "          element.appendChild(docLink);\n",
              "        }\n",
              "      </script>\n",
              "    </div>\n",
              "  </div>\n",
              "  "
            ]
          },
          "metadata": {},
          "execution_count": 86
        }
      ]
    },
    {
      "cell_type": "code",
      "source": [
        ""
      ],
      "metadata": {
        "id": "uzqu427ygjRG"
      },
      "execution_count": null,
      "outputs": []
    }
  ]
}